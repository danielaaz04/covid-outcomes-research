{
 "cells": [
  {
   "cell_type": "code",
   "execution_count": 1,
   "id": "5e32dea9",
   "metadata": {},
   "outputs": [
    {
     "name": "stdout",
     "output_type": "stream",
     "text": [
      "D:\\DANIELA\\Projects\\WIDS\\covid-outcomes-research\n"
     ]
    }
   ],
   "source": [
    "import os\n",
    "import sys\n",
    "\n",
    "import numpy as np\n",
    "import pandas as pd\n",
    "import scipy as sp\n",
    "\n",
    "import seaborn as sns\n",
    "import matplotlib.pyplot as plt\n",
    "\n",
    "PROJ_ROOT =  os.path.join(os.pardir)\n",
    "\n",
    "print(os.path.abspath(PROJ_ROOT))"
   ]
  },
  {
   "cell_type": "code",
   "execution_count": 2,
   "id": "ae895317",
   "metadata": {},
   "outputs": [
    {
     "name": "stdout",
     "output_type": "stream",
     "text": [
      "Requirement already satisfied: watermark in c:\\users\\danie\\anaconda3\\lib\\site-packages (2.3.0)\n",
      "Requirement already satisfied: ipython in c:\\users\\danie\\anaconda3\\lib\\site-packages (from watermark) (8.2.0)\n",
      "Requirement already satisfied: pygments>=2.4.0 in c:\\users\\danie\\anaconda3\\lib\\site-packages (from ipython->watermark) (2.11.2)\n",
      "Requirement already satisfied: jedi>=0.16 in c:\\users\\danie\\anaconda3\\lib\\site-packages (from ipython->watermark) (0.18.1)\n",
      "Requirement already satisfied: pickleshare in c:\\users\\danie\\anaconda3\\lib\\site-packages (from ipython->watermark) (0.7.5)\n",
      "Requirement already satisfied: decorator in c:\\users\\danie\\anaconda3\\lib\\site-packages (from ipython->watermark) (5.1.1)\n",
      "Requirement already satisfied: matplotlib-inline in c:\\users\\danie\\anaconda3\\lib\\site-packages (from ipython->watermark) (0.1.2)\n",
      "Requirement already satisfied: stack-data in c:\\users\\danie\\anaconda3\\lib\\site-packages (from ipython->watermark) (0.2.0)\n",
      "Requirement already satisfied: prompt-toolkit!=3.0.0,!=3.0.1,<3.1.0,>=2.0.0 in c:\\users\\danie\\anaconda3\\lib\\site-packages (from ipython->watermark) (3.0.20)\n",
      "Requirement already satisfied: backcall in c:\\users\\danie\\anaconda3\\lib\\site-packages (from ipython->watermark) (0.2.0)\n",
      "Requirement already satisfied: setuptools>=18.5 in c:\\users\\danie\\anaconda3\\lib\\site-packages (from ipython->watermark) (58.0.4)\n",
      "Requirement already satisfied: traitlets>=5 in c:\\users\\danie\\anaconda3\\lib\\site-packages (from ipython->watermark) (5.1.1)\n",
      "Requirement already satisfied: colorama in c:\\users\\danie\\anaconda3\\lib\\site-packages (from ipython->watermark) (0.4.4)\n",
      "Requirement already satisfied: parso<0.9.0,>=0.8.0 in c:\\users\\danie\\anaconda3\\lib\\site-packages (from jedi>=0.16->ipython->watermark) (0.8.3)\n",
      "Requirement already satisfied: wcwidth in c:\\users\\danie\\anaconda3\\lib\\site-packages (from prompt-toolkit!=3.0.0,!=3.0.1,<3.1.0,>=2.0.0->ipython->watermark) (0.2.5)\n",
      "Requirement already satisfied: pure-eval in c:\\users\\danie\\anaconda3\\lib\\site-packages (from stack-data->ipython->watermark) (0.2.2)\n",
      "Requirement already satisfied: asttokens in c:\\users\\danie\\anaconda3\\lib\\site-packages (from stack-data->ipython->watermark) (2.0.5)\n",
      "Requirement already satisfied: executing in c:\\users\\danie\\anaconda3\\lib\\site-packages (from stack-data->ipython->watermark) (0.8.3)\n",
      "Requirement already satisfied: six in c:\\users\\danie\\anaconda3\\lib\\site-packages (from asttokens->stack-data->ipython->watermark) (1.16.0)\n"
     ]
    }
   ],
   "source": [
    "#Let your audience know when this notebook was run, and with which packages. Useful when you are not sharing the notebook as\n",
    "#executable code.\n",
    "\n",
    "!pip install watermark"
   ]
  },
  {
   "cell_type": "code",
   "execution_count": 3,
   "id": "fbae06b4",
   "metadata": {},
   "outputs": [],
   "source": [
    "%load_ext watermark"
   ]
  },
  {
   "cell_type": "code",
   "execution_count": 4,
   "id": "b18be00f",
   "metadata": {},
   "outputs": [
    {
     "name": "stdout",
     "output_type": "stream",
     "text": [
      "Author: Daniela Alvarez Zegarra\n",
      "\n",
      "Python implementation: CPython\n",
      "Python version       : 3.9.7\n",
      "IPython version      : 8.2.0\n",
      "\n",
      "numpy : 1.20.3\n",
      "pandas: 1.4.1\n",
      "\n"
     ]
    }
   ],
   "source": [
    "%watermark -a \"Xu Wang\" -d -t -v -p numpy,pandas"
   ]
  },
  {
   "cell_type": "code",
   "execution_count": 5,
   "id": "866a1ae5",
   "metadata": {},
   "outputs": [],
   "source": [
    "#Documentation to know what other info can i get with watermark\n",
    "\n",
    "%watermark?"
   ]
  },
  {
   "cell_type": "code",
   "execution_count": 6,
   "id": "c77e6d8b",
   "metadata": {},
   "outputs": [
    {
     "name": "stdout",
     "output_type": "stream",
     "text": [
      "# local package\n",
      "-e .\n",
      "\n",
      "# external requirements\n",
      "click\n",
      "Sphinx\n",
      "coverage\n",
      "awscli\n",
      "flake8\n",
      "python-dotenv>=0.5.1\n",
      "jupyter\n",
      "ipython\n",
      "numpy\n",
      "pandas\n",
      "matplotlib\n",
      "scikit-learn\n",
      "scipy\n",
      "pytest\n",
      "nbdime\n",
      "runipy\n",
      "seaborn\n"
     ]
    }
   ],
   "source": [
    "#Let's print our requirements\n",
    "\n",
    "print(open(os.path.join(PROJ_ROOT,'requirements.txt')).read())"
   ]
  },
  {
   "cell_type": "markdown",
   "id": "b097a11f",
   "metadata": {},
   "source": [
    "## Loading the Data"
   ]
  },
  {
   "cell_type": "code",
   "execution_count": 7,
   "id": "f73b99ad",
   "metadata": {},
   "outputs": [],
   "source": [
    "covid_path = os.path.join(PROJ_ROOT,\n",
    "                          \"data\",\n",
    "                          \"raw\",\n",
    "                          \"dataset.csv\")\n",
    "\n",
    "dictionary_path = os.path.join(PROJ_ROOT,\n",
    "                          \"data\",\n",
    "                          \"raw\",\n",
    "                          \"data_dictionary.csv\")"
   ]
  },
  {
   "cell_type": "code",
   "execution_count": 8,
   "id": "48fc5b3c",
   "metadata": {},
   "outputs": [],
   "source": [
    "df = pd.read_csv(covid_path)\n",
    "dictionary = pd.read_csv(dictionary_path)"
   ]
  },
  {
   "cell_type": "code",
   "execution_count": 10,
   "id": "21fb4fa3",
   "metadata": {},
   "outputs": [
    {
     "name": "stdout",
     "output_type": "stream",
     "text": [
      "<class 'pandas.core.frame.DataFrame'>\n",
      "RangeIndex: 3140 entries, 0 to 3139\n",
      "Data columns (total 93 columns):\n",
      " #   Column                                                                         Non-Null Count  Dtype  \n",
      "---  ------                                                                         --------------  -----  \n",
      " 0   Unnamed: 0                                                                     3140 non-null   int64  \n",
      " 1   fips                                                                           3140 non-null   int64  \n",
      " 2   TOT_POP                                                                        3140 non-null   int64  \n",
      " 3   0-9                                                                            3140 non-null   int64  \n",
      " 4   0-9 y/o % of total pop                                                         3140 non-null   float64\n",
      " 5   10-19                                                                          3140 non-null   int64  \n",
      " 6   10-19 y/o % of total pop                                                       3140 non-null   float64\n",
      " 7   20-29                                                                          3140 non-null   int64  \n",
      " 8   20-29 y/o % of total pop                                                       3140 non-null   float64\n",
      " 9   30-39                                                                          3140 non-null   int64  \n",
      " 10  30-39 y/o % of total pop                                                       3140 non-null   float64\n",
      " 11  40-49                                                                          3140 non-null   int64  \n",
      " 12  40-49 y/o % of total pop                                                       3140 non-null   float64\n",
      " 13  50-59                                                                          3140 non-null   int64  \n",
      " 14  50-59 y/o % of total pop                                                       3140 non-null   float64\n",
      " 15  60-69                                                                          3140 non-null   int64  \n",
      " 16  60-69 y/o % of total pop                                                       3140 non-null   float64\n",
      " 17  70-79                                                                          3140 non-null   int64  \n",
      " 18  70-79 y/o % of total pop                                                       3140 non-null   float64\n",
      " 19  80+                                                                            3140 non-null   int64  \n",
      " 20  80+ y/o % of total pop                                                         3140 non-null   float64\n",
      " 21  White-alone pop                                                                3140 non-null   int64  \n",
      " 22  % White-alone                                                                  3140 non-null   float64\n",
      " 23  Black-alone pop                                                                3140 non-null   int64  \n",
      " 24  % Black-alone                                                                  3140 non-null   float64\n",
      " 25  Native American/American Indian-alone pop                                      3140 non-null   int64  \n",
      " 26  % NA/AI-alone                                                                  3140 non-null   float64\n",
      " 27  Asian-alone pop                                                                3140 non-null   int64  \n",
      " 28  % Asian-alone                                                                  3140 non-null   float64\n",
      " 29  Hawaiian/Pacific Islander-alone pop                                            3140 non-null   int64  \n",
      " 30  % Hawaiian/PI-alone                                                            3140 non-null   float64\n",
      " 31  Two or more races pop                                                          3140 non-null   int64  \n",
      " 32  % Two or more races                                                            3140 non-null   float64\n",
      " 33  POP_ESTIMATE_2018                                                              3140 non-null   int64  \n",
      " 34  N_POP_CHG_2018                                                                 3140 non-null   float64\n",
      " 35  GQ_ESTIMATES_2018                                                              3140 non-null   float64\n",
      " 36  R_birth_2018                                                                   3140 non-null   float64\n",
      " 37  R_death_2018                                                                   3140 non-null   float64\n",
      " 38  R_NATURAL_INC_2018                                                             3140 non-null   float64\n",
      " 39  R_INTERNATIONAL_MIG_2018                                                       3140 non-null   float64\n",
      " 40  R_DOMESTIC_MIG_2018                                                            3140 non-null   float64\n",
      " 41  R_NET_MIG_2018                                                                 3140 non-null   float64\n",
      " 42  Less than a high school diploma 2014-18                                        3140 non-null   int64  \n",
      " 43  High school diploma only 2014-18                                               3140 non-null   int64  \n",
      " 44  Some college or associate's degree 2014-18                                     3140 non-null   int64  \n",
      " 45  Bachelor's degree or higher 2014-18                                            3140 non-null   int64  \n",
      " 46  Percent of adults with less than a high school diploma 2014-18                 3140 non-null   float64\n",
      " 47  Percent of adults with a high school diploma only 2014-18                      3140 non-null   float64\n",
      " 48  Percent of adults completing some college or associate's degree 2014-18        3140 non-null   float64\n",
      " 49  Percent of adults with a bachelor's degree or higher 2014-18                   3140 non-null   float64\n",
      " 50  POVALL_2018                                                                    3140 non-null   float64\n",
      " 51  PCTPOVALL_2018                                                                 3140 non-null   float64\n",
      " 52  PCTPOV017_2018                                                                 3140 non-null   float64\n",
      " 53  PCTPOV517_2018                                                                 3140 non-null   float64\n",
      " 54  MEDHHINC_2018                                                                  3140 non-null   float64\n",
      " 55  CI90LBINC_2018                                                                 3140 non-null   float64\n",
      " 56  CI90UBINC_2018                                                                 3140 non-null   float64\n",
      " 57  Civilian_labor_force_2018                                                      3140 non-null   float64\n",
      " 58  Employed_2018                                                                  3140 non-null   float64\n",
      " 59  Unemployed_2018                                                                3140 non-null   float64\n",
      " 60  Unemployment_rate_2018                                                         3140 non-null   float64\n",
      " 61  Median_Household_Income_2018                                                   3140 non-null   float64\n",
      " 62  Med_HH_Income_Percent_of_State_Total_2018                                      3140 non-null   float64\n",
      " 63  Jan Precipitation / inch                                                       3140 non-null   float64\n",
      " 64  Feb Precipitation / inch                                                       3140 non-null   float64\n",
      " 65  Mar Precipitation / inch                                                       3140 non-null   float64\n",
      " 66  Apr Precipitation / inch                                                       3140 non-null   float64\n",
      " 67  May Precipitation / inch                                                       3140 non-null   float64\n",
      " 68  Jun Precipitation / inch                                                       3140 non-null   float64\n",
      " 69  Jul Precipitation / inch                                                       3140 non-null   float64\n",
      " 70  Jan Temp AVG / F                                                               3140 non-null   float64\n",
      " 71  Feb Temp AVG / F                                                               3140 non-null   float64\n",
      " 72  Mar Temp AVG / F                                                               3140 non-null   float64\n",
      " 73  Apr Temp AVG / F                                                               3140 non-null   float64\n",
      " 74  May Temp AVG / F                                                               3140 non-null   float64\n",
      " 75  Jun Temp AVG / F                                                               3140 non-null   float64\n",
      " 76  Jul Temp AVG / F                                                               3140 non-null   float64\n",
      " 77  Active Physicians per 100000 Population 2018 (AAMC)                            3140 non-null   float64\n",
      " 78  Total Active Patient Care Physicians per 100000 Population 2018 (AAMC)         3140 non-null   float64\n",
      " 79  Active Primary Care Physicians per 100000 Population 2018 (AAMC)               3140 non-null   float64\n",
      " 80  Active Patient Care Primary Care Physicians per 100000 Population 2018 (AAMC)  3140 non-null   float64\n",
      " 81  Active General Surgeons per 100000 Population 2018 (AAMC)                      3140 non-null   float64\n",
      " 82  Active Patient Care General Surgeons per 100000 Population 2018 (AAMC)         3140 non-null   float64\n",
      " 83  Total nurse practitioners (2019)                                               3140 non-null   float64\n",
      " 84  Total physician assistants (2019)                                              3140 non-null   float64\n",
      " 85  Total Hospitals (2019)                                                         3140 non-null   float64\n",
      " 86  Internal Medicine Primary Care (2019)                                          3140 non-null   float64\n",
      " 87  Family Medicine/General Practice Primary Care (2019)                           3140 non-null   float64\n",
      " 88  Total Specialist Physicians (2019)                                             3140 non-null   float64\n",
      " 89  ICU Beds_x                                                                     3140 non-null   float64\n",
      " 90  Total Population                                                               3140 non-null   int64  \n",
      " 91  Population Aged 60+                                                            3140 non-null   int64  \n",
      " 92  Percent of Population Aged 60+                                                 3140 non-null   float64\n",
      "dtypes: float64(68), int64(25)\n",
      "memory usage: 2.2 MB\n"
     ]
    }
   ],
   "source": [
    "df.info()"
   ]
  },
  {
   "cell_type": "code",
   "execution_count": 26,
   "id": "aae81329",
   "metadata": {},
   "outputs": [
    {
     "data": {
      "text/html": [
       "<div>\n",
       "<style scoped>\n",
       "    .dataframe tbody tr th:only-of-type {\n",
       "        vertical-align: middle;\n",
       "    }\n",
       "\n",
       "    .dataframe tbody tr th {\n",
       "        vertical-align: top;\n",
       "    }\n",
       "\n",
       "    .dataframe thead th {\n",
       "        text-align: right;\n",
       "    }\n",
       "</style>\n",
       "<table border=\"1\" class=\"dataframe\">\n",
       "  <thead>\n",
       "    <tr style=\"text-align: right;\">\n",
       "      <th></th>\n",
       "      <th>Feature</th>\n",
       "      <th>Description</th>\n",
       "      <th>NOTE: There are other possible features that can be included i.e. number of housing units, density of housing units, marital status, immigration, % rural/urban, but these are not available for every single county in the US so they are not used in the model. Additionally, the fips column is dropped before the model is run and added back afterwards.</th>\n",
       "    </tr>\n",
       "  </thead>\n",
       "  <tbody>\n",
       "    <tr>\n",
       "      <th>0</th>\n",
       "      <td>fips</td>\n",
       "      <td>FIPS Code for the County</td>\n",
       "      <td>NaN</td>\n",
       "    </tr>\n",
       "    <tr>\n",
       "      <th>1</th>\n",
       "      <td>TOT_POP</td>\n",
       "      <td>Total Population</td>\n",
       "      <td>This data as well as all Age and Race data is ...</td>\n",
       "    </tr>\n",
       "    <tr>\n",
       "      <th>2</th>\n",
       "      <td>0-9</td>\n",
       "      <td>Population aged 0-9</td>\n",
       "      <td>All of the other age columns are the same but ...</td>\n",
       "    </tr>\n",
       "    <tr>\n",
       "      <th>3</th>\n",
       "      <td>0-9 y/o % of total pop</td>\n",
       "      <td>% of the population aged 0-9</td>\n",
       "      <td>NaN</td>\n",
       "    </tr>\n",
       "    <tr>\n",
       "      <th>4</th>\n",
       "      <td>10-19</td>\n",
       "      <td>NaN</td>\n",
       "      <td>NaN</td>\n",
       "    </tr>\n",
       "  </tbody>\n",
       "</table>\n",
       "</div>"
      ],
      "text/plain": [
       "                  Feature                   Description  \\\n",
       "0                    fips      FIPS Code for the County   \n",
       "1                 TOT_POP              Total Population   \n",
       "2                     0-9           Population aged 0-9   \n",
       "3  0-9 y/o % of total pop  % of the population aged 0-9   \n",
       "4                   10-19                           NaN   \n",
       "\n",
       "  NOTE: There are other possible features that can be included i.e. number of housing units, density of housing units, marital status, immigration, % rural/urban, but these are not available for every single county in the US so they are not used in the model. Additionally, the fips column is dropped before the model is run and added back afterwards.  \n",
       "0                                                NaN                                                                                                                                                                                                                                                                                                             \n",
       "1  This data as well as all Age and Race data is ...                                                                                                                                                                                                                                                                                                             \n",
       "2  All of the other age columns are the same but ...                                                                                                                                                                                                                                                                                                             \n",
       "3                                                NaN                                                                                                                                                                                                                                                                                                             \n",
       "4                                                NaN                                                                                                                                                                                                                                                                                                             "
      ]
     },
     "execution_count": 26,
     "metadata": {},
     "output_type": "execute_result"
    }
   ],
   "source": [
    "dictionary.head()"
   ]
  },
  {
   "cell_type": "code",
   "execution_count": 27,
   "id": "0605dc17",
   "metadata": {},
   "outputs": [
    {
     "data": {
      "text/html": [
       "<div>\n",
       "<style scoped>\n",
       "    .dataframe tbody tr th:only-of-type {\n",
       "        vertical-align: middle;\n",
       "    }\n",
       "\n",
       "    .dataframe tbody tr th {\n",
       "        vertical-align: top;\n",
       "    }\n",
       "\n",
       "    .dataframe thead th {\n",
       "        text-align: right;\n",
       "    }\n",
       "</style>\n",
       "<table border=\"1\" class=\"dataframe\">\n",
       "  <thead>\n",
       "    <tr style=\"text-align: right;\">\n",
       "      <th></th>\n",
       "      <th>Unnamed: 0</th>\n",
       "      <th>fips</th>\n",
       "      <th>TOT_POP</th>\n",
       "      <th>0-9</th>\n",
       "      <th>0-9 y/o % of total pop</th>\n",
       "      <th>10-19</th>\n",
       "      <th>10-19 y/o % of total pop</th>\n",
       "      <th>20-29</th>\n",
       "      <th>20-29 y/o % of total pop</th>\n",
       "      <th>30-39</th>\n",
       "      <th>...</th>\n",
       "      <th>Total nurse practitioners (2019)</th>\n",
       "      <th>Total physician assistants (2019)</th>\n",
       "      <th>Total Hospitals (2019)</th>\n",
       "      <th>Internal Medicine Primary Care (2019)</th>\n",
       "      <th>Family Medicine/General Practice Primary Care (2019)</th>\n",
       "      <th>Total Specialist Physicians (2019)</th>\n",
       "      <th>ICU Beds_x</th>\n",
       "      <th>Total Population</th>\n",
       "      <th>Population Aged 60+</th>\n",
       "      <th>Percent of Population Aged 60+</th>\n",
       "    </tr>\n",
       "  </thead>\n",
       "  <tbody>\n",
       "    <tr>\n",
       "      <th>0</th>\n",
       "      <td>0</td>\n",
       "      <td>1001</td>\n",
       "      <td>55601</td>\n",
       "      <td>6787</td>\n",
       "      <td>12.206615</td>\n",
       "      <td>7637</td>\n",
       "      <td>13.735364</td>\n",
       "      <td>6878</td>\n",
       "      <td>12.370281</td>\n",
       "      <td>7089</td>\n",
       "      <td>...</td>\n",
       "      <td>28.859137</td>\n",
       "      <td>6.085786</td>\n",
       "      <td>1.148905</td>\n",
       "      <td>25.992561</td>\n",
       "      <td>21.249061</td>\n",
       "      <td>72.142154</td>\n",
       "      <td>6.0</td>\n",
       "      <td>55036</td>\n",
       "      <td>10523</td>\n",
       "      <td>19.1</td>\n",
       "    </tr>\n",
       "    <tr>\n",
       "      <th>1</th>\n",
       "      <td>1</td>\n",
       "      <td>1003</td>\n",
       "      <td>218022</td>\n",
       "      <td>24757</td>\n",
       "      <td>11.355276</td>\n",
       "      <td>26913</td>\n",
       "      <td>12.344167</td>\n",
       "      <td>23579</td>\n",
       "      <td>10.814964</td>\n",
       "      <td>25213</td>\n",
       "      <td>...</td>\n",
       "      <td>113.162114</td>\n",
       "      <td>23.863512</td>\n",
       "      <td>4.505074</td>\n",
       "      <td>101.921730</td>\n",
       "      <td>83.321572</td>\n",
       "      <td>282.882982</td>\n",
       "      <td>51.0</td>\n",
       "      <td>203360</td>\n",
       "      <td>53519</td>\n",
       "      <td>26.3</td>\n",
       "    </tr>\n",
       "    <tr>\n",
       "      <th>2</th>\n",
       "      <td>2</td>\n",
       "      <td>1005</td>\n",
       "      <td>24881</td>\n",
       "      <td>2732</td>\n",
       "      <td>10.980266</td>\n",
       "      <td>2960</td>\n",
       "      <td>11.896628</td>\n",
       "      <td>3268</td>\n",
       "      <td>13.134520</td>\n",
       "      <td>3201</td>\n",
       "      <td>...</td>\n",
       "      <td>12.914231</td>\n",
       "      <td>2.723340</td>\n",
       "      <td>0.514126</td>\n",
       "      <td>11.631462</td>\n",
       "      <td>9.508784</td>\n",
       "      <td>32.283033</td>\n",
       "      <td>5.0</td>\n",
       "      <td>26201</td>\n",
       "      <td>6150</td>\n",
       "      <td>23.5</td>\n",
       "    </tr>\n",
       "    <tr>\n",
       "      <th>3</th>\n",
       "      <td>3</td>\n",
       "      <td>1007</td>\n",
       "      <td>22400</td>\n",
       "      <td>2456</td>\n",
       "      <td>10.964286</td>\n",
       "      <td>2596</td>\n",
       "      <td>11.589286</td>\n",
       "      <td>3029</td>\n",
       "      <td>13.522321</td>\n",
       "      <td>3113</td>\n",
       "      <td>...</td>\n",
       "      <td>11.626493</td>\n",
       "      <td>2.451783</td>\n",
       "      <td>0.462860</td>\n",
       "      <td>10.471635</td>\n",
       "      <td>8.560619</td>\n",
       "      <td>29.063942</td>\n",
       "      <td>0.0</td>\n",
       "      <td>22580</td>\n",
       "      <td>4773</td>\n",
       "      <td>21.1</td>\n",
       "    </tr>\n",
       "    <tr>\n",
       "      <th>4</th>\n",
       "      <td>4</td>\n",
       "      <td>1009</td>\n",
       "      <td>57840</td>\n",
       "      <td>7095</td>\n",
       "      <td>12.266598</td>\n",
       "      <td>7570</td>\n",
       "      <td>13.087828</td>\n",
       "      <td>6742</td>\n",
       "      <td>11.656293</td>\n",
       "      <td>6884</td>\n",
       "      <td>...</td>\n",
       "      <td>30.021267</td>\n",
       "      <td>6.330854</td>\n",
       "      <td>1.195171</td>\n",
       "      <td>27.039257</td>\n",
       "      <td>22.104740</td>\n",
       "      <td>75.047251</td>\n",
       "      <td>6.0</td>\n",
       "      <td>57667</td>\n",
       "      <td>13600</td>\n",
       "      <td>23.6</td>\n",
       "    </tr>\n",
       "  </tbody>\n",
       "</table>\n",
       "<p>5 rows × 93 columns</p>\n",
       "</div>"
      ],
      "text/plain": [
       "   Unnamed: 0  fips  TOT_POP    0-9  0-9 y/o % of total pop  10-19  \\\n",
       "0           0  1001    55601   6787               12.206615   7637   \n",
       "1           1  1003   218022  24757               11.355276  26913   \n",
       "2           2  1005    24881   2732               10.980266   2960   \n",
       "3           3  1007    22400   2456               10.964286   2596   \n",
       "4           4  1009    57840   7095               12.266598   7570   \n",
       "\n",
       "   10-19 y/o % of total pop  20-29  20-29 y/o % of total pop  30-39  ...  \\\n",
       "0                 13.735364   6878                 12.370281   7089  ...   \n",
       "1                 12.344167  23579                 10.814964  25213  ...   \n",
       "2                 11.896628   3268                 13.134520   3201  ...   \n",
       "3                 11.589286   3029                 13.522321   3113  ...   \n",
       "4                 13.087828   6742                 11.656293   6884  ...   \n",
       "\n",
       "   Total nurse practitioners (2019)  Total physician assistants (2019)  \\\n",
       "0                         28.859137                           6.085786   \n",
       "1                        113.162114                          23.863512   \n",
       "2                         12.914231                           2.723340   \n",
       "3                         11.626493                           2.451783   \n",
       "4                         30.021267                           6.330854   \n",
       "\n",
       "   Total Hospitals (2019)  Internal Medicine Primary Care (2019)  \\\n",
       "0                1.148905                              25.992561   \n",
       "1                4.505074                             101.921730   \n",
       "2                0.514126                              11.631462   \n",
       "3                0.462860                              10.471635   \n",
       "4                1.195171                              27.039257   \n",
       "\n",
       "   Family Medicine/General Practice Primary Care (2019)  \\\n",
       "0                                          21.249061      \n",
       "1                                          83.321572      \n",
       "2                                           9.508784      \n",
       "3                                           8.560619      \n",
       "4                                          22.104740      \n",
       "\n",
       "   Total Specialist Physicians (2019)  ICU Beds_x  Total Population  \\\n",
       "0                           72.142154         6.0             55036   \n",
       "1                          282.882982        51.0            203360   \n",
       "2                           32.283033         5.0             26201   \n",
       "3                           29.063942         0.0             22580   \n",
       "4                           75.047251         6.0             57667   \n",
       "\n",
       "   Population Aged 60+  Percent of Population Aged 60+  \n",
       "0                10523                            19.1  \n",
       "1                53519                            26.3  \n",
       "2                 6150                            23.5  \n",
       "3                 4773                            21.1  \n",
       "4                13600                            23.6  \n",
       "\n",
       "[5 rows x 93 columns]"
      ]
     },
     "execution_count": 27,
     "metadata": {},
     "output_type": "execute_result"
    }
   ],
   "source": [
    "df.head()"
   ]
  },
  {
   "cell_type": "markdown",
   "id": "62f497e0",
   "metadata": {},
   "source": [
    "# Milestone I: Exploratory data analysis"
   ]
  },
  {
   "cell_type": "code",
   "execution_count": 14,
   "id": "91c60a90",
   "metadata": {},
   "outputs": [
    {
     "data": {
      "text/plain": [
       "1001     1\n",
       "39091    1\n",
       "39095    1\n",
       "39097    1\n",
       "39099    1\n",
       "        ..\n",
       "21115    1\n",
       "21117    1\n",
       "21119    1\n",
       "21121    1\n",
       "56045    1\n",
       "Name: fips, Length: 3140, dtype: int64"
      ]
     },
     "execution_count": 14,
     "metadata": {},
     "output_type": "execute_result"
    }
   ],
   "source": [
    "df['fips'].value_counts()"
   ]
  },
  {
   "cell_type": "markdown",
   "id": "b6c7c1ea",
   "metadata": {},
   "source": [
    "## Data Cleaning"
   ]
  },
  {
   "cell_type": "code",
   "execution_count": 28,
   "id": "3ff46c72",
   "metadata": {},
   "outputs": [],
   "source": [
    "#for eda\n",
    "\n",
    "def kde_plot(dataframe, variable, upper=None, lower=None, bw=0.1):\n",
    "    '''Plots a density plot for a variable with optional upper and lower bounds on the data (inclusive)'''\n",
    "    \n",
    "    plot_data = dataframe [variable]\n",
    "    \n",
    "    if upper is not None:\n",
    "        plot_data = plot_data[plot_data <= upper]\n",
    "    if lower is not None:\n",
    "        plot_data = plot_data[plot_data >= lower]\n",
    "        \n",
    "    sns.kdeplot(plot_data, bw=bw)\n",
    "    \n",
    "    plt.savefig(os.path.join(PROJ_ROOT, \"reports\", \"figures\",\"{}.png\".format(variable)))\n",
    "    plt.show()\n"
   ]
  },
  {
   "cell_type": "code",
   "execution_count": 30,
   "id": "68f0007d",
   "metadata": {},
   "outputs": [
    {
     "name": "stderr",
     "output_type": "stream",
     "text": [
      "C:\\Users\\danie\\AppData\\Local\\Programs\\Python\\Python310\\lib\\site-packages\\seaborn\\distributions.py:1699: FutureWarning: The `bw` parameter is deprecated in favor of `bw_method` and `bw_adjust`. Using 0.1 for `bw_method`, but please see the docs for the new parameters and update your code.\n",
      "  warnings.warn(msg, FutureWarning)\n"
     ]
    },
    {
     "data": {
      "image/png": "[encoded data removed]",
      "text/plain": [
       "<Figure size 432x288 with 1 Axes>"
      ]
     },
     "metadata": {
      "needs_background": "light"
     },
     "output_type": "display_data"
    }
   ],
   "source": [
    "kde_plot(df, 'TOT_POP')"
   ]
  },
  {
   "cell_type": "code",
   "execution_count": 31,
   "id": "a9b202f4",
   "metadata": {},
   "outputs": [
    {
     "name": "stderr",
     "output_type": "stream",
     "text": [
      "C:\\Users\\danie\\AppData\\Local\\Programs\\Python\\Python310\\lib\\site-packages\\seaborn\\distributions.py:1699: FutureWarning: The `bw` parameter is deprecated in favor of `bw_method` and `bw_adjust`. Using 0.1 for `bw_method`, but please see the docs for the new parameters and update your code.\n",
      "  warnings.warn(msg, FutureWarning)\n"
     ]
    },
    {
     "data": {
      "image/png": "[encoded data removed]",
      "text/plain": [
       "<Figure size 432x288 with 1 Axes>"
      ]
     },
     "metadata": {
      "needs_background": "light"
     },
     "output_type": "display_data"
    }
   ],
   "source": [
    "kde_plot(df, 'R_death_2018')"
   ]
  },
  {
   "cell_type": "markdown",
   "id": "f8062fb3",
   "metadata": {},
   "source": [
    "**Loading local development files**\n",
    "If I am just loading local python files that I expect to use in this project, I add the src folder to the python  path using\n",
    "sys.path.append. This tells Python to look in that folder for modules that we can import. This works well for local code and notebooks."
   ]
  },
  {
   "cell_type": "code",
   "execution_count": null,
   "id": "cfc1b389",
   "metadata": {},
   "outputs": [],
   "source": [
    "#Load the autoreload extension\n",
    "%load_ext autoreload\n",
    "\n",
    "#always reload modules marked with %aimport\n",
    "%autoreload 1\n",
    "\n",
    "#add local python functions\n",
    "import os\n",
    "import sys\n",
    "\n",
    "#add the src directory as one where we can import modules from\n",
    "src_dir = os.path.join(os.getcwd(),os.pardir,\"src\")\n",
    "sys.path.append(src_dir)\n",
    "\n",
    "#import my method from the source code\n",
    "%aimport features.build_features\n",
    "from features.build_features import join_dataframes\n",
    "from features.build_features import remove_invalid_data"
   ]
  },
  {
   "cell_type": "markdown",
   "id": "91ddb4f4",
   "metadata": {},
   "source": [
    "**#lifehack If something goes wrong, use %debug**"
   ]
  }
 ],
 "metadata": {
  "kernelspec": {
   "display_name": "Python 3 (ipykernel)",
   "language": "python",
   "name": "python3"
  },
  "language_info": {
   "codemirror_mode": {
    "name": "ipython",
    "version": 3
   },
   "file_extension": ".py",
   "mimetype": "text/x-python",
   "name": "python",
   "nbconvert_exporter": "python",
   "pygments_lexer": "ipython3",
   "version": "3.9.7"
  }
 },
 "nbformat": 4,
 "nbformat_minor": 5
}
