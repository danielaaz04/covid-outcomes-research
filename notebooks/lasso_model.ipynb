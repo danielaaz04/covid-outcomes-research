{
 "cells": [
  {
   "cell_type": "code",
   "execution_count": 1,
   "id": "5e32dea9",
   "metadata": {},
   "outputs": [
    {
     "name": "stdout",
     "output_type": "stream",
     "text": [
      "d:\\DANIELA\\Projects\\WIDS\\covid-outcomes-research\n"
     ]
    }
   ],
   "source": [
    "import os\n",
    "import sys\n",
    "\n",
    "import numpy as np\n",
    "import pandas as pd\n",
    "import scipy as sp\n",
    "\n",
    "import seaborn as sns\n",
    "import matplotlib.pyplot as plt\n",
    "\n",
    "PROJ_ROOT =  os.path.join(os.pardir)\n",
    "\n",
    "print(os.path.abspath(PROJ_ROOT))"
   ]
  },
  {
   "cell_type": "code",
   "execution_count": 2,
   "id": "ae895317",
   "metadata": {},
   "outputs": [
    {
     "name": "stdout",
     "output_type": "stream",
     "text": [
      "Requirement already satisfied: watermark in c:\\users\\danie\\anaconda3\\envs\\covid-outcomes-research\\lib\\site-packages (2.3.0)\n",
      "Requirement already satisfied: ipython in c:\\users\\danie\\anaconda3\\envs\\covid-outcomes-research\\lib\\site-packages (from watermark) (8.3.0)\n",
      "Requirement already satisfied: pickleshare in c:\\users\\danie\\anaconda3\\envs\\covid-outcomes-research\\lib\\site-packages (from ipython->watermark) (0.7.5)\n",
      "Requirement already satisfied: setuptools>=18.5 in c:\\users\\danie\\anaconda3\\envs\\covid-outcomes-research\\lib\\site-packages (from ipython->watermark) (61.2.0)\n",
      "Requirement already satisfied: stack-data in c:\\users\\danie\\anaconda3\\envs\\covid-outcomes-research\\lib\\site-packages (from ipython->watermark) (0.2.0)\n",
      "Requirement already satisfied: matplotlib-inline in c:\\users\\danie\\anaconda3\\envs\\covid-outcomes-research\\lib\\site-packages (from ipython->watermark) (0.1.3)\n",
      "Requirement already satisfied: traitlets>=5 in c:\\users\\danie\\anaconda3\\envs\\covid-outcomes-research\\lib\\site-packages (from ipython->watermark) (5.2.0)\n",
      "Requirement already satisfied: backcall in c:\\users\\danie\\anaconda3\\envs\\covid-outcomes-research\\lib\\site-packages (from ipython->watermark) (0.2.0)\n",
      "Requirement already satisfied: colorama in c:\\users\\danie\\anaconda3\\envs\\covid-outcomes-research\\lib\\site-packages (from ipython->watermark) (0.4.4)\n",
      "Requirement already satisfied: jedi>=0.16 in c:\\users\\danie\\anaconda3\\envs\\covid-outcomes-research\\lib\\site-packages (from ipython->watermark) (0.18.1)\n",
      "Requirement already satisfied: prompt-toolkit!=3.0.0,!=3.0.1,<3.1.0,>=2.0.0 in c:\\users\\danie\\anaconda3\\envs\\covid-outcomes-research\\lib\\site-packages (from ipython->watermark) (3.0.29)\n",
      "Requirement already satisfied: pygments>=2.4.0 in c:\\users\\danie\\anaconda3\\envs\\covid-outcomes-research\\lib\\site-packages (from ipython->watermark) (2.12.0)\n",
      "Requirement already satisfied: decorator in c:\\users\\danie\\anaconda3\\envs\\covid-outcomes-research\\lib\\site-packages (from ipython->watermark) (5.1.1)\n",
      "Requirement already satisfied: parso<0.9.0,>=0.8.0 in c:\\users\\danie\\anaconda3\\envs\\covid-outcomes-research\\lib\\site-packages (from jedi>=0.16->ipython->watermark) (0.8.3)\n",
      "Requirement already satisfied: wcwidth in c:\\users\\danie\\anaconda3\\envs\\covid-outcomes-research\\lib\\site-packages (from prompt-toolkit!=3.0.0,!=3.0.1,<3.1.0,>=2.0.0->ipython->watermark) (0.2.5)\n",
      "Requirement already satisfied: executing in c:\\users\\danie\\anaconda3\\envs\\covid-outcomes-research\\lib\\site-packages (from stack-data->ipython->watermark) (0.8.3)\n",
      "Requirement already satisfied: asttokens in c:\\users\\danie\\anaconda3\\envs\\covid-outcomes-research\\lib\\site-packages (from stack-data->ipython->watermark) (2.0.5)\n",
      "Requirement already satisfied: pure-eval in c:\\users\\danie\\anaconda3\\envs\\covid-outcomes-research\\lib\\site-packages (from stack-data->ipython->watermark) (0.2.2)\n",
      "Requirement already satisfied: six in c:\\users\\danie\\anaconda3\\envs\\covid-outcomes-research\\lib\\site-packages (from asttokens->stack-data->ipython->watermark) (1.16.0)\n",
      "Note: you may need to restart the kernel to use updated packages.\n"
     ]
    }
   ],
   "source": [
    "#Let your audience know when this notebook was run, and with which packages. Useful when you are not sharing the notebook as\n",
    "#executable code.\n",
    "\n",
    "%pip install watermark"
   ]
  },
  {
   "cell_type": "code",
   "execution_count": 3,
   "id": "fbae06b4",
   "metadata": {},
   "outputs": [],
   "source": [
    "%load_ext watermark"
   ]
  },
  {
   "cell_type": "code",
   "execution_count": 4,
   "id": "b18be00f",
   "metadata": {},
   "outputs": [
    {
     "name": "stdout",
     "output_type": "stream",
     "text": [
      "Author: Daniela Alvarez Zegarra\n",
      "\n",
      "Python implementation: CPython\n",
      "Python version       : 3.9.12\n",
      "IPython version      : 8.3.0\n",
      "\n",
      "numpy : 1.21.5\n",
      "pandas: 1.4.2\n",
      "\n"
     ]
    }
   ],
   "source": [
    "%watermark -a \"Daniela Alvarez Zegarra\" -d -t -v -p numpy,pandas"
   ]
  },
  {
   "cell_type": "code",
   "execution_count": 5,
   "id": "866a1ae5",
   "metadata": {},
   "outputs": [
    {
     "name": "stdout",
     "output_type": "stream",
     "text": [
      "\u001b[1;31mDocstring:\u001b[0m\n",
      "::\n",
      "\n",
      "  %watermark [-a AUTHOR] [-gu GITHUB_USERNAME] [-e EMAIL] [-ws WEBSITE]\n",
      "                 [-d] [-n] [-t] [-i] [-z] [-u] [-c CUSTOM_TIME] [-v]\n",
      "                 [-p PACKAGES] [-co] [-h] [-m] [-g] [-r] [-b] [-w] [-iv]\n",
      "\n",
      "IPython magic function to print date/time stamps\n",
      "and various system information.\n",
      "\n",
      "optional arguments:\n",
      "  -a AUTHOR, --author AUTHOR\n",
      "                        prints author name\n",
      "  -gu GITHUB_USERNAME, --github_username GITHUB_USERNAME\n",
      "                        prints author github username\n",
      "  -e EMAIL, --email EMAIL\n",
      "                        prints author email\n",
      "  -ws WEBSITE, --website WEBSITE\n",
      "                        prints author or project website\n",
      "  -d, --date            prints current date as YYYY-mm-dd\n",
      "  -n, --datename        prints date with abbrv. day and month names\n",
      "  -t, --time            prints current time as HH-MM-SS\n",
      "  -i, --iso8601         prints the combined date and time including the time\n",
      "                        zone in the ISO 8601 standard with UTC offset\n",
      "  -z, --timezone        appends the local time zone\n",
      "  -u, --updated         appends a string \"Last updated: \"\n",
      "  -c CUSTOM_TIME, --custom_time CUSTOM_TIME\n",
      "                        prints a valid strftime() string\n",
      "  -v, --python          prints Python and IPython version\n",
      "  -p PACKAGES, --packages PACKAGES\n",
      "                        prints versions of specified Python modules and\n",
      "                        packages\n",
      "  -co, --conda          prints name of current conda environment\n",
      "  -h, --hostname        prints the host name\n",
      "  -m, --machine         prints system and machine info\n",
      "  -g, --githash         prints current Git commit hash\n",
      "  -r, --gitrepo         prints current Git remote address\n",
      "  -b, --gitbranch       prints current Git branch\n",
      "  -w, --watermark       prints the current version of watermark\n",
      "  -iv, --iversions      prints the name/version of all imported modules\n",
      "\u001b[1;31mFile:\u001b[0m      c:\\users\\danie\\anaconda3\\envs\\covid-outcomes-research\\lib\\site-packages\\watermark\\magic.py\n"
     ]
    }
   ],
   "source": [
    "#Documentation to know what other info can i get with watermark\n",
    "\n",
    "%watermark?"
   ]
  },
  {
   "cell_type": "code",
   "execution_count": 6,
   "id": "c77e6d8b",
   "metadata": {},
   "outputs": [
    {
     "name": "stdout",
     "output_type": "stream",
     "text": [
      "# local package\n",
      "-e .\n",
      "\n",
      "# external requirements\n",
      "click\n",
      "Sphinx\n",
      "coverage\n",
      "awscli\n",
      "flake8\n",
      "python-dotenv>=0.5.1\n",
      "jupyter\n",
      "ipython\n",
      "numpy\n",
      "pandas\n",
      "matplotlib\n",
      "scikit-learn\n",
      "scipy\n",
      "pytest\n",
      "nbdime\n",
      "runipy\n",
      "seaborn\n",
      "\n"
     ]
    }
   ],
   "source": [
    "#Let's print our requirements\n",
    "\n",
    "print(open(os.path.join(PROJ_ROOT,'requirements.txt')).read())"
   ]
  },
  {
   "cell_type": "markdown",
   "id": "b097a11f",
   "metadata": {},
   "source": [
    "## Loading the Data"
   ]
  },
  {
   "cell_type": "code",
   "execution_count": 2,
   "id": "f73b99ad",
   "metadata": {},
   "outputs": [],
   "source": [
    "merged_data_path = os.path.join(PROJ_ROOT,\n",
    "                          \"data\",\n",
    "                          \"interim\",\n",
    "                          \"merged_dataframe.csv\")"
   ]
  },
  {
   "cell_type": "code",
   "execution_count": 3,
   "id": "48fc5b3c",
   "metadata": {},
   "outputs": [],
   "source": [
    "df = pd.read_csv(merged_data_path)"
   ]
  },
  {
   "cell_type": "code",
   "execution_count": 4,
   "id": "21fb4fa3",
   "metadata": {},
   "outputs": [
    {
     "name": "stdout",
     "output_type": "stream",
     "text": [
      "<class 'pandas.core.frame.DataFrame'>\n",
      "RangeIndex: 3140 entries, 0 to 3139\n",
      "Columns: 111 entries, Unnamed: 0.1 to STAB\n",
      "dtypes: float64(72), int64(36), object(3)\n",
      "memory usage: 2.7+ MB\n"
     ]
    }
   ],
   "source": [
    "df.info()"
   ]
  },
  {
   "cell_type": "markdown",
   "id": "62f497e0",
   "metadata": {},
   "source": [
    "# Milestone I: Exploratory data analysis"
   ]
  },
  {
   "cell_type": "markdown",
   "id": "c7684d22",
   "metadata": {},
   "source": [
    "**Looking for correlations**"
   ]
  },
  {
   "cell_type": "code",
   "execution_count": 6,
   "id": "b3c9cf00",
   "metadata": {},
   "outputs": [],
   "source": [
    "num_cols = df.select_dtypes(['int', 'float']).columns"
   ]
  },
  {
   "cell_type": "markdown",
   "id": "efdd15a2",
   "metadata": {},
   "source": [
    "**Looking for outliers**"
   ]
  },
  {
   "cell_type": "code",
   "execution_count": 7,
   "id": "f16e241a",
   "metadata": {},
   "outputs": [
    {
     "data": {
      "text/html": [
       "<div>\n",
       "<style scoped>\n",
       "    .dataframe tbody tr th:only-of-type {\n",
       "        vertical-align: middle;\n",
       "    }\n",
       "\n",
       "    .dataframe tbody tr th {\n",
       "        vertical-align: top;\n",
       "    }\n",
       "\n",
       "    .dataframe thead th {\n",
       "        text-align: right;\n",
       "    }\n",
       "</style>\n",
       "<table border=\"1\" class=\"dataframe\">\n",
       "  <thead>\n",
       "    <tr style=\"text-align: right;\">\n",
       "      <th></th>\n",
       "      <th>Unnamed: 0.1</th>\n",
       "      <th>Unnamed: 0</th>\n",
       "      <th>fips</th>\n",
       "      <th>TOT_POP</th>\n",
       "      <th>0-9</th>\n",
       "      <th>0-9 y/o % of total pop</th>\n",
       "      <th>10-19</th>\n",
       "      <th>10-19 y/o % of total pop</th>\n",
       "      <th>20-29</th>\n",
       "      <th>20-29 y/o % of total pop</th>\n",
       "      <th>...</th>\n",
       "      <th>COPD_number</th>\n",
       "      <th>diabetes_prevalence</th>\n",
       "      <th>diabetes_Lower 95% CI</th>\n",
       "      <th>diabetes_Upper 95% CI</th>\n",
       "      <th>diabetes_number</th>\n",
       "      <th>CKD_prevalence</th>\n",
       "      <th>CKD_Lower 95% CI</th>\n",
       "      <th>CKD_Upper 95% CI</th>\n",
       "      <th>CKD_number</th>\n",
       "      <th>Urban_rural_code</th>\n",
       "    </tr>\n",
       "  </thead>\n",
       "  <tbody>\n",
       "    <tr>\n",
       "      <th>count</th>\n",
       "      <td>3140.000000</td>\n",
       "      <td>3140.000000</td>\n",
       "      <td>3140.000000</td>\n",
       "      <td>3.140000e+03</td>\n",
       "      <td>3.140000e+03</td>\n",
       "      <td>3140.000000</td>\n",
       "      <td>3.140000e+03</td>\n",
       "      <td>3140.000000</td>\n",
       "      <td>3.140000e+03</td>\n",
       "      <td>3140.000000</td>\n",
       "      <td>...</td>\n",
       "      <td>3140.000000</td>\n",
       "      <td>3140.000000</td>\n",
       "      <td>3140.000000</td>\n",
       "      <td>3140.000000</td>\n",
       "      <td>3140.000000</td>\n",
       "      <td>3140.000000</td>\n",
       "      <td>3140.000000</td>\n",
       "      <td>3140.000000</td>\n",
       "      <td>3140.000000</td>\n",
       "      <td>3140.000000</td>\n",
       "    </tr>\n",
       "    <tr>\n",
       "      <th>mean</th>\n",
       "      <td>1569.500000</td>\n",
       "      <td>1569.500000</td>\n",
       "      <td>30401.640764</td>\n",
       "      <td>1.041894e+05</td>\n",
       "      <td>1.274030e+04</td>\n",
       "      <td>11.871051</td>\n",
       "      <td>1.336798e+04</td>\n",
       "      <td>12.694609</td>\n",
       "      <td>1.446933e+04</td>\n",
       "      <td>12.283979</td>\n",
       "      <td>...</td>\n",
       "      <td>5827.242357</td>\n",
       "      <td>13.073503</td>\n",
       "      <td>12.088089</td>\n",
       "      <td>14.053726</td>\n",
       "      <td>9326.577707</td>\n",
       "      <td>3.446242</td>\n",
       "      <td>3.207516</td>\n",
       "      <td>3.710478</td>\n",
       "      <td>2466.234076</td>\n",
       "      <td>4.635350</td>\n",
       "    </tr>\n",
       "    <tr>\n",
       "      <th>std</th>\n",
       "      <td>906.584249</td>\n",
       "      <td>906.584249</td>\n",
       "      <td>15150.559265</td>\n",
       "      <td>3.335834e+05</td>\n",
       "      <td>4.180730e+04</td>\n",
       "      <td>2.124081</td>\n",
       "      <td>4.228439e+04</td>\n",
       "      <td>1.815044</td>\n",
       "      <td>4.957773e+04</td>\n",
       "      <td>3.126297</td>\n",
       "      <td>...</td>\n",
       "      <td>15720.551934</td>\n",
       "      <td>2.724351</td>\n",
       "      <td>2.622948</td>\n",
       "      <td>2.824828</td>\n",
       "      <td>29754.601185</td>\n",
       "      <td>0.568059</td>\n",
       "      <td>0.527740</td>\n",
       "      <td>0.613069</td>\n",
       "      <td>7730.422067</td>\n",
       "      <td>1.510447</td>\n",
       "    </tr>\n",
       "    <tr>\n",
       "      <th>min</th>\n",
       "      <td>0.000000</td>\n",
       "      <td>0.000000</td>\n",
       "      <td>1001.000000</td>\n",
       "      <td>8.800000e+01</td>\n",
       "      <td>0.000000e+00</td>\n",
       "      <td>0.000000</td>\n",
       "      <td>0.000000e+00</td>\n",
       "      <td>0.000000</td>\n",
       "      <td>0.000000e+00</td>\n",
       "      <td>0.000000</td>\n",
       "      <td>...</td>\n",
       "      <td>7.000000</td>\n",
       "      <td>6.100000</td>\n",
       "      <td>5.500000</td>\n",
       "      <td>6.700000</td>\n",
       "      <td>11.000000</td>\n",
       "      <td>1.800000</td>\n",
       "      <td>1.700000</td>\n",
       "      <td>1.900000</td>\n",
       "      <td>3.000000</td>\n",
       "      <td>1.000000</td>\n",
       "    </tr>\n",
       "    <tr>\n",
       "      <th>25%</th>\n",
       "      <td>784.750000</td>\n",
       "      <td>784.750000</td>\n",
       "      <td>18180.500000</td>\n",
       "      <td>1.096325e+04</td>\n",
       "      <td>1.280500e+03</td>\n",
       "      <td>10.594639</td>\n",
       "      <td>1.374500e+03</td>\n",
       "      <td>11.674504</td>\n",
       "      <td>1.263750e+03</td>\n",
       "      <td>10.496774</td>\n",
       "      <td>...</td>\n",
       "      <td>815.000000</td>\n",
       "      <td>11.200000</td>\n",
       "      <td>10.300000</td>\n",
       "      <td>12.100000</td>\n",
       "      <td>1187.750000</td>\n",
       "      <td>3.100000</td>\n",
       "      <td>2.900000</td>\n",
       "      <td>3.300000</td>\n",
       "      <td>314.750000</td>\n",
       "      <td>3.000000</td>\n",
       "    </tr>\n",
       "    <tr>\n",
       "      <th>50%</th>\n",
       "      <td>1569.500000</td>\n",
       "      <td>1569.500000</td>\n",
       "      <td>29178.000000</td>\n",
       "      <td>2.580050e+04</td>\n",
       "      <td>3.057000e+03</td>\n",
       "      <td>11.802727</td>\n",
       "      <td>3.274000e+03</td>\n",
       "      <td>12.687422</td>\n",
       "      <td>3.108000e+03</td>\n",
       "      <td>11.772649</td>\n",
       "      <td>...</td>\n",
       "      <td>1963.500000</td>\n",
       "      <td>12.800000</td>\n",
       "      <td>11.800000</td>\n",
       "      <td>13.800000</td>\n",
       "      <td>2743.000000</td>\n",
       "      <td>3.400000</td>\n",
       "      <td>3.200000</td>\n",
       "      <td>3.700000</td>\n",
       "      <td>718.000000</td>\n",
       "      <td>5.000000</td>\n",
       "    </tr>\n",
       "    <tr>\n",
       "      <th>75%</th>\n",
       "      <td>2354.250000</td>\n",
       "      <td>2354.250000</td>\n",
       "      <td>45081.500000</td>\n",
       "      <td>6.791300e+04</td>\n",
       "      <td>8.097000e+03</td>\n",
       "      <td>12.951840</td>\n",
       "      <td>8.822250e+03</td>\n",
       "      <td>13.659282</td>\n",
       "      <td>8.976250e+03</td>\n",
       "      <td>13.182260</td>\n",
       "      <td>...</td>\n",
       "      <td>4727.000000</td>\n",
       "      <td>14.800000</td>\n",
       "      <td>13.700000</td>\n",
       "      <td>15.900000</td>\n",
       "      <td>6679.250000</td>\n",
       "      <td>3.800000</td>\n",
       "      <td>3.500000</td>\n",
       "      <td>4.100000</td>\n",
       "      <td>1776.250000</td>\n",
       "      <td>6.000000</td>\n",
       "    </tr>\n",
       "    <tr>\n",
       "      <th>max</th>\n",
       "      <td>3139.000000</td>\n",
       "      <td>3139.000000</td>\n",
       "      <td>56045.000000</td>\n",
       "      <td>1.010552e+07</td>\n",
       "      <td>1.208253e+06</td>\n",
       "      <td>25.460677</td>\n",
       "      <td>1.239139e+06</td>\n",
       "      <td>23.304372</td>\n",
       "      <td>1.557073e+06</td>\n",
       "      <td>37.570198</td>\n",
       "      <td>...</td>\n",
       "      <td>434075.000000</td>\n",
       "      <td>25.600000</td>\n",
       "      <td>24.200000</td>\n",
       "      <td>27.000000</td>\n",
       "      <td>952335.000000</td>\n",
       "      <td>6.200000</td>\n",
       "      <td>5.800000</td>\n",
       "      <td>6.600000</td>\n",
       "      <td>237766.000000</td>\n",
       "      <td>6.000000</td>\n",
       "    </tr>\n",
       "  </tbody>\n",
       "</table>\n",
       "<p>8 rows × 108 columns</p>\n",
       "</div>"
      ],
      "text/plain": [
       "       Unnamed: 0.1   Unnamed: 0          fips       TOT_POP           0-9  \\\n",
       "count   3140.000000  3140.000000   3140.000000  3.140000e+03  3.140000e+03   \n",
       "mean    1569.500000  1569.500000  30401.640764  1.041894e+05  1.274030e+04   \n",
       "std      906.584249   906.584249  15150.559265  3.335834e+05  4.180730e+04   \n",
       "min        0.000000     0.000000   1001.000000  8.800000e+01  0.000000e+00   \n",
       "25%      784.750000   784.750000  18180.500000  1.096325e+04  1.280500e+03   \n",
       "50%     1569.500000  1569.500000  29178.000000  2.580050e+04  3.057000e+03   \n",
       "75%     2354.250000  2354.250000  45081.500000  6.791300e+04  8.097000e+03   \n",
       "max     3139.000000  3139.000000  56045.000000  1.010552e+07  1.208253e+06   \n",
       "\n",
       "       0-9 y/o % of total pop         10-19  10-19 y/o % of total pop  \\\n",
       "count             3140.000000  3.140000e+03               3140.000000   \n",
       "mean                11.871051  1.336798e+04                 12.694609   \n",
       "std                  2.124081  4.228439e+04                  1.815044   \n",
       "min                  0.000000  0.000000e+00                  0.000000   \n",
       "25%                 10.594639  1.374500e+03                 11.674504   \n",
       "50%                 11.802727  3.274000e+03                 12.687422   \n",
       "75%                 12.951840  8.822250e+03                 13.659282   \n",
       "max                 25.460677  1.239139e+06                 23.304372   \n",
       "\n",
       "              20-29  20-29 y/o % of total pop  ...    COPD_number  \\\n",
       "count  3.140000e+03               3140.000000  ...    3140.000000   \n",
       "mean   1.446933e+04                 12.283979  ...    5827.242357   \n",
       "std    4.957773e+04                  3.126297  ...   15720.551934   \n",
       "min    0.000000e+00                  0.000000  ...       7.000000   \n",
       "25%    1.263750e+03                 10.496774  ...     815.000000   \n",
       "50%    3.108000e+03                 11.772649  ...    1963.500000   \n",
       "75%    8.976250e+03                 13.182260  ...    4727.000000   \n",
       "max    1.557073e+06                 37.570198  ...  434075.000000   \n",
       "\n",
       "       diabetes_prevalence  diabetes_Lower 95% CI  diabetes_Upper 95% CI  \\\n",
       "count          3140.000000            3140.000000            3140.000000   \n",
       "mean             13.073503              12.088089              14.053726   \n",
       "std               2.724351               2.622948               2.824828   \n",
       "min               6.100000               5.500000               6.700000   \n",
       "25%              11.200000              10.300000              12.100000   \n",
       "50%              12.800000              11.800000              13.800000   \n",
       "75%              14.800000              13.700000              15.900000   \n",
       "max              25.600000              24.200000              27.000000   \n",
       "\n",
       "       diabetes_number  CKD_prevalence  CKD_Lower 95% CI  CKD_Upper 95% CI  \\\n",
       "count      3140.000000     3140.000000       3140.000000       3140.000000   \n",
       "mean       9326.577707        3.446242          3.207516          3.710478   \n",
       "std       29754.601185        0.568059          0.527740          0.613069   \n",
       "min          11.000000        1.800000          1.700000          1.900000   \n",
       "25%        1187.750000        3.100000          2.900000          3.300000   \n",
       "50%        2743.000000        3.400000          3.200000          3.700000   \n",
       "75%        6679.250000        3.800000          3.500000          4.100000   \n",
       "max      952335.000000        6.200000          5.800000          6.600000   \n",
       "\n",
       "          CKD_number  Urban_rural_code  \n",
       "count    3140.000000       3140.000000  \n",
       "mean     2466.234076          4.635350  \n",
       "std      7730.422067          1.510447  \n",
       "min         3.000000          1.000000  \n",
       "25%       314.750000          3.000000  \n",
       "50%       718.000000          5.000000  \n",
       "75%      1776.250000          6.000000  \n",
       "max    237766.000000          6.000000  \n",
       "\n",
       "[8 rows x 108 columns]"
      ]
     },
     "execution_count": 7,
     "metadata": {},
     "output_type": "execute_result"
    }
   ],
   "source": [
    "df.describe()"
   ]
  },
  {
   "cell_type": "code",
   "execution_count": 8,
   "id": "95a47d2b",
   "metadata": {},
   "outputs": [],
   "source": [
    "#creating a function to visualize outliers\n",
    "\n",
    "def outliers(feature): \n",
    "    plt.figure(figsize=(14,6))\n",
    "\n",
    "    plt.subplot(1,2,1)\n",
    "    sns.boxplot(df[feature])\n",
    "\n",
    "    plt.subplot(1,2,2)\n",
    "    sns.histplot(df[feature], bins = 5)\n",
    "\n",
    "    plt.show()"
   ]
  },
  {
   "cell_type": "code",
   "execution_count": 9,
   "id": "b7c4cfd1",
   "metadata": {},
   "outputs": [
    {
     "name": "stderr",
     "output_type": "stream",
     "text": [
      "c:\\Users\\danie\\anaconda3\\envs\\covid-outcomes-research\\lib\\site-packages\\seaborn\\_decorators.py:36: FutureWarning: Pass the following variable as a keyword arg: x. From version 0.12, the only valid positional argument will be `data`, and passing other arguments without an explicit keyword will result in an error or misinterpretation.\n",
      "  warnings.warn(\n"
     ]
    },
    {
     "data": {
      "image/png": "[encoded data removed]",
      "text/plain": [
       "<Figure size 1008x432 with 2 Axes>"
      ]
     },
     "metadata": {
      "needs_background": "light"
     },
     "output_type": "display_data"
    }
   ],
   "source": [
    "#Look for outliers  in ICU Beds feature\n",
    "outliers('ICU Beds_x')"
   ]
  },
  {
   "cell_type": "code",
   "execution_count": 10,
   "id": "ecddde90",
   "metadata": {},
   "outputs": [
    {
     "name": "stderr",
     "output_type": "stream",
     "text": [
      "c:\\Users\\danie\\anaconda3\\envs\\covid-outcomes-research\\lib\\site-packages\\seaborn\\_decorators.py:36: FutureWarning: Pass the following variable as a keyword arg: x. From version 0.12, the only valid positional argument will be `data`, and passing other arguments without an explicit keyword will result in an error or misinterpretation.\n",
      "  warnings.warn(\n"
     ]
    },
    {
     "data": {
      "image/png": "[encoded data removed]",
      "text/plain": [
       "<Figure size 1008x432 with 2 Axes>"
      ]
     },
     "metadata": {
      "needs_background": "light"
     },
     "output_type": "display_data"
    }
   ],
   "source": [
    "outliers('Total Specialist Physicians (2019)')"
   ]
  },
  {
   "cell_type": "code",
   "execution_count": 11,
   "id": "e2d6898f",
   "metadata": {},
   "outputs": [
    {
     "name": "stderr",
     "output_type": "stream",
     "text": [
      "c:\\Users\\danie\\anaconda3\\envs\\covid-outcomes-research\\lib\\site-packages\\seaborn\\_decorators.py:36: FutureWarning: Pass the following variable as a keyword arg: x. From version 0.12, the only valid positional argument will be `data`, and passing other arguments without an explicit keyword will result in an error or misinterpretation.\n",
      "  warnings.warn(\n"
     ]
    },
    {
     "data": {
      "image/png": "[encoded data removed]",
      "text/plain": [
       "<Figure size 1008x432 with 2 Axes>"
      ]
     },
     "metadata": {
      "needs_background": "light"
     },
     "output_type": "display_data"
    }
   ],
   "source": [
    "outliers('Active Physicians per 100000 Population 2018 (AAMC)')"
   ]
  },
  {
   "cell_type": "markdown",
   "id": "91f00e3a",
   "metadata": {},
   "source": [
    "**Density plots**\n"
   ]
  },
  {
   "cell_type": "code",
   "execution_count": 12,
   "id": "3ff46c72",
   "metadata": {},
   "outputs": [],
   "source": [
    "#for eda\n",
    "\n",
    "def kde_plot(dataframe, variable, upper=None, lower=None, bw=0.1):\n",
    "    '''Plots a density plot for a variable with optional upper and lower bounds on the data (inclusive)'''\n",
    "    \n",
    "    plot_data = dataframe [variable]\n",
    "    \n",
    "    if upper is not None:\n",
    "        plot_data = plot_data[plot_data <= upper]\n",
    "    if lower is not None:\n",
    "        plot_data = plot_data[plot_data >= lower]\n",
    "        \n",
    "    sns.kdeplot(plot_data, bw=bw)\n",
    "    \n",
    "    plt.savefig(os.path.join(PROJ_ROOT, \"reports\", \"figures\",\"{}.png\".format(variable)))\n",
    "    plt.show()\n"
   ]
  },
  {
   "cell_type": "code",
   "execution_count": 13,
   "id": "68f0007d",
   "metadata": {},
   "outputs": [
    {
     "name": "stderr",
     "output_type": "stream",
     "text": [
      "c:\\Users\\danie\\anaconda3\\envs\\covid-outcomes-research\\lib\\site-packages\\seaborn\\distributions.py:1699: FutureWarning: The `bw` parameter is deprecated in favor of `bw_method` and `bw_adjust`. Using 0.1 for `bw_method`, but please see the docs for the new parameters and update your code.\n",
      "  warnings.warn(msg, FutureWarning)\n"
     ]
    },
    {
     "data": {
      "image/png": "[encoded data removed]",
      "text/plain": [
       "<Figure size 432x288 with 1 Axes>"
      ]
     },
     "metadata": {
      "needs_background": "light"
     },
     "output_type": "display_data"
    }
   ],
   "source": [
    "kde_plot(df, 'ICU Beds_x')"
   ]
  },
  {
   "cell_type": "code",
   "execution_count": 14,
   "id": "a9b202f4",
   "metadata": {},
   "outputs": [
    {
     "name": "stderr",
     "output_type": "stream",
     "text": [
      "c:\\Users\\danie\\anaconda3\\envs\\covid-outcomes-research\\lib\\site-packages\\seaborn\\distributions.py:1699: FutureWarning: The `bw` parameter is deprecated in favor of `bw_method` and `bw_adjust`. Using 0.1 for `bw_method`, but please see the docs for the new parameters and update your code.\n",
      "  warnings.warn(msg, FutureWarning)\n"
     ]
    },
    {
     "data": {
      "image/png": "[encoded data removed]",
      "text/plain": [
       "<Figure size 432x288 with 1 Axes>"
      ]
     },
     "metadata": {
      "needs_background": "light"
     },
     "output_type": "display_data"
    }
   ],
   "source": [
    "kde_plot(df, 'R_death_2018')"
   ]
  },
  {
   "cell_type": "code",
   "execution_count": 15,
   "id": "f1dd740e",
   "metadata": {},
   "outputs": [
    {
     "name": "stderr",
     "output_type": "stream",
     "text": [
      "c:\\Users\\danie\\anaconda3\\envs\\covid-outcomes-research\\lib\\site-packages\\seaborn\\distributions.py:1699: FutureWarning: The `bw` parameter is deprecated in favor of `bw_method` and `bw_adjust`. Using 0.1 for `bw_method`, but please see the docs for the new parameters and update your code.\n",
      "  warnings.warn(msg, FutureWarning)\n"
     ]
    },
    {
     "data": {
      "image/png": "[encoded data removed]",
      "text/plain": [
       "<Figure size 432x288 with 1 Axes>"
      ]
     },
     "metadata": {
      "needs_background": "light"
     },
     "output_type": "display_data"
    }
   ],
   "source": [
    "kde_plot(df, 'Total Specialist Physicians (2019)')"
   ]
  },
  {
   "cell_type": "markdown",
   "id": "35bf7d86",
   "metadata": {},
   "source": [
    "**Obtain the feature matrix**"
   ]
  },
  {
   "cell_type": "code",
   "execution_count": 8,
   "id": "713f991e",
   "metadata": {},
   "outputs": [],
   "source": [
    "#first, we will create a dataframe with the names for each fips code, then drop our county_names columns from main df, \n",
    "# and we will set our fips code as index\n",
    "\n",
    "names_df = df[['fips', 'COUNTY_NAME']]\n",
    "\n",
    "df.drop(['Unnamed: 0','Unnamed: 0.1', 'COUNTY_NAME', 'STAB'], axis=1, inplace=True)"
   ]
  },
  {
   "cell_type": "code",
   "execution_count": 9,
   "id": "cb9b45bb",
   "metadata": {},
   "outputs": [],
   "source": [
    "outcomes = df[['ICU Beds_x','Total Specialist Physicians (2019)','Active Physicians per 100000 Population 2018 (AAMC)']]"
   ]
  },
  {
   "cell_type": "code",
   "execution_count": 10,
   "id": "3421633a",
   "metadata": {},
   "outputs": [],
   "source": [
    "df.drop([\"ICU Beds_x\",\"Total Specialist Physicians (2019)\",\"Active Physicians per 100000 Population 2018 (AAMC)\"], axis = 1, inplace = True)"
   ]
  },
  {
   "cell_type": "markdown",
   "id": "5d87ab6f",
   "metadata": {},
   "source": [
    "# Milestone II: Modeling"
   ]
  },
  {
   "cell_type": "code",
   "execution_count": 15,
   "id": "0cad26b0",
   "metadata": {},
   "outputs": [],
   "source": [
    "import pandas as pd\n",
    "from numpy import arange\n",
    "\n",
    "from sklearn.linear_model import Lasso\n",
    "from sklearn.model_selection import train_test_split\n",
    "\n",
    "from sklearn.linear_model import LassoCV\n",
    "from sklearn.model_selection import RepeatedKFold\n",
    "\n"
   ]
  },
  {
   "cell_type": "code",
   "execution_count": 24,
   "id": "4851c81b",
   "metadata": {},
   "outputs": [],
   "source": [
    "#define predictor and response variables\n",
    "X = df\n",
    "y1 = outcomes['ICU Beds_x']\n",
    "y2=  outcomes['Total Specialist Physicians (2019)']\n",
    "y3 = outcomes['Active Physicians per 100000 Population 2018 (AAMC)']"
   ]
  },
  {
   "cell_type": "markdown",
   "id": "0c262955",
   "metadata": {},
   "source": [
    "**Method for first outcome: ICU Beds_x**"
   ]
  },
  {
   "cell_type": "code",
   "execution_count": 25,
   "id": "caf88b18",
   "metadata": {},
   "outputs": [],
   "source": [
    "#define train and test sets\n",
    "\n",
    "X_train, X_test, y_train, y_test = train_test_split(X, y1, test_size=0.3, random_state=42)"
   ]
  },
  {
   "cell_type": "code",
   "execution_count": 26,
   "id": "02bf0430",
   "metadata": {},
   "outputs": [
    {
     "ename": "ValueError",
     "evalue": "could not convert string to float: 'Georgia'",
     "output_type": "error",
     "traceback": [
      "\u001b[1;31m---------------------------------------------------------------------------\u001b[0m",
      "\u001b[1;31mValueError\u001b[0m                                Traceback (most recent call last)",
      "\u001b[1;32md:\\DANIELA\\Projects\\WIDS\\covid-outcomes-research\\notebooks\\lasso_model.ipynb Cell 34'\u001b[0m in \u001b[0;36m<cell line: 8>\u001b[1;34m()\u001b[0m\n\u001b[0;32m      <a href='vscode-notebook-cell:/d%3A/DANIELA/Projects/WIDS/covid-outcomes-research/notebooks/lasso_model.ipynb#ch0000045?line=3'>4</a>\u001b[0m \u001b[39mfrom\u001b[39;00m \u001b[39msklearn\u001b[39;00m\u001b[39m.\u001b[39;00m\u001b[39mpreprocessing\u001b[39;00m \u001b[39mimport\u001b[39;00m StandardScaler\n\u001b[0;32m      <a href='vscode-notebook-cell:/d%3A/DANIELA/Projects/WIDS/covid-outcomes-research/notebooks/lasso_model.ipynb#ch0000045?line=6'>7</a>\u001b[0m pipeline \u001b[39m=\u001b[39m make_pipeline(StandardScaler(), Lasso())\n\u001b[1;32m----> <a href='vscode-notebook-cell:/d%3A/DANIELA/Projects/WIDS/covid-outcomes-research/notebooks/lasso_model.ipynb#ch0000045?line=7'>8</a>\u001b[0m pipeline\u001b[39m.\u001b[39;49mfit(X_train, y_train)\n\u001b[0;32m      <a href='vscode-notebook-cell:/d%3A/DANIELA/Projects/WIDS/covid-outcomes-research/notebooks/lasso_model.ipynb#ch0000045?line=8'>9</a>\u001b[0m \u001b[39mprint\u001b[39m(pipeline[\u001b[39m1\u001b[39m]\u001b[39m.\u001b[39mcoef_, pipeline[\u001b[39m1\u001b[39m]\u001b[39m.\u001b[39mintercept_)\n",
      "File \u001b[1;32mc:\\Users\\danie\\anaconda3\\envs\\covid-outcomes-research\\lib\\site-packages\\sklearn\\pipeline.py:390\u001b[0m, in \u001b[0;36mPipeline.fit\u001b[1;34m(self, X, y, **fit_params)\u001b[0m\n\u001b[0;32m    <a href='file:///c%3A/Users/danie/anaconda3/envs/covid-outcomes-research/lib/site-packages/sklearn/pipeline.py?line=363'>364</a>\u001b[0m \u001b[39m\"\"\"Fit the model.\u001b[39;00m\n\u001b[0;32m    <a href='file:///c%3A/Users/danie/anaconda3/envs/covid-outcomes-research/lib/site-packages/sklearn/pipeline.py?line=364'>365</a>\u001b[0m \n\u001b[0;32m    <a href='file:///c%3A/Users/danie/anaconda3/envs/covid-outcomes-research/lib/site-packages/sklearn/pipeline.py?line=365'>366</a>\u001b[0m \u001b[39mFit all the transformers one after the other and transform the\u001b[39;00m\n\u001b[1;32m   (...)\u001b[0m\n\u001b[0;32m    <a href='file:///c%3A/Users/danie/anaconda3/envs/covid-outcomes-research/lib/site-packages/sklearn/pipeline.py?line=386'>387</a>\u001b[0m \u001b[39m    Pipeline with fitted steps.\u001b[39;00m\n\u001b[0;32m    <a href='file:///c%3A/Users/danie/anaconda3/envs/covid-outcomes-research/lib/site-packages/sklearn/pipeline.py?line=387'>388</a>\u001b[0m \u001b[39m\"\"\"\u001b[39;00m\n\u001b[0;32m    <a href='file:///c%3A/Users/danie/anaconda3/envs/covid-outcomes-research/lib/site-packages/sklearn/pipeline.py?line=388'>389</a>\u001b[0m fit_params_steps \u001b[39m=\u001b[39m \u001b[39mself\u001b[39m\u001b[39m.\u001b[39m_check_fit_params(\u001b[39m*\u001b[39m\u001b[39m*\u001b[39mfit_params)\n\u001b[1;32m--> <a href='file:///c%3A/Users/danie/anaconda3/envs/covid-outcomes-research/lib/site-packages/sklearn/pipeline.py?line=389'>390</a>\u001b[0m Xt \u001b[39m=\u001b[39m \u001b[39mself\u001b[39m\u001b[39m.\u001b[39m_fit(X, y, \u001b[39m*\u001b[39m\u001b[39m*\u001b[39mfit_params_steps)\n\u001b[0;32m    <a href='file:///c%3A/Users/danie/anaconda3/envs/covid-outcomes-research/lib/site-packages/sklearn/pipeline.py?line=390'>391</a>\u001b[0m \u001b[39mwith\u001b[39;00m _print_elapsed_time(\u001b[39m\"\u001b[39m\u001b[39mPipeline\u001b[39m\u001b[39m\"\u001b[39m, \u001b[39mself\u001b[39m\u001b[39m.\u001b[39m_log_message(\u001b[39mlen\u001b[39m(\u001b[39mself\u001b[39m\u001b[39m.\u001b[39msteps) \u001b[39m-\u001b[39m \u001b[39m1\u001b[39m)):\n\u001b[0;32m    <a href='file:///c%3A/Users/danie/anaconda3/envs/covid-outcomes-research/lib/site-packages/sklearn/pipeline.py?line=391'>392</a>\u001b[0m     \u001b[39mif\u001b[39;00m \u001b[39mself\u001b[39m\u001b[39m.\u001b[39m_final_estimator \u001b[39m!=\u001b[39m \u001b[39m\"\u001b[39m\u001b[39mpassthrough\u001b[39m\u001b[39m\"\u001b[39m:\n",
      "File \u001b[1;32mc:\\Users\\danie\\anaconda3\\envs\\covid-outcomes-research\\lib\\site-packages\\sklearn\\pipeline.py:348\u001b[0m, in \u001b[0;36mPipeline._fit\u001b[1;34m(self, X, y, **fit_params_steps)\u001b[0m\n\u001b[0;32m    <a href='file:///c%3A/Users/danie/anaconda3/envs/covid-outcomes-research/lib/site-packages/sklearn/pipeline.py?line=345'>346</a>\u001b[0m     cloned_transformer \u001b[39m=\u001b[39m clone(transformer)\n\u001b[0;32m    <a href='file:///c%3A/Users/danie/anaconda3/envs/covid-outcomes-research/lib/site-packages/sklearn/pipeline.py?line=346'>347</a>\u001b[0m \u001b[39m# Fit or load from cache the current transformer\u001b[39;00m\n\u001b[1;32m--> <a href='file:///c%3A/Users/danie/anaconda3/envs/covid-outcomes-research/lib/site-packages/sklearn/pipeline.py?line=347'>348</a>\u001b[0m X, fitted_transformer \u001b[39m=\u001b[39m fit_transform_one_cached(\n\u001b[0;32m    <a href='file:///c%3A/Users/danie/anaconda3/envs/covid-outcomes-research/lib/site-packages/sklearn/pipeline.py?line=348'>349</a>\u001b[0m     cloned_transformer,\n\u001b[0;32m    <a href='file:///c%3A/Users/danie/anaconda3/envs/covid-outcomes-research/lib/site-packages/sklearn/pipeline.py?line=349'>350</a>\u001b[0m     X,\n\u001b[0;32m    <a href='file:///c%3A/Users/danie/anaconda3/envs/covid-outcomes-research/lib/site-packages/sklearn/pipeline.py?line=350'>351</a>\u001b[0m     y,\n\u001b[0;32m    <a href='file:///c%3A/Users/danie/anaconda3/envs/covid-outcomes-research/lib/site-packages/sklearn/pipeline.py?line=351'>352</a>\u001b[0m     \u001b[39mNone\u001b[39;00m,\n\u001b[0;32m    <a href='file:///c%3A/Users/danie/anaconda3/envs/covid-outcomes-research/lib/site-packages/sklearn/pipeline.py?line=352'>353</a>\u001b[0m     message_clsname\u001b[39m=\u001b[39m\u001b[39m\"\u001b[39m\u001b[39mPipeline\u001b[39m\u001b[39m\"\u001b[39m,\n\u001b[0;32m    <a href='file:///c%3A/Users/danie/anaconda3/envs/covid-outcomes-research/lib/site-packages/sklearn/pipeline.py?line=353'>354</a>\u001b[0m     message\u001b[39m=\u001b[39m\u001b[39mself\u001b[39m\u001b[39m.\u001b[39m_log_message(step_idx),\n\u001b[0;32m    <a href='file:///c%3A/Users/danie/anaconda3/envs/covid-outcomes-research/lib/site-packages/sklearn/pipeline.py?line=354'>355</a>\u001b[0m     \u001b[39m*\u001b[39m\u001b[39m*\u001b[39mfit_params_steps[name],\n\u001b[0;32m    <a href='file:///c%3A/Users/danie/anaconda3/envs/covid-outcomes-research/lib/site-packages/sklearn/pipeline.py?line=355'>356</a>\u001b[0m )\n\u001b[0;32m    <a href='file:///c%3A/Users/danie/anaconda3/envs/covid-outcomes-research/lib/site-packages/sklearn/pipeline.py?line=356'>357</a>\u001b[0m \u001b[39m# Replace the transformer of the step with the fitted\u001b[39;00m\n\u001b[0;32m    <a href='file:///c%3A/Users/danie/anaconda3/envs/covid-outcomes-research/lib/site-packages/sklearn/pipeline.py?line=357'>358</a>\u001b[0m \u001b[39m# transformer. This is necessary when loading the transformer\u001b[39;00m\n\u001b[0;32m    <a href='file:///c%3A/Users/danie/anaconda3/envs/covid-outcomes-research/lib/site-packages/sklearn/pipeline.py?line=358'>359</a>\u001b[0m \u001b[39m# from the cache.\u001b[39;00m\n\u001b[0;32m    <a href='file:///c%3A/Users/danie/anaconda3/envs/covid-outcomes-research/lib/site-packages/sklearn/pipeline.py?line=359'>360</a>\u001b[0m \u001b[39mself\u001b[39m\u001b[39m.\u001b[39msteps[step_idx] \u001b[39m=\u001b[39m (name, fitted_transformer)\n",
      "File \u001b[1;32mc:\\Users\\danie\\anaconda3\\envs\\covid-outcomes-research\\lib\\site-packages\\joblib\\memory.py:349\u001b[0m, in \u001b[0;36mNotMemorizedFunc.__call__\u001b[1;34m(self, *args, **kwargs)\u001b[0m\n\u001b[0;32m    <a href='file:///c%3A/Users/danie/anaconda3/envs/covid-outcomes-research/lib/site-packages/joblib/memory.py?line=347'>348</a>\u001b[0m \u001b[39mdef\u001b[39;00m \u001b[39m__call__\u001b[39m(\u001b[39mself\u001b[39m, \u001b[39m*\u001b[39margs, \u001b[39m*\u001b[39m\u001b[39m*\u001b[39mkwargs):\n\u001b[1;32m--> <a href='file:///c%3A/Users/danie/anaconda3/envs/covid-outcomes-research/lib/site-packages/joblib/memory.py?line=348'>349</a>\u001b[0m     \u001b[39mreturn\u001b[39;00m \u001b[39mself\u001b[39m\u001b[39m.\u001b[39mfunc(\u001b[39m*\u001b[39margs, \u001b[39m*\u001b[39m\u001b[39m*\u001b[39mkwargs)\n",
      "File \u001b[1;32mc:\\Users\\danie\\anaconda3\\envs\\covid-outcomes-research\\lib\\site-packages\\sklearn\\pipeline.py:893\u001b[0m, in \u001b[0;36m_fit_transform_one\u001b[1;34m(transformer, X, y, weight, message_clsname, message, **fit_params)\u001b[0m\n\u001b[0;32m    <a href='file:///c%3A/Users/danie/anaconda3/envs/covid-outcomes-research/lib/site-packages/sklearn/pipeline.py?line=890'>891</a>\u001b[0m \u001b[39mwith\u001b[39;00m _print_elapsed_time(message_clsname, message):\n\u001b[0;32m    <a href='file:///c%3A/Users/danie/anaconda3/envs/covid-outcomes-research/lib/site-packages/sklearn/pipeline.py?line=891'>892</a>\u001b[0m     \u001b[39mif\u001b[39;00m \u001b[39mhasattr\u001b[39m(transformer, \u001b[39m\"\u001b[39m\u001b[39mfit_transform\u001b[39m\u001b[39m\"\u001b[39m):\n\u001b[1;32m--> <a href='file:///c%3A/Users/danie/anaconda3/envs/covid-outcomes-research/lib/site-packages/sklearn/pipeline.py?line=892'>893</a>\u001b[0m         res \u001b[39m=\u001b[39m transformer\u001b[39m.\u001b[39mfit_transform(X, y, \u001b[39m*\u001b[39m\u001b[39m*\u001b[39mfit_params)\n\u001b[0;32m    <a href='file:///c%3A/Users/danie/anaconda3/envs/covid-outcomes-research/lib/site-packages/sklearn/pipeline.py?line=893'>894</a>\u001b[0m     \u001b[39melse\u001b[39;00m:\n\u001b[0;32m    <a href='file:///c%3A/Users/danie/anaconda3/envs/covid-outcomes-research/lib/site-packages/sklearn/pipeline.py?line=894'>895</a>\u001b[0m         res \u001b[39m=\u001b[39m transformer\u001b[39m.\u001b[39mfit(X, y, \u001b[39m*\u001b[39m\u001b[39m*\u001b[39mfit_params)\u001b[39m.\u001b[39mtransform(X)\n",
      "File \u001b[1;32mc:\\Users\\danie\\anaconda3\\envs\\covid-outcomes-research\\lib\\site-packages\\sklearn\\base.py:855\u001b[0m, in \u001b[0;36mTransformerMixin.fit_transform\u001b[1;34m(self, X, y, **fit_params)\u001b[0m\n\u001b[0;32m    <a href='file:///c%3A/Users/danie/anaconda3/envs/covid-outcomes-research/lib/site-packages/sklearn/base.py?line=851'>852</a>\u001b[0m     \u001b[39mreturn\u001b[39;00m \u001b[39mself\u001b[39m\u001b[39m.\u001b[39mfit(X, \u001b[39m*\u001b[39m\u001b[39m*\u001b[39mfit_params)\u001b[39m.\u001b[39mtransform(X)\n\u001b[0;32m    <a href='file:///c%3A/Users/danie/anaconda3/envs/covid-outcomes-research/lib/site-packages/sklearn/base.py?line=852'>853</a>\u001b[0m \u001b[39melse\u001b[39;00m:\n\u001b[0;32m    <a href='file:///c%3A/Users/danie/anaconda3/envs/covid-outcomes-research/lib/site-packages/sklearn/base.py?line=853'>854</a>\u001b[0m     \u001b[39m# fit method of arity 2 (supervised transformation)\u001b[39;00m\n\u001b[1;32m--> <a href='file:///c%3A/Users/danie/anaconda3/envs/covid-outcomes-research/lib/site-packages/sklearn/base.py?line=854'>855</a>\u001b[0m     \u001b[39mreturn\u001b[39;00m \u001b[39mself\u001b[39m\u001b[39m.\u001b[39mfit(X, y, \u001b[39m*\u001b[39m\u001b[39m*\u001b[39mfit_params)\u001b[39m.\u001b[39mtransform(X)\n",
      "File \u001b[1;32mc:\\Users\\danie\\anaconda3\\envs\\covid-outcomes-research\\lib\\site-packages\\sklearn\\preprocessing\\_data.py:806\u001b[0m, in \u001b[0;36mStandardScaler.fit\u001b[1;34m(self, X, y, sample_weight)\u001b[0m\n\u001b[0;32m    <a href='file:///c%3A/Users/danie/anaconda3/envs/covid-outcomes-research/lib/site-packages/sklearn/preprocessing/_data.py?line=803'>804</a>\u001b[0m \u001b[39m# Reset internal state before fitting\u001b[39;00m\n\u001b[0;32m    <a href='file:///c%3A/Users/danie/anaconda3/envs/covid-outcomes-research/lib/site-packages/sklearn/preprocessing/_data.py?line=804'>805</a>\u001b[0m \u001b[39mself\u001b[39m\u001b[39m.\u001b[39m_reset()\n\u001b[1;32m--> <a href='file:///c%3A/Users/danie/anaconda3/envs/covid-outcomes-research/lib/site-packages/sklearn/preprocessing/_data.py?line=805'>806</a>\u001b[0m \u001b[39mreturn\u001b[39;00m \u001b[39mself\u001b[39;49m\u001b[39m.\u001b[39;49mpartial_fit(X, y, sample_weight)\n",
      "File \u001b[1;32mc:\\Users\\danie\\anaconda3\\envs\\covid-outcomes-research\\lib\\site-packages\\sklearn\\preprocessing\\_data.py:841\u001b[0m, in \u001b[0;36mStandardScaler.partial_fit\u001b[1;34m(self, X, y, sample_weight)\u001b[0m\n\u001b[0;32m    <a href='file:///c%3A/Users/danie/anaconda3/envs/covid-outcomes-research/lib/site-packages/sklearn/preprocessing/_data.py?line=808'>809</a>\u001b[0m \u001b[39m\"\"\"Online computation of mean and std on X for later scaling.\u001b[39;00m\n\u001b[0;32m    <a href='file:///c%3A/Users/danie/anaconda3/envs/covid-outcomes-research/lib/site-packages/sklearn/preprocessing/_data.py?line=809'>810</a>\u001b[0m \n\u001b[0;32m    <a href='file:///c%3A/Users/danie/anaconda3/envs/covid-outcomes-research/lib/site-packages/sklearn/preprocessing/_data.py?line=810'>811</a>\u001b[0m \u001b[39mAll of X is processed as a single batch. This is intended for cases\u001b[39;00m\n\u001b[1;32m   (...)\u001b[0m\n\u001b[0;32m    <a href='file:///c%3A/Users/danie/anaconda3/envs/covid-outcomes-research/lib/site-packages/sklearn/preprocessing/_data.py?line=837'>838</a>\u001b[0m \u001b[39m    Fitted scaler.\u001b[39;00m\n\u001b[0;32m    <a href='file:///c%3A/Users/danie/anaconda3/envs/covid-outcomes-research/lib/site-packages/sklearn/preprocessing/_data.py?line=838'>839</a>\u001b[0m \u001b[39m\"\"\"\u001b[39;00m\n\u001b[0;32m    <a href='file:///c%3A/Users/danie/anaconda3/envs/covid-outcomes-research/lib/site-packages/sklearn/preprocessing/_data.py?line=839'>840</a>\u001b[0m first_call \u001b[39m=\u001b[39m \u001b[39mnot\u001b[39;00m \u001b[39mhasattr\u001b[39m(\u001b[39mself\u001b[39m, \u001b[39m\"\u001b[39m\u001b[39mn_samples_seen_\u001b[39m\u001b[39m\"\u001b[39m)\n\u001b[1;32m--> <a href='file:///c%3A/Users/danie/anaconda3/envs/covid-outcomes-research/lib/site-packages/sklearn/preprocessing/_data.py?line=840'>841</a>\u001b[0m X \u001b[39m=\u001b[39m \u001b[39mself\u001b[39;49m\u001b[39m.\u001b[39;49m_validate_data(\n\u001b[0;32m    <a href='file:///c%3A/Users/danie/anaconda3/envs/covid-outcomes-research/lib/site-packages/sklearn/preprocessing/_data.py?line=841'>842</a>\u001b[0m     X,\n\u001b[0;32m    <a href='file:///c%3A/Users/danie/anaconda3/envs/covid-outcomes-research/lib/site-packages/sklearn/preprocessing/_data.py?line=842'>843</a>\u001b[0m     accept_sparse\u001b[39m=\u001b[39;49m(\u001b[39m\"\u001b[39;49m\u001b[39mcsr\u001b[39;49m\u001b[39m\"\u001b[39;49m, \u001b[39m\"\u001b[39;49m\u001b[39mcsc\u001b[39;49m\u001b[39m\"\u001b[39;49m),\n\u001b[0;32m    <a href='file:///c%3A/Users/danie/anaconda3/envs/covid-outcomes-research/lib/site-packages/sklearn/preprocessing/_data.py?line=843'>844</a>\u001b[0m     estimator\u001b[39m=\u001b[39;49m\u001b[39mself\u001b[39;49m,\n\u001b[0;32m    <a href='file:///c%3A/Users/danie/anaconda3/envs/covid-outcomes-research/lib/site-packages/sklearn/preprocessing/_data.py?line=844'>845</a>\u001b[0m     dtype\u001b[39m=\u001b[39;49mFLOAT_DTYPES,\n\u001b[0;32m    <a href='file:///c%3A/Users/danie/anaconda3/envs/covid-outcomes-research/lib/site-packages/sklearn/preprocessing/_data.py?line=845'>846</a>\u001b[0m     force_all_finite\u001b[39m=\u001b[39;49m\u001b[39m\"\u001b[39;49m\u001b[39mallow-nan\u001b[39;49m\u001b[39m\"\u001b[39;49m,\n\u001b[0;32m    <a href='file:///c%3A/Users/danie/anaconda3/envs/covid-outcomes-research/lib/site-packages/sklearn/preprocessing/_data.py?line=846'>847</a>\u001b[0m     reset\u001b[39m=\u001b[39;49mfirst_call,\n\u001b[0;32m    <a href='file:///c%3A/Users/danie/anaconda3/envs/covid-outcomes-research/lib/site-packages/sklearn/preprocessing/_data.py?line=847'>848</a>\u001b[0m )\n\u001b[0;32m    <a href='file:///c%3A/Users/danie/anaconda3/envs/covid-outcomes-research/lib/site-packages/sklearn/preprocessing/_data.py?line=848'>849</a>\u001b[0m n_features \u001b[39m=\u001b[39m X\u001b[39m.\u001b[39mshape[\u001b[39m1\u001b[39m]\n\u001b[0;32m    <a href='file:///c%3A/Users/danie/anaconda3/envs/covid-outcomes-research/lib/site-packages/sklearn/preprocessing/_data.py?line=850'>851</a>\u001b[0m \u001b[39mif\u001b[39;00m sample_weight \u001b[39mis\u001b[39;00m \u001b[39mnot\u001b[39;00m \u001b[39mNone\u001b[39;00m:\n",
      "File \u001b[1;32mc:\\Users\\danie\\anaconda3\\envs\\covid-outcomes-research\\lib\\site-packages\\sklearn\\base.py:566\u001b[0m, in \u001b[0;36mBaseEstimator._validate_data\u001b[1;34m(self, X, y, reset, validate_separately, **check_params)\u001b[0m\n\u001b[0;32m    <a href='file:///c%3A/Users/danie/anaconda3/envs/covid-outcomes-research/lib/site-packages/sklearn/base.py?line=563'>564</a>\u001b[0m     \u001b[39mraise\u001b[39;00m \u001b[39mValueError\u001b[39;00m(\u001b[39m\"\u001b[39m\u001b[39mValidation should be done on X, y or both.\u001b[39m\u001b[39m\"\u001b[39m)\n\u001b[0;32m    <a href='file:///c%3A/Users/danie/anaconda3/envs/covid-outcomes-research/lib/site-packages/sklearn/base.py?line=564'>565</a>\u001b[0m \u001b[39melif\u001b[39;00m \u001b[39mnot\u001b[39;00m no_val_X \u001b[39mand\u001b[39;00m no_val_y:\n\u001b[1;32m--> <a href='file:///c%3A/Users/danie/anaconda3/envs/covid-outcomes-research/lib/site-packages/sklearn/base.py?line=565'>566</a>\u001b[0m     X \u001b[39m=\u001b[39m check_array(X, \u001b[39m*\u001b[39m\u001b[39m*\u001b[39mcheck_params)\n\u001b[0;32m    <a href='file:///c%3A/Users/danie/anaconda3/envs/covid-outcomes-research/lib/site-packages/sklearn/base.py?line=566'>567</a>\u001b[0m     out \u001b[39m=\u001b[39m X\n\u001b[0;32m    <a href='file:///c%3A/Users/danie/anaconda3/envs/covid-outcomes-research/lib/site-packages/sklearn/base.py?line=567'>568</a>\u001b[0m \u001b[39melif\u001b[39;00m no_val_X \u001b[39mand\u001b[39;00m \u001b[39mnot\u001b[39;00m no_val_y:\n",
      "File \u001b[1;32mc:\\Users\\danie\\anaconda3\\envs\\covid-outcomes-research\\lib\\site-packages\\sklearn\\utils\\validation.py:746\u001b[0m, in \u001b[0;36mcheck_array\u001b[1;34m(array, accept_sparse, accept_large_sparse, dtype, order, copy, force_all_finite, ensure_2d, allow_nd, ensure_min_samples, ensure_min_features, estimator)\u001b[0m\n\u001b[0;32m    <a href='file:///c%3A/Users/danie/anaconda3/envs/covid-outcomes-research/lib/site-packages/sklearn/utils/validation.py?line=743'>744</a>\u001b[0m         array \u001b[39m=\u001b[39m array\u001b[39m.\u001b[39mastype(dtype, casting\u001b[39m=\u001b[39m\u001b[39m\"\u001b[39m\u001b[39munsafe\u001b[39m\u001b[39m\"\u001b[39m, copy\u001b[39m=\u001b[39m\u001b[39mFalse\u001b[39;00m)\n\u001b[0;32m    <a href='file:///c%3A/Users/danie/anaconda3/envs/covid-outcomes-research/lib/site-packages/sklearn/utils/validation.py?line=744'>745</a>\u001b[0m     \u001b[39melse\u001b[39;00m:\n\u001b[1;32m--> <a href='file:///c%3A/Users/danie/anaconda3/envs/covid-outcomes-research/lib/site-packages/sklearn/utils/validation.py?line=745'>746</a>\u001b[0m         array \u001b[39m=\u001b[39m np\u001b[39m.\u001b[39;49masarray(array, order\u001b[39m=\u001b[39;49morder, dtype\u001b[39m=\u001b[39;49mdtype)\n\u001b[0;32m    <a href='file:///c%3A/Users/danie/anaconda3/envs/covid-outcomes-research/lib/site-packages/sklearn/utils/validation.py?line=746'>747</a>\u001b[0m \u001b[39mexcept\u001b[39;00m ComplexWarning \u001b[39mas\u001b[39;00m complex_warning:\n\u001b[0;32m    <a href='file:///c%3A/Users/danie/anaconda3/envs/covid-outcomes-research/lib/site-packages/sklearn/utils/validation.py?line=747'>748</a>\u001b[0m     \u001b[39mraise\u001b[39;00m \u001b[39mValueError\u001b[39;00m(\n\u001b[0;32m    <a href='file:///c%3A/Users/danie/anaconda3/envs/covid-outcomes-research/lib/site-packages/sklearn/utils/validation.py?line=748'>749</a>\u001b[0m         \u001b[39m\"\u001b[39m\u001b[39mComplex data not supported\u001b[39m\u001b[39m\\n\u001b[39;00m\u001b[39m{}\u001b[39;00m\u001b[39m\\n\u001b[39;00m\u001b[39m\"\u001b[39m\u001b[39m.\u001b[39mformat(array)\n\u001b[0;32m    <a href='file:///c%3A/Users/danie/anaconda3/envs/covid-outcomes-research/lib/site-packages/sklearn/utils/validation.py?line=749'>750</a>\u001b[0m     ) \u001b[39mfrom\u001b[39;00m \u001b[39mcomplex_warning\u001b[39;00m\n",
      "File \u001b[1;32mc:\\Users\\danie\\anaconda3\\envs\\covid-outcomes-research\\lib\\site-packages\\pandas\\core\\generic.py:2064\u001b[0m, in \u001b[0;36mNDFrame.__array__\u001b[1;34m(self, dtype)\u001b[0m\n\u001b[0;32m   <a href='file:///c%3A/Users/danie/anaconda3/envs/covid-outcomes-research/lib/site-packages/pandas/core/generic.py?line=2062'>2063</a>\u001b[0m \u001b[39mdef\u001b[39;00m \u001b[39m__array__\u001b[39m(\u001b[39mself\u001b[39m, dtype: npt\u001b[39m.\u001b[39mDTypeLike \u001b[39m|\u001b[39m \u001b[39mNone\u001b[39;00m \u001b[39m=\u001b[39m \u001b[39mNone\u001b[39;00m) \u001b[39m-\u001b[39m\u001b[39m>\u001b[39m np\u001b[39m.\u001b[39mndarray:\n\u001b[1;32m-> <a href='file:///c%3A/Users/danie/anaconda3/envs/covid-outcomes-research/lib/site-packages/pandas/core/generic.py?line=2063'>2064</a>\u001b[0m     \u001b[39mreturn\u001b[39;00m np\u001b[39m.\u001b[39;49masarray(\u001b[39mself\u001b[39;49m\u001b[39m.\u001b[39;49m_values, dtype\u001b[39m=\u001b[39;49mdtype)\n",
      "\u001b[1;31mValueError\u001b[0m: could not convert string to float: 'Georgia'"
     ]
    }
   ],
   "source": [
    "#Using a pipeline to dynamically standardize the data that goes into our model\n",
    "\n",
    "from sklearn.pipeline import make_pipeline\n",
    "from sklearn.preprocessing import StandardScaler\n",
    "\n",
    "\n",
    "pipeline = make_pipeline(StandardScaler(), Lasso())\n",
    "pipeline.fit(X_train, y_train)\n",
    "print(pipeline[1].coef_, pipeline[1].intercept_)\n"
   ]
  },
  {
   "cell_type": "code",
   "execution_count": 9,
   "id": "94e692bb",
   "metadata": {},
   "outputs": [
    {
     "data": {
      "text/plain": [
       "0.885725572671928"
      ]
     },
     "execution_count": 9,
     "metadata": {},
     "output_type": "execute_result"
    }
   ],
   "source": [
    "model.score(X, y1)"
   ]
  },
  {
   "cell_type": "code",
   "execution_count": 10,
   "id": "11452a59",
   "metadata": {},
   "outputs": [
    {
     "data": {
      "text/plain": [
       "array([-5.14666552e-04,  6.25284863e-04,  1.11475026e-03, -1.58974077e-04,\n",
       "       -9.46138767e-07,  5.32206805e-04, -3.45792607e-04, -8.36443498e-05,\n",
       "       -1.88682893e-03,  4.87532799e-03,  2.20358077e-04,  4.73594650e-04,\n",
       "        9.64359037e-04, -6.83833008e-03,  7.78248403e-03, -1.96275617e-04,\n",
       "        6.56454392e-03, -7.86933621e-01])"
      ]
     },
     "execution_count": 10,
     "metadata": {},
     "output_type": "execute_result"
    }
   ],
   "source": [
    "model.coef_"
   ]
  },
  {
   "cell_type": "markdown",
   "id": "ce06792a",
   "metadata": {},
   "source": [
    "**Finding the optimal value for $\\alpha$**"
   ]
  },
  {
   "cell_type": "code",
   "execution_count": 19,
   "id": "0472c17a",
   "metadata": {},
   "outputs": [
    {
     "ename": "ValueError",
     "evalue": "could not convert string to float: 'Georgia'",
     "output_type": "error",
     "traceback": [
      "\u001b[1;31m---------------------------------------------------------------------------\u001b[0m",
      "\u001b[1;31mValueError\u001b[0m                                Traceback (most recent call last)",
      "\u001b[1;32md:\\DANIELA\\Projects\\WIDS\\covid-outcomes-research\\notebooks\\lasso_model.ipynb Cell 41'\u001b[0m in \u001b[0;36m<cell line: 3>\u001b[1;34m()\u001b[0m\n\u001b[0;32m      <a href='vscode-notebook-cell:/d%3A/DANIELA/Projects/WIDS/covid-outcomes-research/notebooks/lasso_model.ipynb#ch0000047?line=0'>1</a>\u001b[0m lasso_cv_pipeline \u001b[39m=\u001b[39m make_pipeline(StandardScaler(),\n\u001b[0;32m      <a href='vscode-notebook-cell:/d%3A/DANIELA/Projects/WIDS/covid-outcomes-research/notebooks/lasso_model.ipynb#ch0000047?line=1'>2</a>\u001b[0m                                   LassoCV(alphas\u001b[39m=\u001b[39m[\u001b[39m0.1\u001b[39m, \u001b[39m1.0\u001b[39m, \u001b[39m10\u001b[39m], max_iter\u001b[39m=\u001b[39m\u001b[39m100000\u001b[39m))\n\u001b[1;32m----> <a href='vscode-notebook-cell:/d%3A/DANIELA/Projects/WIDS/covid-outcomes-research/notebooks/lasso_model.ipynb#ch0000047?line=2'>3</a>\u001b[0m lasso_cv_pipeline\u001b[39m.\u001b[39;49mfit(X_train, y_train)\n\u001b[0;32m      <a href='vscode-notebook-cell:/d%3A/DANIELA/Projects/WIDS/covid-outcomes-research/notebooks/lasso_model.ipynb#ch0000047?line=3'>4</a>\u001b[0m \u001b[39mprint\u001b[39m(lasso_cv_pipeline[\u001b[39m1\u001b[39m]\u001b[39m.\u001b[39malpha_)\n",
      "File \u001b[1;32mc:\\Users\\danie\\anaconda3\\envs\\covid-outcomes-research\\lib\\site-packages\\sklearn\\pipeline.py:390\u001b[0m, in \u001b[0;36mPipeline.fit\u001b[1;34m(self, X, y, **fit_params)\u001b[0m\n\u001b[0;32m    <a href='file:///c%3A/Users/danie/anaconda3/envs/covid-outcomes-research/lib/site-packages/sklearn/pipeline.py?line=363'>364</a>\u001b[0m \u001b[39m\"\"\"Fit the model.\u001b[39;00m\n\u001b[0;32m    <a href='file:///c%3A/Users/danie/anaconda3/envs/covid-outcomes-research/lib/site-packages/sklearn/pipeline.py?line=364'>365</a>\u001b[0m \n\u001b[0;32m    <a href='file:///c%3A/Users/danie/anaconda3/envs/covid-outcomes-research/lib/site-packages/sklearn/pipeline.py?line=365'>366</a>\u001b[0m \u001b[39mFit all the transformers one after the other and transform the\u001b[39;00m\n\u001b[1;32m   (...)\u001b[0m\n\u001b[0;32m    <a href='file:///c%3A/Users/danie/anaconda3/envs/covid-outcomes-research/lib/site-packages/sklearn/pipeline.py?line=386'>387</a>\u001b[0m \u001b[39m    Pipeline with fitted steps.\u001b[39;00m\n\u001b[0;32m    <a href='file:///c%3A/Users/danie/anaconda3/envs/covid-outcomes-research/lib/site-packages/sklearn/pipeline.py?line=387'>388</a>\u001b[0m \u001b[39m\"\"\"\u001b[39;00m\n\u001b[0;32m    <a href='file:///c%3A/Users/danie/anaconda3/envs/covid-outcomes-research/lib/site-packages/sklearn/pipeline.py?line=388'>389</a>\u001b[0m fit_params_steps \u001b[39m=\u001b[39m \u001b[39mself\u001b[39m\u001b[39m.\u001b[39m_check_fit_params(\u001b[39m*\u001b[39m\u001b[39m*\u001b[39mfit_params)\n\u001b[1;32m--> <a href='file:///c%3A/Users/danie/anaconda3/envs/covid-outcomes-research/lib/site-packages/sklearn/pipeline.py?line=389'>390</a>\u001b[0m Xt \u001b[39m=\u001b[39m \u001b[39mself\u001b[39m\u001b[39m.\u001b[39m_fit(X, y, \u001b[39m*\u001b[39m\u001b[39m*\u001b[39mfit_params_steps)\n\u001b[0;32m    <a href='file:///c%3A/Users/danie/anaconda3/envs/covid-outcomes-research/lib/site-packages/sklearn/pipeline.py?line=390'>391</a>\u001b[0m \u001b[39mwith\u001b[39;00m _print_elapsed_time(\u001b[39m\"\u001b[39m\u001b[39mPipeline\u001b[39m\u001b[39m\"\u001b[39m, \u001b[39mself\u001b[39m\u001b[39m.\u001b[39m_log_message(\u001b[39mlen\u001b[39m(\u001b[39mself\u001b[39m\u001b[39m.\u001b[39msteps) \u001b[39m-\u001b[39m \u001b[39m1\u001b[39m)):\n\u001b[0;32m    <a href='file:///c%3A/Users/danie/anaconda3/envs/covid-outcomes-research/lib/site-packages/sklearn/pipeline.py?line=391'>392</a>\u001b[0m     \u001b[39mif\u001b[39;00m \u001b[39mself\u001b[39m\u001b[39m.\u001b[39m_final_estimator \u001b[39m!=\u001b[39m \u001b[39m\"\u001b[39m\u001b[39mpassthrough\u001b[39m\u001b[39m\"\u001b[39m:\n",
      "File \u001b[1;32mc:\\Users\\danie\\anaconda3\\envs\\covid-outcomes-research\\lib\\site-packages\\sklearn\\pipeline.py:348\u001b[0m, in \u001b[0;36mPipeline._fit\u001b[1;34m(self, X, y, **fit_params_steps)\u001b[0m\n\u001b[0;32m    <a href='file:///c%3A/Users/danie/anaconda3/envs/covid-outcomes-research/lib/site-packages/sklearn/pipeline.py?line=345'>346</a>\u001b[0m     cloned_transformer \u001b[39m=\u001b[39m clone(transformer)\n\u001b[0;32m    <a href='file:///c%3A/Users/danie/anaconda3/envs/covid-outcomes-research/lib/site-packages/sklearn/pipeline.py?line=346'>347</a>\u001b[0m \u001b[39m# Fit or load from cache the current transformer\u001b[39;00m\n\u001b[1;32m--> <a href='file:///c%3A/Users/danie/anaconda3/envs/covid-outcomes-research/lib/site-packages/sklearn/pipeline.py?line=347'>348</a>\u001b[0m X, fitted_transformer \u001b[39m=\u001b[39m fit_transform_one_cached(\n\u001b[0;32m    <a href='file:///c%3A/Users/danie/anaconda3/envs/covid-outcomes-research/lib/site-packages/sklearn/pipeline.py?line=348'>349</a>\u001b[0m     cloned_transformer,\n\u001b[0;32m    <a href='file:///c%3A/Users/danie/anaconda3/envs/covid-outcomes-research/lib/site-packages/sklearn/pipeline.py?line=349'>350</a>\u001b[0m     X,\n\u001b[0;32m    <a href='file:///c%3A/Users/danie/anaconda3/envs/covid-outcomes-research/lib/site-packages/sklearn/pipeline.py?line=350'>351</a>\u001b[0m     y,\n\u001b[0;32m    <a href='file:///c%3A/Users/danie/anaconda3/envs/covid-outcomes-research/lib/site-packages/sklearn/pipeline.py?line=351'>352</a>\u001b[0m     \u001b[39mNone\u001b[39;00m,\n\u001b[0;32m    <a href='file:///c%3A/Users/danie/anaconda3/envs/covid-outcomes-research/lib/site-packages/sklearn/pipeline.py?line=352'>353</a>\u001b[0m     message_clsname\u001b[39m=\u001b[39m\u001b[39m\"\u001b[39m\u001b[39mPipeline\u001b[39m\u001b[39m\"\u001b[39m,\n\u001b[0;32m    <a href='file:///c%3A/Users/danie/anaconda3/envs/covid-outcomes-research/lib/site-packages/sklearn/pipeline.py?line=353'>354</a>\u001b[0m     message\u001b[39m=\u001b[39m\u001b[39mself\u001b[39m\u001b[39m.\u001b[39m_log_message(step_idx),\n\u001b[0;32m    <a href='file:///c%3A/Users/danie/anaconda3/envs/covid-outcomes-research/lib/site-packages/sklearn/pipeline.py?line=354'>355</a>\u001b[0m     \u001b[39m*\u001b[39m\u001b[39m*\u001b[39mfit_params_steps[name],\n\u001b[0;32m    <a href='file:///c%3A/Users/danie/anaconda3/envs/covid-outcomes-research/lib/site-packages/sklearn/pipeline.py?line=355'>356</a>\u001b[0m )\n\u001b[0;32m    <a href='file:///c%3A/Users/danie/anaconda3/envs/covid-outcomes-research/lib/site-packages/sklearn/pipeline.py?line=356'>357</a>\u001b[0m \u001b[39m# Replace the transformer of the step with the fitted\u001b[39;00m\n\u001b[0;32m    <a href='file:///c%3A/Users/danie/anaconda3/envs/covid-outcomes-research/lib/site-packages/sklearn/pipeline.py?line=357'>358</a>\u001b[0m \u001b[39m# transformer. This is necessary when loading the transformer\u001b[39;00m\n\u001b[0;32m    <a href='file:///c%3A/Users/danie/anaconda3/envs/covid-outcomes-research/lib/site-packages/sklearn/pipeline.py?line=358'>359</a>\u001b[0m \u001b[39m# from the cache.\u001b[39;00m\n\u001b[0;32m    <a href='file:///c%3A/Users/danie/anaconda3/envs/covid-outcomes-research/lib/site-packages/sklearn/pipeline.py?line=359'>360</a>\u001b[0m \u001b[39mself\u001b[39m\u001b[39m.\u001b[39msteps[step_idx] \u001b[39m=\u001b[39m (name, fitted_transformer)\n",
      "File \u001b[1;32mc:\\Users\\danie\\anaconda3\\envs\\covid-outcomes-research\\lib\\site-packages\\joblib\\memory.py:349\u001b[0m, in \u001b[0;36mNotMemorizedFunc.__call__\u001b[1;34m(self, *args, **kwargs)\u001b[0m\n\u001b[0;32m    <a href='file:///c%3A/Users/danie/anaconda3/envs/covid-outcomes-research/lib/site-packages/joblib/memory.py?line=347'>348</a>\u001b[0m \u001b[39mdef\u001b[39;00m \u001b[39m__call__\u001b[39m(\u001b[39mself\u001b[39m, \u001b[39m*\u001b[39margs, \u001b[39m*\u001b[39m\u001b[39m*\u001b[39mkwargs):\n\u001b[1;32m--> <a href='file:///c%3A/Users/danie/anaconda3/envs/covid-outcomes-research/lib/site-packages/joblib/memory.py?line=348'>349</a>\u001b[0m     \u001b[39mreturn\u001b[39;00m \u001b[39mself\u001b[39m\u001b[39m.\u001b[39mfunc(\u001b[39m*\u001b[39margs, \u001b[39m*\u001b[39m\u001b[39m*\u001b[39mkwargs)\n",
      "File \u001b[1;32mc:\\Users\\danie\\anaconda3\\envs\\covid-outcomes-research\\lib\\site-packages\\sklearn\\pipeline.py:893\u001b[0m, in \u001b[0;36m_fit_transform_one\u001b[1;34m(transformer, X, y, weight, message_clsname, message, **fit_params)\u001b[0m\n\u001b[0;32m    <a href='file:///c%3A/Users/danie/anaconda3/envs/covid-outcomes-research/lib/site-packages/sklearn/pipeline.py?line=890'>891</a>\u001b[0m \u001b[39mwith\u001b[39;00m _print_elapsed_time(message_clsname, message):\n\u001b[0;32m    <a href='file:///c%3A/Users/danie/anaconda3/envs/covid-outcomes-research/lib/site-packages/sklearn/pipeline.py?line=891'>892</a>\u001b[0m     \u001b[39mif\u001b[39;00m \u001b[39mhasattr\u001b[39m(transformer, \u001b[39m\"\u001b[39m\u001b[39mfit_transform\u001b[39m\u001b[39m\"\u001b[39m):\n\u001b[1;32m--> <a href='file:///c%3A/Users/danie/anaconda3/envs/covid-outcomes-research/lib/site-packages/sklearn/pipeline.py?line=892'>893</a>\u001b[0m         res \u001b[39m=\u001b[39m transformer\u001b[39m.\u001b[39mfit_transform(X, y, \u001b[39m*\u001b[39m\u001b[39m*\u001b[39mfit_params)\n\u001b[0;32m    <a href='file:///c%3A/Users/danie/anaconda3/envs/covid-outcomes-research/lib/site-packages/sklearn/pipeline.py?line=893'>894</a>\u001b[0m     \u001b[39melse\u001b[39;00m:\n\u001b[0;32m    <a href='file:///c%3A/Users/danie/anaconda3/envs/covid-outcomes-research/lib/site-packages/sklearn/pipeline.py?line=894'>895</a>\u001b[0m         res \u001b[39m=\u001b[39m transformer\u001b[39m.\u001b[39mfit(X, y, \u001b[39m*\u001b[39m\u001b[39m*\u001b[39mfit_params)\u001b[39m.\u001b[39mtransform(X)\n",
      "File \u001b[1;32mc:\\Users\\danie\\anaconda3\\envs\\covid-outcomes-research\\lib\\site-packages\\sklearn\\base.py:855\u001b[0m, in \u001b[0;36mTransformerMixin.fit_transform\u001b[1;34m(self, X, y, **fit_params)\u001b[0m\n\u001b[0;32m    <a href='file:///c%3A/Users/danie/anaconda3/envs/covid-outcomes-research/lib/site-packages/sklearn/base.py?line=851'>852</a>\u001b[0m     \u001b[39mreturn\u001b[39;00m \u001b[39mself\u001b[39m\u001b[39m.\u001b[39mfit(X, \u001b[39m*\u001b[39m\u001b[39m*\u001b[39mfit_params)\u001b[39m.\u001b[39mtransform(X)\n\u001b[0;32m    <a href='file:///c%3A/Users/danie/anaconda3/envs/covid-outcomes-research/lib/site-packages/sklearn/base.py?line=852'>853</a>\u001b[0m \u001b[39melse\u001b[39;00m:\n\u001b[0;32m    <a href='file:///c%3A/Users/danie/anaconda3/envs/covid-outcomes-research/lib/site-packages/sklearn/base.py?line=853'>854</a>\u001b[0m     \u001b[39m# fit method of arity 2 (supervised transformation)\u001b[39;00m\n\u001b[1;32m--> <a href='file:///c%3A/Users/danie/anaconda3/envs/covid-outcomes-research/lib/site-packages/sklearn/base.py?line=854'>855</a>\u001b[0m     \u001b[39mreturn\u001b[39;00m \u001b[39mself\u001b[39m\u001b[39m.\u001b[39mfit(X, y, \u001b[39m*\u001b[39m\u001b[39m*\u001b[39mfit_params)\u001b[39m.\u001b[39mtransform(X)\n",
      "File \u001b[1;32mc:\\Users\\danie\\anaconda3\\envs\\covid-outcomes-research\\lib\\site-packages\\sklearn\\preprocessing\\_data.py:806\u001b[0m, in \u001b[0;36mStandardScaler.fit\u001b[1;34m(self, X, y, sample_weight)\u001b[0m\n\u001b[0;32m    <a href='file:///c%3A/Users/danie/anaconda3/envs/covid-outcomes-research/lib/site-packages/sklearn/preprocessing/_data.py?line=803'>804</a>\u001b[0m \u001b[39m# Reset internal state before fitting\u001b[39;00m\n\u001b[0;32m    <a href='file:///c%3A/Users/danie/anaconda3/envs/covid-outcomes-research/lib/site-packages/sklearn/preprocessing/_data.py?line=804'>805</a>\u001b[0m \u001b[39mself\u001b[39m\u001b[39m.\u001b[39m_reset()\n\u001b[1;32m--> <a href='file:///c%3A/Users/danie/anaconda3/envs/covid-outcomes-research/lib/site-packages/sklearn/preprocessing/_data.py?line=805'>806</a>\u001b[0m \u001b[39mreturn\u001b[39;00m \u001b[39mself\u001b[39;49m\u001b[39m.\u001b[39;49mpartial_fit(X, y, sample_weight)\n",
      "File \u001b[1;32mc:\\Users\\danie\\anaconda3\\envs\\covid-outcomes-research\\lib\\site-packages\\sklearn\\preprocessing\\_data.py:841\u001b[0m, in \u001b[0;36mStandardScaler.partial_fit\u001b[1;34m(self, X, y, sample_weight)\u001b[0m\n\u001b[0;32m    <a href='file:///c%3A/Users/danie/anaconda3/envs/covid-outcomes-research/lib/site-packages/sklearn/preprocessing/_data.py?line=808'>809</a>\u001b[0m \u001b[39m\"\"\"Online computation of mean and std on X for later scaling.\u001b[39;00m\n\u001b[0;32m    <a href='file:///c%3A/Users/danie/anaconda3/envs/covid-outcomes-research/lib/site-packages/sklearn/preprocessing/_data.py?line=809'>810</a>\u001b[0m \n\u001b[0;32m    <a href='file:///c%3A/Users/danie/anaconda3/envs/covid-outcomes-research/lib/site-packages/sklearn/preprocessing/_data.py?line=810'>811</a>\u001b[0m \u001b[39mAll of X is processed as a single batch. This is intended for cases\u001b[39;00m\n\u001b[1;32m   (...)\u001b[0m\n\u001b[0;32m    <a href='file:///c%3A/Users/danie/anaconda3/envs/covid-outcomes-research/lib/site-packages/sklearn/preprocessing/_data.py?line=837'>838</a>\u001b[0m \u001b[39m    Fitted scaler.\u001b[39;00m\n\u001b[0;32m    <a href='file:///c%3A/Users/danie/anaconda3/envs/covid-outcomes-research/lib/site-packages/sklearn/preprocessing/_data.py?line=838'>839</a>\u001b[0m \u001b[39m\"\"\"\u001b[39;00m\n\u001b[0;32m    <a href='file:///c%3A/Users/danie/anaconda3/envs/covid-outcomes-research/lib/site-packages/sklearn/preprocessing/_data.py?line=839'>840</a>\u001b[0m first_call \u001b[39m=\u001b[39m \u001b[39mnot\u001b[39;00m \u001b[39mhasattr\u001b[39m(\u001b[39mself\u001b[39m, \u001b[39m\"\u001b[39m\u001b[39mn_samples_seen_\u001b[39m\u001b[39m\"\u001b[39m)\n\u001b[1;32m--> <a href='file:///c%3A/Users/danie/anaconda3/envs/covid-outcomes-research/lib/site-packages/sklearn/preprocessing/_data.py?line=840'>841</a>\u001b[0m X \u001b[39m=\u001b[39m \u001b[39mself\u001b[39;49m\u001b[39m.\u001b[39;49m_validate_data(\n\u001b[0;32m    <a href='file:///c%3A/Users/danie/anaconda3/envs/covid-outcomes-research/lib/site-packages/sklearn/preprocessing/_data.py?line=841'>842</a>\u001b[0m     X,\n\u001b[0;32m    <a href='file:///c%3A/Users/danie/anaconda3/envs/covid-outcomes-research/lib/site-packages/sklearn/preprocessing/_data.py?line=842'>843</a>\u001b[0m     accept_sparse\u001b[39m=\u001b[39;49m(\u001b[39m\"\u001b[39;49m\u001b[39mcsr\u001b[39;49m\u001b[39m\"\u001b[39;49m, \u001b[39m\"\u001b[39;49m\u001b[39mcsc\u001b[39;49m\u001b[39m\"\u001b[39;49m),\n\u001b[0;32m    <a href='file:///c%3A/Users/danie/anaconda3/envs/covid-outcomes-research/lib/site-packages/sklearn/preprocessing/_data.py?line=843'>844</a>\u001b[0m     estimator\u001b[39m=\u001b[39;49m\u001b[39mself\u001b[39;49m,\n\u001b[0;32m    <a href='file:///c%3A/Users/danie/anaconda3/envs/covid-outcomes-research/lib/site-packages/sklearn/preprocessing/_data.py?line=844'>845</a>\u001b[0m     dtype\u001b[39m=\u001b[39;49mFLOAT_DTYPES,\n\u001b[0;32m    <a href='file:///c%3A/Users/danie/anaconda3/envs/covid-outcomes-research/lib/site-packages/sklearn/preprocessing/_data.py?line=845'>846</a>\u001b[0m     force_all_finite\u001b[39m=\u001b[39;49m\u001b[39m\"\u001b[39;49m\u001b[39mallow-nan\u001b[39;49m\u001b[39m\"\u001b[39;49m,\n\u001b[0;32m    <a href='file:///c%3A/Users/danie/anaconda3/envs/covid-outcomes-research/lib/site-packages/sklearn/preprocessing/_data.py?line=846'>847</a>\u001b[0m     reset\u001b[39m=\u001b[39;49mfirst_call,\n\u001b[0;32m    <a href='file:///c%3A/Users/danie/anaconda3/envs/covid-outcomes-research/lib/site-packages/sklearn/preprocessing/_data.py?line=847'>848</a>\u001b[0m )\n\u001b[0;32m    <a href='file:///c%3A/Users/danie/anaconda3/envs/covid-outcomes-research/lib/site-packages/sklearn/preprocessing/_data.py?line=848'>849</a>\u001b[0m n_features \u001b[39m=\u001b[39m X\u001b[39m.\u001b[39mshape[\u001b[39m1\u001b[39m]\n\u001b[0;32m    <a href='file:///c%3A/Users/danie/anaconda3/envs/covid-outcomes-research/lib/site-packages/sklearn/preprocessing/_data.py?line=850'>851</a>\u001b[0m \u001b[39mif\u001b[39;00m sample_weight \u001b[39mis\u001b[39;00m \u001b[39mnot\u001b[39;00m \u001b[39mNone\u001b[39;00m:\n",
      "File \u001b[1;32mc:\\Users\\danie\\anaconda3\\envs\\covid-outcomes-research\\lib\\site-packages\\sklearn\\base.py:566\u001b[0m, in \u001b[0;36mBaseEstimator._validate_data\u001b[1;34m(self, X, y, reset, validate_separately, **check_params)\u001b[0m\n\u001b[0;32m    <a href='file:///c%3A/Users/danie/anaconda3/envs/covid-outcomes-research/lib/site-packages/sklearn/base.py?line=563'>564</a>\u001b[0m     \u001b[39mraise\u001b[39;00m \u001b[39mValueError\u001b[39;00m(\u001b[39m\"\u001b[39m\u001b[39mValidation should be done on X, y or both.\u001b[39m\u001b[39m\"\u001b[39m)\n\u001b[0;32m    <a href='file:///c%3A/Users/danie/anaconda3/envs/covid-outcomes-research/lib/site-packages/sklearn/base.py?line=564'>565</a>\u001b[0m \u001b[39melif\u001b[39;00m \u001b[39mnot\u001b[39;00m no_val_X \u001b[39mand\u001b[39;00m no_val_y:\n\u001b[1;32m--> <a href='file:///c%3A/Users/danie/anaconda3/envs/covid-outcomes-research/lib/site-packages/sklearn/base.py?line=565'>566</a>\u001b[0m     X \u001b[39m=\u001b[39m check_array(X, \u001b[39m*\u001b[39m\u001b[39m*\u001b[39mcheck_params)\n\u001b[0;32m    <a href='file:///c%3A/Users/danie/anaconda3/envs/covid-outcomes-research/lib/site-packages/sklearn/base.py?line=566'>567</a>\u001b[0m     out \u001b[39m=\u001b[39m X\n\u001b[0;32m    <a href='file:///c%3A/Users/danie/anaconda3/envs/covid-outcomes-research/lib/site-packages/sklearn/base.py?line=567'>568</a>\u001b[0m \u001b[39melif\u001b[39;00m no_val_X \u001b[39mand\u001b[39;00m \u001b[39mnot\u001b[39;00m no_val_y:\n",
      "File \u001b[1;32mc:\\Users\\danie\\anaconda3\\envs\\covid-outcomes-research\\lib\\site-packages\\sklearn\\utils\\validation.py:746\u001b[0m, in \u001b[0;36mcheck_array\u001b[1;34m(array, accept_sparse, accept_large_sparse, dtype, order, copy, force_all_finite, ensure_2d, allow_nd, ensure_min_samples, ensure_min_features, estimator)\u001b[0m\n\u001b[0;32m    <a href='file:///c%3A/Users/danie/anaconda3/envs/covid-outcomes-research/lib/site-packages/sklearn/utils/validation.py?line=743'>744</a>\u001b[0m         array \u001b[39m=\u001b[39m array\u001b[39m.\u001b[39mastype(dtype, casting\u001b[39m=\u001b[39m\u001b[39m\"\u001b[39m\u001b[39munsafe\u001b[39m\u001b[39m\"\u001b[39m, copy\u001b[39m=\u001b[39m\u001b[39mFalse\u001b[39;00m)\n\u001b[0;32m    <a href='file:///c%3A/Users/danie/anaconda3/envs/covid-outcomes-research/lib/site-packages/sklearn/utils/validation.py?line=744'>745</a>\u001b[0m     \u001b[39melse\u001b[39;00m:\n\u001b[1;32m--> <a href='file:///c%3A/Users/danie/anaconda3/envs/covid-outcomes-research/lib/site-packages/sklearn/utils/validation.py?line=745'>746</a>\u001b[0m         array \u001b[39m=\u001b[39m np\u001b[39m.\u001b[39;49masarray(array, order\u001b[39m=\u001b[39;49morder, dtype\u001b[39m=\u001b[39;49mdtype)\n\u001b[0;32m    <a href='file:///c%3A/Users/danie/anaconda3/envs/covid-outcomes-research/lib/site-packages/sklearn/utils/validation.py?line=746'>747</a>\u001b[0m \u001b[39mexcept\u001b[39;00m ComplexWarning \u001b[39mas\u001b[39;00m complex_warning:\n\u001b[0;32m    <a href='file:///c%3A/Users/danie/anaconda3/envs/covid-outcomes-research/lib/site-packages/sklearn/utils/validation.py?line=747'>748</a>\u001b[0m     \u001b[39mraise\u001b[39;00m \u001b[39mValueError\u001b[39;00m(\n\u001b[0;32m    <a href='file:///c%3A/Users/danie/anaconda3/envs/covid-outcomes-research/lib/site-packages/sklearn/utils/validation.py?line=748'>749</a>\u001b[0m         \u001b[39m\"\u001b[39m\u001b[39mComplex data not supported\u001b[39m\u001b[39m\\n\u001b[39;00m\u001b[39m{}\u001b[39;00m\u001b[39m\\n\u001b[39;00m\u001b[39m\"\u001b[39m\u001b[39m.\u001b[39mformat(array)\n\u001b[0;32m    <a href='file:///c%3A/Users/danie/anaconda3/envs/covid-outcomes-research/lib/site-packages/sklearn/utils/validation.py?line=749'>750</a>\u001b[0m     ) \u001b[39mfrom\u001b[39;00m \u001b[39mcomplex_warning\u001b[39;00m\n",
      "File \u001b[1;32mc:\\Users\\danie\\anaconda3\\envs\\covid-outcomes-research\\lib\\site-packages\\pandas\\core\\generic.py:2064\u001b[0m, in \u001b[0;36mNDFrame.__array__\u001b[1;34m(self, dtype)\u001b[0m\n\u001b[0;32m   <a href='file:///c%3A/Users/danie/anaconda3/envs/covid-outcomes-research/lib/site-packages/pandas/core/generic.py?line=2062'>2063</a>\u001b[0m \u001b[39mdef\u001b[39;00m \u001b[39m__array__\u001b[39m(\u001b[39mself\u001b[39m, dtype: npt\u001b[39m.\u001b[39mDTypeLike \u001b[39m|\u001b[39m \u001b[39mNone\u001b[39;00m \u001b[39m=\u001b[39m \u001b[39mNone\u001b[39;00m) \u001b[39m-\u001b[39m\u001b[39m>\u001b[39m np\u001b[39m.\u001b[39mndarray:\n\u001b[1;32m-> <a href='file:///c%3A/Users/danie/anaconda3/envs/covid-outcomes-research/lib/site-packages/pandas/core/generic.py?line=2063'>2064</a>\u001b[0m     \u001b[39mreturn\u001b[39;00m np\u001b[39m.\u001b[39;49masarray(\u001b[39mself\u001b[39;49m\u001b[39m.\u001b[39;49m_values, dtype\u001b[39m=\u001b[39;49mdtype)\n",
      "\u001b[1;31mValueError\u001b[0m: could not convert string to float: 'Georgia'"
     ]
    }
   ],
   "source": [
    "lasso_cv_pipeline = make_pipeline(StandardScaler(),\n",
    "                                  LassoCV(alphas=[0.1, 1.0, 10], max_iter=100000))\n",
    "lasso_cv_pipeline.fit(X_train, y_train)\n",
    "print(lasso_cv_pipeline[1].alpha_)\n",
    "# output: 0.1"
   ]
  },
  {
   "cell_type": "markdown",
   "id": "93ab1ea1",
   "metadata": {},
   "source": [
    "**Method for first outcome: Total Specialist Physicians (2019)**"
   ]
  },
  {
   "cell_type": "markdown",
   "id": "61c67d61",
   "metadata": {},
   "source": [
    "**Method for first outcome: Active Physicians per 100000 Population 2018 (AAMC)**"
   ]
  },
  {
   "cell_type": "markdown",
   "id": "eed54308",
   "metadata": {},
   "source": [
    "**Find intersection between selected features of 3 methods**"
   ]
  },
  {
   "cell_type": "markdown",
   "id": "07c41a26",
   "metadata": {},
   "source": [
    "Source : \n",
    "\n",
    "https://www.statology.org/lasso-regression-in-python/\n",
    "\n",
    "https://vitalflux.com/lasso-ridge-regression-explained-with-python-example/#:~:text=In%20Python%2C%20Lasso%20regression%20can%20be%20performed%20using,therefore%20fewer%20features%20being%20used%20in%20the%20model.\n",
    "\n",
    "https://machinelearningcompass.com/machine_learning_models/lasso_regression/"
   ]
  }
 ],
 "metadata": {
  "interpreter": {
   "hash": "7d582fc2284aa7ddb4668399e199de814cc8938ead71c0cfdd4ed5743e90c22f"
  },
  "kernelspec": {
   "display_name": "Python 3 (ipykernel)",
   "language": "python",
   "name": "python3"
  },
  "language_info": {
   "codemirror_mode": {
    "name": "ipython",
    "version": 3
   },
   "file_extension": ".py",
   "mimetype": "text/x-python",
   "name": "python",
   "nbconvert_exporter": "python",
   "pygments_lexer": "ipython3",
   "version": "3.9.12"
  }
 },
 "nbformat": 4,
 "nbformat_minor": 5
}
