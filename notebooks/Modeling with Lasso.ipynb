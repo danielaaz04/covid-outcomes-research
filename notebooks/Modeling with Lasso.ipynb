{
 "cells": [
  {
   "cell_type": "code",
   "execution_count": 2,
   "id": "5e32dea9",
   "metadata": {},
   "outputs": [
    {
     "name": "stdout",
     "output_type": "stream",
     "text": [
      "d:\\DANIELA\\Projects\\WIDS\\covid-outcomes-research\n"
     ]
    }
   ],
   "source": [
    "import os\n",
    "import sys\n",
    "\n",
    "import numpy as np\n",
    "import pandas as pd\n",
    "import scipy as sp\n",
    "\n",
    "import seaborn as sns\n",
    "import matplotlib.pyplot as plt\n",
    "\n",
    "PROJ_ROOT =  os.path.join(os.pardir)\n",
    "\n",
    "print(os.path.abspath(PROJ_ROOT))"
   ]
  },
  {
   "cell_type": "code",
   "execution_count": 2,
   "id": "ae895317",
   "metadata": {},
   "outputs": [
    {
     "name": "stdout",
     "output_type": "stream",
     "text": [
      "Requirement already satisfied: watermark in c:\\users\\danie\\anaconda3\\envs\\covid-outcomes-research\\lib\\site-packages (2.3.0)\n",
      "Requirement already satisfied: ipython in c:\\users\\danie\\anaconda3\\envs\\covid-outcomes-research\\lib\\site-packages (from watermark) (8.3.0)\n",
      "Requirement already satisfied: pickleshare in c:\\users\\danie\\anaconda3\\envs\\covid-outcomes-research\\lib\\site-packages (from ipython->watermark) (0.7.5)\n",
      "Requirement already satisfied: setuptools>=18.5 in c:\\users\\danie\\anaconda3\\envs\\covid-outcomes-research\\lib\\site-packages (from ipython->watermark) (61.2.0)\n",
      "Requirement already satisfied: stack-data in c:\\users\\danie\\anaconda3\\envs\\covid-outcomes-research\\lib\\site-packages (from ipython->watermark) (0.2.0)\n",
      "Requirement already satisfied: matplotlib-inline in c:\\users\\danie\\anaconda3\\envs\\covid-outcomes-research\\lib\\site-packages (from ipython->watermark) (0.1.3)\n",
      "Requirement already satisfied: traitlets>=5 in c:\\users\\danie\\anaconda3\\envs\\covid-outcomes-research\\lib\\site-packages (from ipython->watermark) (5.2.0)\n",
      "Requirement already satisfied: backcall in c:\\users\\danie\\anaconda3\\envs\\covid-outcomes-research\\lib\\site-packages (from ipython->watermark) (0.2.0)\n",
      "Requirement already satisfied: colorama in c:\\users\\danie\\anaconda3\\envs\\covid-outcomes-research\\lib\\site-packages (from ipython->watermark) (0.4.4)\n",
      "Requirement already satisfied: jedi>=0.16 in c:\\users\\danie\\anaconda3\\envs\\covid-outcomes-research\\lib\\site-packages (from ipython->watermark) (0.18.1)\n",
      "Requirement already satisfied: prompt-toolkit!=3.0.0,!=3.0.1,<3.1.0,>=2.0.0 in c:\\users\\danie\\anaconda3\\envs\\covid-outcomes-research\\lib\\site-packages (from ipython->watermark) (3.0.29)\n",
      "Requirement already satisfied: pygments>=2.4.0 in c:\\users\\danie\\anaconda3\\envs\\covid-outcomes-research\\lib\\site-packages (from ipython->watermark) (2.12.0)\n",
      "Requirement already satisfied: decorator in c:\\users\\danie\\anaconda3\\envs\\covid-outcomes-research\\lib\\site-packages (from ipython->watermark) (5.1.1)\n",
      "Requirement already satisfied: parso<0.9.0,>=0.8.0 in c:\\users\\danie\\anaconda3\\envs\\covid-outcomes-research\\lib\\site-packages (from jedi>=0.16->ipython->watermark) (0.8.3)\n",
      "Requirement already satisfied: wcwidth in c:\\users\\danie\\anaconda3\\envs\\covid-outcomes-research\\lib\\site-packages (from prompt-toolkit!=3.0.0,!=3.0.1,<3.1.0,>=2.0.0->ipython->watermark) (0.2.5)\n",
      "Requirement already satisfied: executing in c:\\users\\danie\\anaconda3\\envs\\covid-outcomes-research\\lib\\site-packages (from stack-data->ipython->watermark) (0.8.3)\n",
      "Requirement already satisfied: asttokens in c:\\users\\danie\\anaconda3\\envs\\covid-outcomes-research\\lib\\site-packages (from stack-data->ipython->watermark) (2.0.5)\n",
      "Requirement already satisfied: pure-eval in c:\\users\\danie\\anaconda3\\envs\\covid-outcomes-research\\lib\\site-packages (from stack-data->ipython->watermark) (0.2.2)\n",
      "Requirement already satisfied: six in c:\\users\\danie\\anaconda3\\envs\\covid-outcomes-research\\lib\\site-packages (from asttokens->stack-data->ipython->watermark) (1.16.0)\n",
      "Note: you may need to restart the kernel to use updated packages.\n"
     ]
    }
   ],
   "source": [
    "#Let your audience know when this notebook was run, and with which packages. Useful when you are not sharing the notebook as\n",
    "#executable code.\n",
    "\n",
    "%pip install watermark"
   ]
  },
  {
   "cell_type": "code",
   "execution_count": 3,
   "id": "fbae06b4",
   "metadata": {},
   "outputs": [],
   "source": [
    "%load_ext watermark"
   ]
  },
  {
   "cell_type": "code",
   "execution_count": 4,
   "id": "b18be00f",
   "metadata": {},
   "outputs": [
    {
     "name": "stdout",
     "output_type": "stream",
     "text": [
      "Author: Daniela Alvarez Zegarra\n",
      "\n",
      "Python implementation: CPython\n",
      "Python version       : 3.9.12\n",
      "IPython version      : 8.3.0\n",
      "\n",
      "numpy : 1.21.5\n",
      "pandas: 1.4.2\n",
      "\n"
     ]
    }
   ],
   "source": [
    "%watermark -a \"Daniela Alvarez Zegarra\" -d -t -v -p numpy,pandas"
   ]
  },
  {
   "cell_type": "code",
   "execution_count": 5,
   "id": "866a1ae5",
   "metadata": {},
   "outputs": [
    {
     "name": "stdout",
     "output_type": "stream",
     "text": [
      "\u001b[1;31mDocstring:\u001b[0m\n",
      "::\n",
      "\n",
      "  %watermark [-a AUTHOR] [-gu GITHUB_USERNAME] [-e EMAIL] [-ws WEBSITE]\n",
      "                 [-d] [-n] [-t] [-i] [-z] [-u] [-c CUSTOM_TIME] [-v]\n",
      "                 [-p PACKAGES] [-co] [-h] [-m] [-g] [-r] [-b] [-w] [-iv]\n",
      "\n",
      "IPython magic function to print date/time stamps\n",
      "and various system information.\n",
      "\n",
      "optional arguments:\n",
      "  -a AUTHOR, --author AUTHOR\n",
      "                        prints author name\n",
      "  -gu GITHUB_USERNAME, --github_username GITHUB_USERNAME\n",
      "                        prints author github username\n",
      "  -e EMAIL, --email EMAIL\n",
      "                        prints author email\n",
      "  -ws WEBSITE, --website WEBSITE\n",
      "                        prints author or project website\n",
      "  -d, --date            prints current date as YYYY-mm-dd\n",
      "  -n, --datename        prints date with abbrv. day and month names\n",
      "  -t, --time            prints current time as HH-MM-SS\n",
      "  -i, --iso8601         prints the combined date and time including the time\n",
      "                        zone in the ISO 8601 standard with UTC offset\n",
      "  -z, --timezone        appends the local time zone\n",
      "  -u, --updated         appends a string \"Last updated: \"\n",
      "  -c CUSTOM_TIME, --custom_time CUSTOM_TIME\n",
      "                        prints a valid strftime() string\n",
      "  -v, --python          prints Python and IPython version\n",
      "  -p PACKAGES, --packages PACKAGES\n",
      "                        prints versions of specified Python modules and\n",
      "                        packages\n",
      "  -co, --conda          prints name of current conda environment\n",
      "  -h, --hostname        prints the host name\n",
      "  -m, --machine         prints system and machine info\n",
      "  -g, --githash         prints current Git commit hash\n",
      "  -r, --gitrepo         prints current Git remote address\n",
      "  -b, --gitbranch       prints current Git branch\n",
      "  -w, --watermark       prints the current version of watermark\n",
      "  -iv, --iversions      prints the name/version of all imported modules\n",
      "\u001b[1;31mFile:\u001b[0m      c:\\users\\danie\\anaconda3\\envs\\covid-outcomes-research\\lib\\site-packages\\watermark\\magic.py\n"
     ]
    }
   ],
   "source": [
    "#Documentation to know what other info can i get with watermark\n",
    "\n",
    "%watermark?"
   ]
  },
  {
   "cell_type": "code",
   "execution_count": 6,
   "id": "c77e6d8b",
   "metadata": {},
   "outputs": [
    {
     "name": "stdout",
     "output_type": "stream",
     "text": [
      "# local package\n",
      "-e .\n",
      "\n",
      "# external requirements\n",
      "click\n",
      "Sphinx\n",
      "coverage\n",
      "awscli\n",
      "flake8\n",
      "python-dotenv>=0.5.1\n",
      "jupyter\n",
      "ipython\n",
      "numpy\n",
      "pandas\n",
      "matplotlib\n",
      "scikit-learn\n",
      "scipy\n",
      "pytest\n",
      "nbdime\n",
      "runipy\n",
      "seaborn\n",
      "\n"
     ]
    }
   ],
   "source": [
    "#Let's print our requirements\n",
    "\n",
    "print(open(os.path.join(PROJ_ROOT,'requirements.txt')).read())"
   ]
  },
  {
   "cell_type": "markdown",
   "id": "b097a11f",
   "metadata": {},
   "source": [
    "## Loading the Data"
   ]
  },
  {
   "cell_type": "code",
   "execution_count": 4,
   "id": "f73b99ad",
   "metadata": {},
   "outputs": [],
   "source": [
    "merged_data_path = os.path.join(PROJ_ROOT,\n",
    "                          \"data\",\n",
    "                          \"interim\",\n",
    "                          \"merged_dataframe.csv\")\n"
   ]
  },
  {
   "cell_type": "code",
   "execution_count": 5,
   "id": "48fc5b3c",
   "metadata": {},
   "outputs": [],
   "source": [
    "df = pd.read_csv(merged_data_path)"
   ]
  },
  {
   "cell_type": "code",
   "execution_count": 6,
   "id": "21fb4fa3",
   "metadata": {},
   "outputs": [
    {
     "name": "stdout",
     "output_type": "stream",
     "text": [
      "<class 'pandas.core.frame.DataFrame'>\n",
      "RangeIndex: 3140 entries, 0 to 3139\n",
      "Data columns (total 72 columns):\n",
      " #   Column                                                                         Non-Null Count  Dtype  \n",
      "---  ------                                                                         --------------  -----  \n",
      " 0   Unnamed: 0                                                                     3140 non-null   int64  \n",
      " 1   fips                                                                           3140 non-null   int64  \n",
      " 2   TOT_POP                                                                        3140 non-null   int64  \n",
      " 3   0-9                                                                            3140 non-null   int64  \n",
      " 4   10-19                                                                          3140 non-null   int64  \n",
      " 5   20-29                                                                          3140 non-null   int64  \n",
      " 6   30-39                                                                          3140 non-null   int64  \n",
      " 7   40-49                                                                          3140 non-null   int64  \n",
      " 8   50-59                                                                          3140 non-null   int64  \n",
      " 9   60-69                                                                          3140 non-null   int64  \n",
      " 10  70-79                                                                          3140 non-null   int64  \n",
      " 11  80+                                                                            3140 non-null   int64  \n",
      " 12  White-alone pop                                                                3140 non-null   int64  \n",
      " 13  Black-alone pop                                                                3140 non-null   int64  \n",
      " 14  Native American/American Indian-alone pop                                      3140 non-null   int64  \n",
      " 15  Asian-alone pop                                                                3140 non-null   int64  \n",
      " 16  Hawaiian/Pacific Islander-alone pop                                            3140 non-null   int64  \n",
      " 17  Two or more races pop                                                          3140 non-null   int64  \n",
      " 18  POP_ESTIMATE_2018                                                              3140 non-null   int64  \n",
      " 19  N_POP_CHG_2018                                                                 3140 non-null   float64\n",
      " 20  GQ_ESTIMATES_2018                                                              3140 non-null   float64\n",
      " 21  R_birth_2018                                                                   3140 non-null   float64\n",
      " 22  R_death_2018                                                                   3140 non-null   float64\n",
      " 23  R_NATURAL_INC_2018                                                             3140 non-null   float64\n",
      " 24  R_INTERNATIONAL_MIG_2018                                                       3140 non-null   float64\n",
      " 25  R_DOMESTIC_MIG_2018                                                            3140 non-null   float64\n",
      " 26  R_NET_MIG_2018                                                                 3140 non-null   float64\n",
      " 27  Less than a high school diploma 2014-18                                        3140 non-null   int64  \n",
      " 28  High school diploma only 2014-18                                               3140 non-null   int64  \n",
      " 29  Some college or associate's degree 2014-18                                     3140 non-null   int64  \n",
      " 30  Bachelor's degree or higher 2014-18                                            3140 non-null   int64  \n",
      " 31  Percent of adults with less than a high school diploma 2014-18                 3140 non-null   float64\n",
      " 32  Percent of adults with a high school diploma only 2014-18                      3140 non-null   float64\n",
      " 33  Percent of adults completing some college or associate's degree 2014-18        3140 non-null   float64\n",
      " 34  Percent of adults with a bachelor's degree or higher 2014-18                   3140 non-null   float64\n",
      " 35  POVALL_2018                                                                    3140 non-null   float64\n",
      " 36  PCTPOVALL_2018                                                                 3140 non-null   float64\n",
      " 37  PCTPOV017_2018                                                                 3140 non-null   float64\n",
      " 38  PCTPOV517_2018                                                                 3140 non-null   float64\n",
      " 39  MEDHHINC_2018                                                                  3140 non-null   float64\n",
      " 40  CI90LBINC_2018                                                                 3140 non-null   float64\n",
      " 41  CI90UBINC_2018                                                                 3140 non-null   float64\n",
      " 42  Civilian_labor_force_2018                                                      3140 non-null   float64\n",
      " 43  Employed_2018                                                                  3140 non-null   float64\n",
      " 44  Unemployed_2018                                                                3140 non-null   float64\n",
      " 45  Unemployment_rate_2018                                                         3140 non-null   float64\n",
      " 46  Median_Household_Income_2018                                                   3140 non-null   float64\n",
      " 47  Med_HH_Income_Percent_of_State_Total_2018                                      3140 non-null   float64\n",
      " 48  Active Physicians per 100000 Population 2018 (AAMC)                            3140 non-null   float64\n",
      " 49  Total Active Patient Care Physicians per 100000 Population 2018 (AAMC)         3140 non-null   float64\n",
      " 50  Active Primary Care Physicians per 100000 Population 2018 (AAMC)               3140 non-null   float64\n",
      " 51  Active Patient Care Primary Care Physicians per 100000 Population 2018 (AAMC)  3140 non-null   float64\n",
      " 52  Active General Surgeons per 100000 Population 2018 (AAMC)                      3140 non-null   float64\n",
      " 53  Active Patient Care General Surgeons per 100000 Population 2018 (AAMC)         3140 non-null   float64\n",
      " 54  Total nurse practitioners (2019)                                               3140 non-null   float64\n",
      " 55  Total physician assistants (2019)                                              3140 non-null   float64\n",
      " 56  Total Hospitals (2019)                                                         3140 non-null   float64\n",
      " 57  Internal Medicine Primary Care (2019)                                          3140 non-null   float64\n",
      " 58  Family Medicine/General Practice Primary Care (2019)                           3140 non-null   float64\n",
      " 59  Total Specialist Physicians (2019)                                             3140 non-null   float64\n",
      " 60  ICU Beds_x                                                                     3140 non-null   float64\n",
      " 61  Total Population                                                               3140 non-null   int64  \n",
      " 62  Population Aged 60+                                                            3140 non-null   int64  \n",
      " 63  COUNTY_NAME                                                                    3140 non-null   object \n",
      " 64  county_pop2018_18 and older                                                    3140 non-null   int64  \n",
      " 65  anycondition_number                                                            3140 non-null   int64  \n",
      " 66  Obesity_number                                                                 3140 non-null   int64  \n",
      " 67  Heart disease_number                                                           3140 non-null   int64  \n",
      " 68  COPD_number                                                                    3140 non-null   int64  \n",
      " 69  diabetes_number                                                                3140 non-null   int64  \n",
      " 70  CKD_number                                                                     3140 non-null   int64  \n",
      " 71  Urban_rural_code                                                               3140 non-null   int64  \n",
      "dtypes: float64(38), int64(33), object(1)\n",
      "memory usage: 1.7+ MB\n"
     ]
    }
   ],
   "source": [
    "df.info()"
   ]
  },
  {
   "cell_type": "code",
   "execution_count": 7,
   "id": "87f4acff",
   "metadata": {},
   "outputs": [],
   "source": [
    "#Drop unnamed column\n",
    "\n",
    "df.drop('Unnamed: 0', axis=1, inplace=True)"
   ]
  },
  {
   "cell_type": "markdown",
   "id": "62f497e0",
   "metadata": {},
   "source": [
    "# Milestone I: Exploratory data analysis"
   ]
  },
  {
   "cell_type": "markdown",
   "id": "c7684d22",
   "metadata": {},
   "source": [
    "**Looking for correlations**"
   ]
  },
  {
   "cell_type": "code",
   "execution_count": 8,
   "id": "b3c9cf00",
   "metadata": {},
   "outputs": [],
   "source": [
    "num_cols = df.select_dtypes(['int', 'float']).columns"
   ]
  },
  {
   "cell_type": "code",
   "execution_count": 9,
   "id": "a17c0390",
   "metadata": {},
   "outputs": [
    {
     "data": {
      "image/png": "[encoded data removed]",
      "text/plain": [
       "<Figure size 864x720 with 2 Axes>"
      ]
     },
     "metadata": {
      "needs_background": "light"
     },
     "output_type": "display_data"
    }
   ],
   "source": [
    "fig = plt.figure(figsize=(12,10))\n",
    "cor_matrix = pd.concat([df[num_cols]], axis = 1).corr()\n",
    "sns.heatmap(cor_matrix)\n",
    "plt.show()"
   ]
  },
  {
   "cell_type": "markdown",
   "id": "efdd15a2",
   "metadata": {},
   "source": [
    "**Looking for outliers**"
   ]
  },
  {
   "cell_type": "code",
   "execution_count": 8,
   "id": "f16e241a",
   "metadata": {},
   "outputs": [
    {
     "data": {
      "text/html": [
       "<div>\n",
       "<style scoped>\n",
       "    .dataframe tbody tr th:only-of-type {\n",
       "        vertical-align: middle;\n",
       "    }\n",
       "\n",
       "    .dataframe tbody tr th {\n",
       "        vertical-align: top;\n",
       "    }\n",
       "\n",
       "    .dataframe thead th {\n",
       "        text-align: right;\n",
       "    }\n",
       "</style>\n",
       "<table border=\"1\" class=\"dataframe\">\n",
       "  <thead>\n",
       "    <tr style=\"text-align: right;\">\n",
       "      <th></th>\n",
       "      <th>fips</th>\n",
       "      <th>TOT_POP</th>\n",
       "      <th>0-9</th>\n",
       "      <th>10-19</th>\n",
       "      <th>20-29</th>\n",
       "      <th>30-39</th>\n",
       "      <th>40-49</th>\n",
       "      <th>50-59</th>\n",
       "      <th>60-69</th>\n",
       "      <th>70-79</th>\n",
       "      <th>...</th>\n",
       "      <th>Total Population</th>\n",
       "      <th>Population Aged 60+</th>\n",
       "      <th>county_pop2018_18 and older</th>\n",
       "      <th>anycondition_number</th>\n",
       "      <th>Obesity_number</th>\n",
       "      <th>Heart disease_number</th>\n",
       "      <th>COPD_number</th>\n",
       "      <th>diabetes_number</th>\n",
       "      <th>CKD_number</th>\n",
       "      <th>Urban_rural_code</th>\n",
       "    </tr>\n",
       "  </thead>\n",
       "  <tbody>\n",
       "    <tr>\n",
       "      <th>count</th>\n",
       "      <td>3140.000000</td>\n",
       "      <td>3.140000e+03</td>\n",
       "      <td>3.140000e+03</td>\n",
       "      <td>3.140000e+03</td>\n",
       "      <td>3.140000e+03</td>\n",
       "      <td>3.140000e+03</td>\n",
       "      <td>3.140000e+03</td>\n",
       "      <td>3.140000e+03</td>\n",
       "      <td>3.140000e+03</td>\n",
       "      <td>3140.000000</td>\n",
       "      <td>...</td>\n",
       "      <td>3.140000e+03</td>\n",
       "      <td>3.140000e+03</td>\n",
       "      <td>3.140000e+03</td>\n",
       "      <td>3.140000e+03</td>\n",
       "      <td>3.140000e+03</td>\n",
       "      <td>3140.000000</td>\n",
       "      <td>3140.000000</td>\n",
       "      <td>3140.000000</td>\n",
       "      <td>3140.000000</td>\n",
       "      <td>3140.000000</td>\n",
       "    </tr>\n",
       "    <tr>\n",
       "      <th>mean</th>\n",
       "      <td>30401.640764</td>\n",
       "      <td>1.041894e+05</td>\n",
       "      <td>1.274030e+04</td>\n",
       "      <td>1.336798e+04</td>\n",
       "      <td>1.446933e+04</td>\n",
       "      <td>1.391649e+04</td>\n",
       "      <td>1.288521e+04</td>\n",
       "      <td>1.363803e+04</td>\n",
       "      <td>1.191621e+04</td>\n",
       "      <td>7220.310510</td>\n",
       "      <td>...</td>\n",
       "      <td>1.022266e+05</td>\n",
       "      <td>2.132298e+04</td>\n",
       "      <td>8.081460e+04</td>\n",
       "      <td>3.338540e+04</td>\n",
       "      <td>2.527613e+04</td>\n",
       "      <td>5597.593312</td>\n",
       "      <td>5827.242357</td>\n",
       "      <td>9326.577707</td>\n",
       "      <td>2466.234076</td>\n",
       "      <td>4.635350</td>\n",
       "    </tr>\n",
       "    <tr>\n",
       "      <th>std</th>\n",
       "      <td>15150.559265</td>\n",
       "      <td>3.335834e+05</td>\n",
       "      <td>4.180730e+04</td>\n",
       "      <td>4.228439e+04</td>\n",
       "      <td>4.957773e+04</td>\n",
       "      <td>4.899095e+04</td>\n",
       "      <td>4.347219e+04</td>\n",
       "      <td>4.272063e+04</td>\n",
       "      <td>3.451858e+04</td>\n",
       "      <td>20287.498429</td>\n",
       "      <td>...</td>\n",
       "      <td>3.283878e+05</td>\n",
       "      <td>6.140588e+04</td>\n",
       "      <td>2.585190e+05</td>\n",
       "      <td>9.888669e+04</td>\n",
       "      <td>7.446684e+04</td>\n",
       "      <td>15615.285499</td>\n",
       "      <td>15720.551934</td>\n",
       "      <td>29754.601185</td>\n",
       "      <td>7730.422067</td>\n",
       "      <td>1.510447</td>\n",
       "    </tr>\n",
       "    <tr>\n",
       "      <th>min</th>\n",
       "      <td>1001.000000</td>\n",
       "      <td>8.800000e+01</td>\n",
       "      <td>0.000000e+00</td>\n",
       "      <td>0.000000e+00</td>\n",
       "      <td>0.000000e+00</td>\n",
       "      <td>1.100000e+01</td>\n",
       "      <td>4.000000e+00</td>\n",
       "      <td>1.400000e+01</td>\n",
       "      <td>2.000000e+01</td>\n",
       "      <td>6.000000</td>\n",
       "      <td>...</td>\n",
       "      <td>7.400000e+01</td>\n",
       "      <td>2.700000e+01</td>\n",
       "      <td>8.800000e+01</td>\n",
       "      <td>4.100000e+01</td>\n",
       "      <td>2.500000e+01</td>\n",
       "      <td>7.000000</td>\n",
       "      <td>7.000000</td>\n",
       "      <td>11.000000</td>\n",
       "      <td>3.000000</td>\n",
       "      <td>1.000000</td>\n",
       "    </tr>\n",
       "    <tr>\n",
       "      <th>25%</th>\n",
       "      <td>18180.500000</td>\n",
       "      <td>1.096325e+04</td>\n",
       "      <td>1.280500e+03</td>\n",
       "      <td>1.374500e+03</td>\n",
       "      <td>1.263750e+03</td>\n",
       "      <td>1.232750e+03</td>\n",
       "      <td>1.245250e+03</td>\n",
       "      <td>1.483000e+03</td>\n",
       "      <td>1.476500e+03</td>\n",
       "      <td>950.750000</td>\n",
       "      <td>...</td>\n",
       "      <td>1.096700e+04</td>\n",
       "      <td>2.814750e+03</td>\n",
       "      <td>8.460250e+03</td>\n",
       "      <td>4.215000e+03</td>\n",
       "      <td>3.075000e+03</td>\n",
       "      <td>798.500000</td>\n",
       "      <td>815.000000</td>\n",
       "      <td>1187.750000</td>\n",
       "      <td>314.750000</td>\n",
       "      <td>3.000000</td>\n",
       "    </tr>\n",
       "    <tr>\n",
       "      <th>50%</th>\n",
       "      <td>29178.000000</td>\n",
       "      <td>2.580050e+04</td>\n",
       "      <td>3.057000e+03</td>\n",
       "      <td>3.274000e+03</td>\n",
       "      <td>3.108000e+03</td>\n",
       "      <td>3.000500e+03</td>\n",
       "      <td>3.048500e+03</td>\n",
       "      <td>3.515500e+03</td>\n",
       "      <td>3.410000e+03</td>\n",
       "      <td>2177.000000</td>\n",
       "      <td>...</td>\n",
       "      <td>2.570400e+04</td>\n",
       "      <td>6.310000e+03</td>\n",
       "      <td>2.023000e+04</td>\n",
       "      <td>9.753000e+03</td>\n",
       "      <td>7.182500e+03</td>\n",
       "      <td>1814.500000</td>\n",
       "      <td>1963.500000</td>\n",
       "      <td>2743.000000</td>\n",
       "      <td>718.000000</td>\n",
       "      <td>5.000000</td>\n",
       "    </tr>\n",
       "    <tr>\n",
       "      <th>75%</th>\n",
       "      <td>45081.500000</td>\n",
       "      <td>6.791300e+04</td>\n",
       "      <td>8.097000e+03</td>\n",
       "      <td>8.822250e+03</td>\n",
       "      <td>8.976250e+03</td>\n",
       "      <td>8.314250e+03</td>\n",
       "      <td>8.120500e+03</td>\n",
       "      <td>9.157250e+03</td>\n",
       "      <td>8.710500e+03</td>\n",
       "      <td>5574.000000</td>\n",
       "      <td>...</td>\n",
       "      <td>6.750075e+04</td>\n",
       "      <td>1.610625e+04</td>\n",
       "      <td>5.282025e+04</td>\n",
       "      <td>2.500125e+04</td>\n",
       "      <td>1.854250e+04</td>\n",
       "      <td>4376.000000</td>\n",
       "      <td>4727.000000</td>\n",
       "      <td>6679.250000</td>\n",
       "      <td>1776.250000</td>\n",
       "      <td>6.000000</td>\n",
       "    </tr>\n",
       "    <tr>\n",
       "      <th>max</th>\n",
       "      <td>56045.000000</td>\n",
       "      <td>1.010552e+07</td>\n",
       "      <td>1.208253e+06</td>\n",
       "      <td>1.239139e+06</td>\n",
       "      <td>1.557073e+06</td>\n",
       "      <td>1.501844e+06</td>\n",
       "      <td>1.350076e+06</td>\n",
       "      <td>1.306003e+06</td>\n",
       "      <td>1.014325e+06</td>\n",
       "      <td>572530.000000</td>\n",
       "      <td>...</td>\n",
       "      <td>1.010572e+07</td>\n",
       "      <td>1.800341e+06</td>\n",
       "      <td>7.916625e+06</td>\n",
       "      <td>2.877316e+06</td>\n",
       "      <td>2.097906e+06</td>\n",
       "      <td>434790.000000</td>\n",
       "      <td>434075.000000</td>\n",
       "      <td>952335.000000</td>\n",
       "      <td>237766.000000</td>\n",
       "      <td>6.000000</td>\n",
       "    </tr>\n",
       "  </tbody>\n",
       "</table>\n",
       "<p>8 rows × 70 columns</p>\n",
       "</div>"
      ],
      "text/plain": [
       "               fips       TOT_POP           0-9         10-19         20-29  \\\n",
       "count   3140.000000  3.140000e+03  3.140000e+03  3.140000e+03  3.140000e+03   \n",
       "mean   30401.640764  1.041894e+05  1.274030e+04  1.336798e+04  1.446933e+04   \n",
       "std    15150.559265  3.335834e+05  4.180730e+04  4.228439e+04  4.957773e+04   \n",
       "min     1001.000000  8.800000e+01  0.000000e+00  0.000000e+00  0.000000e+00   \n",
       "25%    18180.500000  1.096325e+04  1.280500e+03  1.374500e+03  1.263750e+03   \n",
       "50%    29178.000000  2.580050e+04  3.057000e+03  3.274000e+03  3.108000e+03   \n",
       "75%    45081.500000  6.791300e+04  8.097000e+03  8.822250e+03  8.976250e+03   \n",
       "max    56045.000000  1.010552e+07  1.208253e+06  1.239139e+06  1.557073e+06   \n",
       "\n",
       "              30-39         40-49         50-59         60-69          70-79  \\\n",
       "count  3.140000e+03  3.140000e+03  3.140000e+03  3.140000e+03    3140.000000   \n",
       "mean   1.391649e+04  1.288521e+04  1.363803e+04  1.191621e+04    7220.310510   \n",
       "std    4.899095e+04  4.347219e+04  4.272063e+04  3.451858e+04   20287.498429   \n",
       "min    1.100000e+01  4.000000e+00  1.400000e+01  2.000000e+01       6.000000   \n",
       "25%    1.232750e+03  1.245250e+03  1.483000e+03  1.476500e+03     950.750000   \n",
       "50%    3.000500e+03  3.048500e+03  3.515500e+03  3.410000e+03    2177.000000   \n",
       "75%    8.314250e+03  8.120500e+03  9.157250e+03  8.710500e+03    5574.000000   \n",
       "max    1.501844e+06  1.350076e+06  1.306003e+06  1.014325e+06  572530.000000   \n",
       "\n",
       "       ...  Total Population  Population Aged 60+  \\\n",
       "count  ...      3.140000e+03         3.140000e+03   \n",
       "mean   ...      1.022266e+05         2.132298e+04   \n",
       "std    ...      3.283878e+05         6.140588e+04   \n",
       "min    ...      7.400000e+01         2.700000e+01   \n",
       "25%    ...      1.096700e+04         2.814750e+03   \n",
       "50%    ...      2.570400e+04         6.310000e+03   \n",
       "75%    ...      6.750075e+04         1.610625e+04   \n",
       "max    ...      1.010572e+07         1.800341e+06   \n",
       "\n",
       "       county_pop2018_18 and older  anycondition_number  Obesity_number  \\\n",
       "count                 3.140000e+03         3.140000e+03    3.140000e+03   \n",
       "mean                  8.081460e+04         3.338540e+04    2.527613e+04   \n",
       "std                   2.585190e+05         9.888669e+04    7.446684e+04   \n",
       "min                   8.800000e+01         4.100000e+01    2.500000e+01   \n",
       "25%                   8.460250e+03         4.215000e+03    3.075000e+03   \n",
       "50%                   2.023000e+04         9.753000e+03    7.182500e+03   \n",
       "75%                   5.282025e+04         2.500125e+04    1.854250e+04   \n",
       "max                   7.916625e+06         2.877316e+06    2.097906e+06   \n",
       "\n",
       "       Heart disease_number    COPD_number  diabetes_number     CKD_number  \\\n",
       "count           3140.000000    3140.000000      3140.000000    3140.000000   \n",
       "mean            5597.593312    5827.242357      9326.577707    2466.234076   \n",
       "std            15615.285499   15720.551934     29754.601185    7730.422067   \n",
       "min                7.000000       7.000000        11.000000       3.000000   \n",
       "25%              798.500000     815.000000      1187.750000     314.750000   \n",
       "50%             1814.500000    1963.500000      2743.000000     718.000000   \n",
       "75%             4376.000000    4727.000000      6679.250000    1776.250000   \n",
       "max           434790.000000  434075.000000    952335.000000  237766.000000   \n",
       "\n",
       "       Urban_rural_code  \n",
       "count       3140.000000  \n",
       "mean           4.635350  \n",
       "std            1.510447  \n",
       "min            1.000000  \n",
       "25%            3.000000  \n",
       "50%            5.000000  \n",
       "75%            6.000000  \n",
       "max            6.000000  \n",
       "\n",
       "[8 rows x 70 columns]"
      ]
     },
     "execution_count": 8,
     "metadata": {},
     "output_type": "execute_result"
    }
   ],
   "source": [
    "df.describe()"
   ]
  },
  {
   "cell_type": "code",
   "execution_count": 11,
   "id": "95a47d2b",
   "metadata": {},
   "outputs": [],
   "source": [
    "#creating a function to visualize outliers\n",
    "\n",
    "def outliers(feature): \n",
    "    plt.figure(figsize=(14,6))\n",
    "\n",
    "    plt.subplot(1,2,1)\n",
    "    sns.boxplot(df[feature])\n",
    "\n",
    "    plt.subplot(1,2,2)\n",
    "    sns.histplot(df[feature], bins = 5)\n",
    "\n",
    "    plt.show()"
   ]
  },
  {
   "cell_type": "code",
   "execution_count": 12,
   "id": "b7c4cfd1",
   "metadata": {},
   "outputs": [
    {
     "name": "stderr",
     "output_type": "stream",
     "text": [
      "c:\\Users\\danie\\anaconda3\\envs\\covid-outcomes-research\\lib\\site-packages\\seaborn\\_decorators.py:36: FutureWarning: Pass the following variable as a keyword arg: x. From version 0.12, the only valid positional argument will be `data`, and passing other arguments without an explicit keyword will result in an error or misinterpretation.\n",
      "  warnings.warn(\n"
     ]
    },
    {
     "data": {
      "image/png": "[encoded data removed]",
      "text/plain": [
       "<Figure size 1008x432 with 2 Axes>"
      ]
     },
     "metadata": {
      "needs_background": "light"
     },
     "output_type": "display_data"
    }
   ],
   "source": [
    "#Look for outliers  in ICU Beds feature\n",
    "outliers('ICU Beds_x')"
   ]
  },
  {
   "cell_type": "code",
   "execution_count": 13,
   "id": "ecddde90",
   "metadata": {},
   "outputs": [
    {
     "name": "stderr",
     "output_type": "stream",
     "text": [
      "c:\\Users\\danie\\anaconda3\\envs\\covid-outcomes-research\\lib\\site-packages\\seaborn\\_decorators.py:36: FutureWarning: Pass the following variable as a keyword arg: x. From version 0.12, the only valid positional argument will be `data`, and passing other arguments without an explicit keyword will result in an error or misinterpretation.\n",
      "  warnings.warn(\n"
     ]
    },
    {
     "data": {
      "image/png": "[encoded data removed]",
      "text/plain": [
       "<Figure size 1008x432 with 2 Axes>"
      ]
     },
     "metadata": {
      "needs_background": "light"
     },
     "output_type": "display_data"
    }
   ],
   "source": [
    "outliers('Total Specialist Physicians (2019)')"
   ]
  },
  {
   "cell_type": "markdown",
   "id": "91f00e3a",
   "metadata": {},
   "source": [
    "**Density plots**\n"
   ]
  },
  {
   "cell_type": "code",
   "execution_count": 14,
   "id": "3ff46c72",
   "metadata": {},
   "outputs": [],
   "source": [
    "#for eda\n",
    "\n",
    "def kde_plot(dataframe, variable, upper=None, lower=None, bw=0.1):\n",
    "    '''Plots a density plot for a variable with optional upper and lower bounds on the data (inclusive)'''\n",
    "    \n",
    "    plot_data = dataframe [variable]\n",
    "    \n",
    "    if upper is not None:\n",
    "        plot_data = plot_data[plot_data <= upper]\n",
    "    if lower is not None:\n",
    "        plot_data = plot_data[plot_data >= lower]\n",
    "        \n",
    "    sns.kdeplot(plot_data, bw=bw)\n",
    "    \n",
    "    plt.savefig(os.path.join(PROJ_ROOT, \"reports\", \"figures\",\"{}.png\".format(variable)))\n",
    "    plt.show()\n"
   ]
  },
  {
   "cell_type": "code",
   "execution_count": 15,
   "id": "68f0007d",
   "metadata": {},
   "outputs": [
    {
     "name": "stderr",
     "output_type": "stream",
     "text": [
      "c:\\Users\\danie\\anaconda3\\envs\\covid-outcomes-research\\lib\\site-packages\\seaborn\\distributions.py:1699: FutureWarning: The `bw` parameter is deprecated in favor of `bw_method` and `bw_adjust`. Using 0.1 for `bw_method`, but please see the docs for the new parameters and update your code.\n",
      "  warnings.warn(msg, FutureWarning)\n"
     ]
    },
    {
     "data": {
      "image/png": "[encoded data removed]",
      "text/plain": [
       "<Figure size 432x288 with 1 Axes>"
      ]
     },
     "metadata": {
      "needs_background": "light"
     },
     "output_type": "display_data"
    }
   ],
   "source": [
    "kde_plot(df, 'ICU Beds_x')"
   ]
  },
  {
   "cell_type": "code",
   "execution_count": 12,
   "id": "a9b202f4",
   "metadata": {},
   "outputs": [
    {
     "name": "stderr",
     "output_type": "stream",
     "text": [
      "c:\\Users\\danie\\anaconda3\\envs\\covid-outcomes-research\\lib\\site-packages\\seaborn\\distributions.py:1699: FutureWarning: The `bw` parameter is deprecated in favor of `bw_method` and `bw_adjust`. Using 0.1 for `bw_method`, but please see the docs for the new parameters and update your code.\n",
      "  warnings.warn(msg, FutureWarning)\n"
     ]
    },
    {
     "data": {
      "image/png": "[encoded data removed]",
      "text/plain": [
       "<Figure size 432x288 with 1 Axes>"
      ]
     },
     "metadata": {
      "needs_background": "light"
     },
     "output_type": "display_data"
    }
   ],
   "source": [
    "kde_plot(df, 'R_death_2018')"
   ]
  },
  {
   "cell_type": "code",
   "execution_count": 22,
   "id": "f1dd740e",
   "metadata": {},
   "outputs": [
    {
     "name": "stderr",
     "output_type": "stream",
     "text": [
      "c:\\Users\\danie\\anaconda3\\envs\\covid-outcomes-research\\lib\\site-packages\\seaborn\\distributions.py:1699: FutureWarning: The `bw` parameter is deprecated in favor of `bw_method` and `bw_adjust`. Using 0.1 for `bw_method`, but please see the docs for the new parameters and update your code.\n",
      "  warnings.warn(msg, FutureWarning)\n"
     ]
    },
    {
     "data": {
      "image/png": "[encoded data removed]",
      "text/plain": [
       "<Figure size 432x288 with 1 Axes>"
      ]
     },
     "metadata": {
      "needs_background": "light"
     },
     "output_type": "display_data"
    }
   ],
   "source": [
    "kde_plot(df, 'Total Specialist Physicians (2019)')"
   ]
  },
  {
   "cell_type": "markdown",
   "id": "35bf7d86",
   "metadata": {},
   "source": [
    "**Obtain the feature matrix**"
   ]
  },
  {
   "cell_type": "code",
   "execution_count": 16,
   "id": "713f991e",
   "metadata": {},
   "outputs": [],
   "source": [
    "#first, we will create a dataframe with the names for each fips code, then drop our county_names columns from main df, \n",
    "# and we will set our fips code as index\n",
    "\n",
    "names_df = df[['fips', 'COUNTY_NAME']]\n",
    "df.drop('COUNTY_NAME', axis=1, inplace=True)"
   ]
  },
  {
   "cell_type": "code",
   "execution_count": 17,
   "id": "31d4f38c",
   "metadata": {
    "scrolled": true
   },
   "outputs": [
    {
     "data": {
      "text/html": [
       "<div>\n",
       "<style scoped>\n",
       "    .dataframe tbody tr th:only-of-type {\n",
       "        vertical-align: middle;\n",
       "    }\n",
       "\n",
       "    .dataframe tbody tr th {\n",
       "        vertical-align: top;\n",
       "    }\n",
       "\n",
       "    .dataframe thead th {\n",
       "        text-align: right;\n",
       "    }\n",
       "</style>\n",
       "<table border=\"1\" class=\"dataframe\">\n",
       "  <thead>\n",
       "    <tr style=\"text-align: right;\">\n",
       "      <th></th>\n",
       "      <th>TOT_POP</th>\n",
       "      <th>0-9</th>\n",
       "      <th>10-19</th>\n",
       "      <th>20-29</th>\n",
       "      <th>30-39</th>\n",
       "      <th>40-49</th>\n",
       "      <th>50-59</th>\n",
       "      <th>60-69</th>\n",
       "      <th>70-79</th>\n",
       "      <th>80+</th>\n",
       "      <th>...</th>\n",
       "      <th>Total Population</th>\n",
       "      <th>Population Aged 60+</th>\n",
       "      <th>county_pop2018_18 and older</th>\n",
       "      <th>anycondition_number</th>\n",
       "      <th>Obesity_number</th>\n",
       "      <th>Heart disease_number</th>\n",
       "      <th>COPD_number</th>\n",
       "      <th>diabetes_number</th>\n",
       "      <th>CKD_number</th>\n",
       "      <th>Urban_rural_code</th>\n",
       "    </tr>\n",
       "    <tr>\n",
       "      <th>fips</th>\n",
       "      <th></th>\n",
       "      <th></th>\n",
       "      <th></th>\n",
       "      <th></th>\n",
       "      <th></th>\n",
       "      <th></th>\n",
       "      <th></th>\n",
       "      <th></th>\n",
       "      <th></th>\n",
       "      <th></th>\n",
       "      <th></th>\n",
       "      <th></th>\n",
       "      <th></th>\n",
       "      <th></th>\n",
       "      <th></th>\n",
       "      <th></th>\n",
       "      <th></th>\n",
       "      <th></th>\n",
       "      <th></th>\n",
       "      <th></th>\n",
       "      <th></th>\n",
       "    </tr>\n",
       "  </thead>\n",
       "  <tbody>\n",
       "    <tr>\n",
       "      <th>1001</th>\n",
       "      <td>55601</td>\n",
       "      <td>6787</td>\n",
       "      <td>7637</td>\n",
       "      <td>6878</td>\n",
       "      <td>7089</td>\n",
       "      <td>7582</td>\n",
       "      <td>7738</td>\n",
       "      <td>5826</td>\n",
       "      <td>4050</td>\n",
       "      <td>2014</td>\n",
       "      <td>...</td>\n",
       "      <td>55036</td>\n",
       "      <td>10523</td>\n",
       "      <td>42438</td>\n",
       "      <td>20181</td>\n",
       "      <td>15193</td>\n",
       "      <td>3345</td>\n",
       "      <td>3644</td>\n",
       "      <td>5462</td>\n",
       "      <td>1326</td>\n",
       "      <td>3</td>\n",
       "    </tr>\n",
       "    <tr>\n",
       "      <th>1003</th>\n",
       "      <td>218022</td>\n",
       "      <td>24757</td>\n",
       "      <td>26913</td>\n",
       "      <td>23579</td>\n",
       "      <td>25213</td>\n",
       "      <td>27338</td>\n",
       "      <td>29986</td>\n",
       "      <td>29932</td>\n",
       "      <td>20936</td>\n",
       "      <td>9368</td>\n",
       "      <td>...</td>\n",
       "      <td>203360</td>\n",
       "      <td>53519</td>\n",
       "      <td>170912</td>\n",
       "      <td>68790</td>\n",
       "      <td>50761</td>\n",
       "      <td>13414</td>\n",
       "      <td>14692</td>\n",
       "      <td>20520</td>\n",
       "      <td>5479</td>\n",
       "      <td>4</td>\n",
       "    </tr>\n",
       "    <tr>\n",
       "      <th>1005</th>\n",
       "      <td>24881</td>\n",
       "      <td>2732</td>\n",
       "      <td>2960</td>\n",
       "      <td>3268</td>\n",
       "      <td>3201</td>\n",
       "      <td>3074</td>\n",
       "      <td>3278</td>\n",
       "      <td>3076</td>\n",
       "      <td>2244</td>\n",
       "      <td>1048</td>\n",
       "      <td>...</td>\n",
       "      <td>26201</td>\n",
       "      <td>6150</td>\n",
       "      <td>19689</td>\n",
       "      <td>11325</td>\n",
       "      <td>8013</td>\n",
       "      <td>2159</td>\n",
       "      <td>2373</td>\n",
       "      <td>3870</td>\n",
       "      <td>887</td>\n",
       "      <td>6</td>\n",
       "    </tr>\n",
       "    <tr>\n",
       "      <th>1007</th>\n",
       "      <td>22400</td>\n",
       "      <td>2456</td>\n",
       "      <td>2596</td>\n",
       "      <td>3029</td>\n",
       "      <td>3113</td>\n",
       "      <td>3038</td>\n",
       "      <td>3115</td>\n",
       "      <td>2545</td>\n",
       "      <td>1723</td>\n",
       "      <td>785</td>\n",
       "      <td>...</td>\n",
       "      <td>22580</td>\n",
       "      <td>4773</td>\n",
       "      <td>17813</td>\n",
       "      <td>9190</td>\n",
       "      <td>6894</td>\n",
       "      <td>1533</td>\n",
       "      <td>1789</td>\n",
       "      <td>2511</td>\n",
       "      <td>595</td>\n",
       "      <td>2</td>\n",
       "    </tr>\n",
       "    <tr>\n",
       "      <th>1009</th>\n",
       "      <td>57840</td>\n",
       "      <td>7095</td>\n",
       "      <td>7570</td>\n",
       "      <td>6742</td>\n",
       "      <td>6884</td>\n",
       "      <td>7474</td>\n",
       "      <td>7844</td>\n",
       "      <td>6965</td>\n",
       "      <td>4931</td>\n",
       "      <td>2335</td>\n",
       "      <td>...</td>\n",
       "      <td>57667</td>\n",
       "      <td>13600</td>\n",
       "      <td>44448</td>\n",
       "      <td>20584</td>\n",
       "      <td>15112</td>\n",
       "      <td>4101</td>\n",
       "      <td>4661</td>\n",
       "      <td>6017</td>\n",
       "      <td>1507</td>\n",
       "      <td>2</td>\n",
       "    </tr>\n",
       "    <tr>\n",
       "      <th>...</th>\n",
       "      <td>...</td>\n",
       "      <td>...</td>\n",
       "      <td>...</td>\n",
       "      <td>...</td>\n",
       "      <td>...</td>\n",
       "      <td>...</td>\n",
       "      <td>...</td>\n",
       "      <td>...</td>\n",
       "      <td>...</td>\n",
       "      <td>...</td>\n",
       "      <td>...</td>\n",
       "      <td>...</td>\n",
       "      <td>...</td>\n",
       "      <td>...</td>\n",
       "      <td>...</td>\n",
       "      <td>...</td>\n",
       "      <td>...</td>\n",
       "      <td>...</td>\n",
       "      <td>...</td>\n",
       "      <td>...</td>\n",
       "      <td>...</td>\n",
       "    </tr>\n",
       "    <tr>\n",
       "      <th>56037</th>\n",
       "      <td>43051</td>\n",
       "      <td>6104</td>\n",
       "      <td>6326</td>\n",
       "      <td>5359</td>\n",
       "      <td>6577</td>\n",
       "      <td>5334</td>\n",
       "      <td>5261</td>\n",
       "      <td>4943</td>\n",
       "      <td>2198</td>\n",
       "      <td>949</td>\n",
       "      <td>...</td>\n",
       "      <td>44527</td>\n",
       "      <td>7015</td>\n",
       "      <td>31761</td>\n",
       "      <td>12796</td>\n",
       "      <td>10672</td>\n",
       "      <td>1862</td>\n",
       "      <td>2098</td>\n",
       "      <td>2834</td>\n",
       "      <td>821</td>\n",
       "      <td>5</td>\n",
       "    </tr>\n",
       "    <tr>\n",
       "      <th>56039</th>\n",
       "      <td>23081</td>\n",
       "      <td>2384</td>\n",
       "      <td>2185</td>\n",
       "      <td>2967</td>\n",
       "      <td>4093</td>\n",
       "      <td>3423</td>\n",
       "      <td>2928</td>\n",
       "      <td>2875</td>\n",
       "      <td>1569</td>\n",
       "      <td>657</td>\n",
       "      <td>...</td>\n",
       "      <td>22923</td>\n",
       "      <td>4298</td>\n",
       "      <td>18842</td>\n",
       "      <td>4576</td>\n",
       "      <td>3655</td>\n",
       "      <td>981</td>\n",
       "      <td>928</td>\n",
       "      <td>1360</td>\n",
       "      <td>447</td>\n",
       "      <td>5</td>\n",
       "    </tr>\n",
       "    <tr>\n",
       "      <th>56041</th>\n",
       "      <td>20299</td>\n",
       "      <td>3121</td>\n",
       "      <td>3205</td>\n",
       "      <td>2153</td>\n",
       "      <td>2702</td>\n",
       "      <td>2390</td>\n",
       "      <td>2434</td>\n",
       "      <td>2554</td>\n",
       "      <td>1233</td>\n",
       "      <td>507</td>\n",
       "      <td>...</td>\n",
       "      <td>20758</td>\n",
       "      <td>3554</td>\n",
       "      <td>14455</td>\n",
       "      <td>6101</td>\n",
       "      <td>4944</td>\n",
       "      <td>1034</td>\n",
       "      <td>1163</td>\n",
       "      <td>1500</td>\n",
       "      <td>430</td>\n",
       "      <td>5</td>\n",
       "    </tr>\n",
       "    <tr>\n",
       "      <th>56043</th>\n",
       "      <td>7885</td>\n",
       "      <td>858</td>\n",
       "      <td>1113</td>\n",
       "      <td>715</td>\n",
       "      <td>903</td>\n",
       "      <td>900</td>\n",
       "      <td>1085</td>\n",
       "      <td>1118</td>\n",
       "      <td>741</td>\n",
       "      <td>452</td>\n",
       "      <td>...</td>\n",
       "      <td>8253</td>\n",
       "      <td>2206</td>\n",
       "      <td>6092</td>\n",
       "      <td>2285</td>\n",
       "      <td>1730</td>\n",
       "      <td>500</td>\n",
       "      <td>506</td>\n",
       "      <td>686</td>\n",
       "      <td>207</td>\n",
       "      <td>6</td>\n",
       "    </tr>\n",
       "    <tr>\n",
       "      <th>56045</th>\n",
       "      <td>6967</td>\n",
       "      <td>780</td>\n",
       "      <td>779</td>\n",
       "      <td>681</td>\n",
       "      <td>906</td>\n",
       "      <td>734</td>\n",
       "      <td>986</td>\n",
       "      <td>1145</td>\n",
       "      <td>560</td>\n",
       "      <td>396</td>\n",
       "      <td>...</td>\n",
       "      <td>7117</td>\n",
       "      <td>2073</td>\n",
       "      <td>5520</td>\n",
       "      <td>2539</td>\n",
       "      <td>1899</td>\n",
       "      <td>471</td>\n",
       "      <td>480</td>\n",
       "      <td>644</td>\n",
       "      <td>185</td>\n",
       "      <td>6</td>\n",
       "    </tr>\n",
       "  </tbody>\n",
       "</table>\n",
       "<p>3140 rows × 69 columns</p>\n",
       "</div>"
      ],
      "text/plain": [
       "       TOT_POP    0-9  10-19  20-29  30-39  40-49  50-59  60-69  70-79   80+  \\\n",
       "fips                                                                           \n",
       "1001     55601   6787   7637   6878   7089   7582   7738   5826   4050  2014   \n",
       "1003    218022  24757  26913  23579  25213  27338  29986  29932  20936  9368   \n",
       "1005     24881   2732   2960   3268   3201   3074   3278   3076   2244  1048   \n",
       "1007     22400   2456   2596   3029   3113   3038   3115   2545   1723   785   \n",
       "1009     57840   7095   7570   6742   6884   7474   7844   6965   4931  2335   \n",
       "...        ...    ...    ...    ...    ...    ...    ...    ...    ...   ...   \n",
       "56037    43051   6104   6326   5359   6577   5334   5261   4943   2198   949   \n",
       "56039    23081   2384   2185   2967   4093   3423   2928   2875   1569   657   \n",
       "56041    20299   3121   3205   2153   2702   2390   2434   2554   1233   507   \n",
       "56043     7885    858   1113    715    903    900   1085   1118    741   452   \n",
       "56045     6967    780    779    681    906    734    986   1145    560   396   \n",
       "\n",
       "       ...  Total Population  Population Aged 60+  \\\n",
       "fips   ...                                          \n",
       "1001   ...             55036                10523   \n",
       "1003   ...            203360                53519   \n",
       "1005   ...             26201                 6150   \n",
       "1007   ...             22580                 4773   \n",
       "1009   ...             57667                13600   \n",
       "...    ...               ...                  ...   \n",
       "56037  ...             44527                 7015   \n",
       "56039  ...             22923                 4298   \n",
       "56041  ...             20758                 3554   \n",
       "56043  ...              8253                 2206   \n",
       "56045  ...              7117                 2073   \n",
       "\n",
       "       county_pop2018_18 and older  anycondition_number  Obesity_number  \\\n",
       "fips                                                                      \n",
       "1001                         42438                20181           15193   \n",
       "1003                        170912                68790           50761   \n",
       "1005                         19689                11325            8013   \n",
       "1007                         17813                 9190            6894   \n",
       "1009                         44448                20584           15112   \n",
       "...                            ...                  ...             ...   \n",
       "56037                        31761                12796           10672   \n",
       "56039                        18842                 4576            3655   \n",
       "56041                        14455                 6101            4944   \n",
       "56043                         6092                 2285            1730   \n",
       "56045                         5520                 2539            1899   \n",
       "\n",
       "       Heart disease_number  COPD_number  diabetes_number  CKD_number  \\\n",
       "fips                                                                    \n",
       "1001                   3345         3644             5462        1326   \n",
       "1003                  13414        14692            20520        5479   \n",
       "1005                   2159         2373             3870         887   \n",
       "1007                   1533         1789             2511         595   \n",
       "1009                   4101         4661             6017        1507   \n",
       "...                     ...          ...              ...         ...   \n",
       "56037                  1862         2098             2834         821   \n",
       "56039                   981          928             1360         447   \n",
       "56041                  1034         1163             1500         430   \n",
       "56043                   500          506              686         207   \n",
       "56045                   471          480              644         185   \n",
       "\n",
       "       Urban_rural_code  \n",
       "fips                     \n",
       "1001                  3  \n",
       "1003                  4  \n",
       "1005                  6  \n",
       "1007                  2  \n",
       "1009                  2  \n",
       "...                 ...  \n",
       "56037                 5  \n",
       "56039                 5  \n",
       "56041                 5  \n",
       "56043                 6  \n",
       "56045                 6  \n",
       "\n",
       "[3140 rows x 69 columns]"
      ]
     },
     "execution_count": 17,
     "metadata": {},
     "output_type": "execute_result"
    }
   ],
   "source": [
    "df.set_index('fips')"
   ]
  },
  {
   "cell_type": "code",
   "execution_count": 14,
   "id": "c56d9086",
   "metadata": {},
   "outputs": [
    {
     "name": "stdout",
     "output_type": "stream",
     "text": [
      "<class 'pandas.core.frame.DataFrame'>\n",
      "RangeIndex: 3140 entries, 0 to 3139\n",
      "Data columns (total 71 columns):\n",
      " #   Column                                                                         Non-Null Count  Dtype  \n",
      "---  ------                                                                         --------------  -----  \n",
      " 0   fips                                                                           3140 non-null   int64  \n",
      " 1   TOT_POP                                                                        3140 non-null   int64  \n",
      " 2   0-9                                                                            3140 non-null   int64  \n",
      " 3   10-19                                                                          3140 non-null   int64  \n",
      " 4   20-29                                                                          3140 non-null   int64  \n",
      " 5   30-39                                                                          3140 non-null   int64  \n",
      " 6   40-49                                                                          3140 non-null   int64  \n",
      " 7   50-59                                                                          3140 non-null   int64  \n",
      " 8   60-69                                                                          3140 non-null   int64  \n",
      " 9   70-79                                                                          3140 non-null   int64  \n",
      " 10  80+                                                                            3140 non-null   int64  \n",
      " 11  White-alone pop                                                                3140 non-null   int64  \n",
      " 12  Black-alone pop                                                                3140 non-null   int64  \n",
      " 13  Native American/American Indian-alone pop                                      3140 non-null   int64  \n",
      " 14  Asian-alone pop                                                                3140 non-null   int64  \n",
      " 15  Hawaiian/Pacific Islander-alone pop                                            3140 non-null   int64  \n",
      " 16  Two or more races pop                                                          3140 non-null   int64  \n",
      " 17  POP_ESTIMATE_2018                                                              3140 non-null   int64  \n",
      " 18  N_POP_CHG_2018                                                                 3140 non-null   float64\n",
      " 19  GQ_ESTIMATES_2018                                                              3140 non-null   float64\n",
      " 20  R_birth_2018                                                                   3140 non-null   float64\n",
      " 21  R_death_2018                                                                   3140 non-null   float64\n",
      " 22  R_NATURAL_INC_2018                                                             3140 non-null   float64\n",
      " 23  R_INTERNATIONAL_MIG_2018                                                       3140 non-null   float64\n",
      " 24  R_DOMESTIC_MIG_2018                                                            3140 non-null   float64\n",
      " 25  R_NET_MIG_2018                                                                 3140 non-null   float64\n",
      " 26  Less than a high school diploma 2014-18                                        3140 non-null   int64  \n",
      " 27  High school diploma only 2014-18                                               3140 non-null   int64  \n",
      " 28  Some college or associate's degree 2014-18                                     3140 non-null   int64  \n",
      " 29  Bachelor's degree or higher 2014-18                                            3140 non-null   int64  \n",
      " 30  Percent of adults with less than a high school diploma 2014-18                 3140 non-null   float64\n",
      " 31  Percent of adults with a high school diploma only 2014-18                      3140 non-null   float64\n",
      " 32  Percent of adults completing some college or associate's degree 2014-18        3140 non-null   float64\n",
      " 33  Percent of adults with a bachelor's degree or higher 2014-18                   3140 non-null   float64\n",
      " 34  POVALL_2018                                                                    3140 non-null   float64\n",
      " 35  PCTPOVALL_2018                                                                 3140 non-null   float64\n",
      " 36  PCTPOV017_2018                                                                 3140 non-null   float64\n",
      " 37  PCTPOV517_2018                                                                 3140 non-null   float64\n",
      " 38  MEDHHINC_2018                                                                  3140 non-null   float64\n",
      " 39  CI90LBINC_2018                                                                 3140 non-null   float64\n",
      " 40  CI90UBINC_2018                                                                 3140 non-null   float64\n",
      " 41  Civilian_labor_force_2018                                                      3140 non-null   float64\n",
      " 42  Employed_2018                                                                  3140 non-null   float64\n",
      " 43  Unemployed_2018                                                                3140 non-null   float64\n",
      " 44  Unemployment_rate_2018                                                         3140 non-null   float64\n",
      " 45  Median_Household_Income_2018                                                   3140 non-null   float64\n",
      " 46  Med_HH_Income_Percent_of_State_Total_2018                                      3140 non-null   float64\n",
      " 47  Active Physicians per 100000 Population 2018 (AAMC)                            3140 non-null   float64\n",
      " 48  Total Active Patient Care Physicians per 100000 Population 2018 (AAMC)         3140 non-null   float64\n",
      " 49  Active Primary Care Physicians per 100000 Population 2018 (AAMC)               3140 non-null   float64\n",
      " 50  Active Patient Care Primary Care Physicians per 100000 Population 2018 (AAMC)  3140 non-null   float64\n",
      " 51  Active General Surgeons per 100000 Population 2018 (AAMC)                      3140 non-null   float64\n",
      " 52  Active Patient Care General Surgeons per 100000 Population 2018 (AAMC)         3140 non-null   float64\n",
      " 53  Total nurse practitioners (2019)                                               3140 non-null   float64\n",
      " 54  Total physician assistants (2019)                                              3140 non-null   float64\n",
      " 55  Total Hospitals (2019)                                                         3140 non-null   float64\n",
      " 56  Internal Medicine Primary Care (2019)                                          3140 non-null   float64\n",
      " 57  Family Medicine/General Practice Primary Care (2019)                           3140 non-null   float64\n",
      " 58  Total Specialist Physicians (2019)                                             3140 non-null   float64\n",
      " 59  ICU Beds_x                                                                     3140 non-null   float64\n",
      " 60  Total Population                                                               3140 non-null   int64  \n",
      " 61  Population Aged 60+                                                            3140 non-null   int64  \n",
      " 62  COUNTY_NAME                                                                    3140 non-null   object \n",
      " 63  county_pop2018_18 and older                                                    3140 non-null   int64  \n",
      " 64  anycondition_number                                                            3140 non-null   int64  \n",
      " 65  Obesity_number                                                                 3140 non-null   int64  \n",
      " 66  Heart disease_number                                                           3140 non-null   int64  \n",
      " 67  COPD_number                                                                    3140 non-null   int64  \n",
      " 68  diabetes_number                                                                3140 non-null   int64  \n",
      " 69  CKD_number                                                                     3140 non-null   int64  \n",
      " 70  Urban_rural_code                                                               3140 non-null   int64  \n",
      "dtypes: float64(38), int64(32), object(1)\n",
      "memory usage: 1.7+ MB\n"
     ]
    }
   ],
   "source": [
    "df.info()"
   ]
  },
  {
   "cell_type": "code",
   "execution_count": 17,
   "id": "a5abf285",
   "metadata": {},
   "outputs": [
    {
     "data": {
      "text/plain": [
       "Index(['fips', 'TOT_POP', '0-9', '10-19', '20-29', '30-39', '40-49', '50-59',\n",
       "       '60-69', '70-79', '80+', 'White-alone pop', 'Black-alone pop',\n",
       "       'Native American/American Indian-alone pop', 'Asian-alone pop',\n",
       "       'Hawaiian/Pacific Islander-alone pop', 'Two or more races pop',\n",
       "       'POP_ESTIMATE_2018', 'N_POP_CHG_2018', 'GQ_ESTIMATES_2018',\n",
       "       'R_birth_2018', 'R_death_2018', 'R_NATURAL_INC_2018',\n",
       "       'R_INTERNATIONAL_MIG_2018', 'R_DOMESTIC_MIG_2018', 'R_NET_MIG_2018',\n",
       "       'Less than a high school diploma 2014-18',\n",
       "       'High school diploma only 2014-18',\n",
       "       'Some college or associate's degree 2014-18',\n",
       "       'Bachelor's degree or higher 2014-18',\n",
       "       'Percent of adults with less than a high school diploma 2014-18',\n",
       "       'Percent of adults with a high school diploma only 2014-18',\n",
       "       'Percent of adults completing some college or associate's degree 2014-18',\n",
       "       'Percent of adults with a bachelor's degree or higher 2014-18',\n",
       "       'POVALL_2018', 'PCTPOVALL_2018', 'PCTPOV017_2018', 'PCTPOV517_2018',\n",
       "       'MEDHHINC_2018', 'CI90LBINC_2018', 'CI90UBINC_2018',\n",
       "       'Civilian_labor_force_2018', 'Employed_2018', 'Unemployed_2018',\n",
       "       'Unemployment_rate_2018', 'Median_Household_Income_2018',\n",
       "       'Med_HH_Income_Percent_of_State_Total_2018',\n",
       "       'Active Physicians per 100000 Population 2018 (AAMC)',\n",
       "       'Total Active Patient Care Physicians per 100000 Population 2018 (AAMC)',\n",
       "       'Active Primary Care Physicians per 100000 Population 2018 (AAMC)',\n",
       "       'Active Patient Care Primary Care Physicians per 100000 Population 2018 (AAMC)',\n",
       "       'Active General Surgeons per 100000 Population 2018 (AAMC)',\n",
       "       'Active Patient Care General Surgeons per 100000 Population 2018 (AAMC)',\n",
       "       'Total nurse practitioners (2019)', 'Total physician assistants (2019)',\n",
       "       'Total Hospitals (2019)', 'Internal Medicine Primary Care (2019)',\n",
       "       'Family Medicine/General Practice Primary Care (2019)',\n",
       "       'Total Specialist Physicians (2019)', 'ICU Beds_x', 'Total Population',\n",
       "       'Population Aged 60+', 'county_pop2018_18 and older',\n",
       "       'anycondition_number', 'Obesity_number', 'Heart disease_number',\n",
       "       'COPD_number', 'diabetes_number', 'CKD_number', 'Urban_rural_code'],\n",
       "      dtype='object')"
      ]
     },
     "execution_count": 17,
     "metadata": {},
     "output_type": "execute_result"
    }
   ],
   "source": [
    "df.columns\n"
   ]
  },
  {
   "cell_type": "markdown",
   "id": "a410f169",
   "metadata": {},
   "source": [
    "# Milestone II: Modeling"
   ]
  },
  {
   "cell_type": "code",
   "execution_count": 32,
   "id": "0cad26b0",
   "metadata": {},
   "outputs": [],
   "source": [
    "from sklearn.model_selection import cross_val_score\n",
    "from sklearn.model_selection import RepeatedKFold\n",
    "from sklearn.linear_model import Lasso\n",
    "import statistics\n",
    "import numpy as np"
   ]
  },
  {
   "cell_type": "code",
   "execution_count": 27,
   "id": "a304c27b",
   "metadata": {},
   "outputs": [],
   "source": [
    "features = ['TOT_POP',\"Some college or associate's degree 2014-18\",\"Bachelor's degree or higher 2014-18\",'Civilian_labor_force_2018', \n",
    "            'Employed_2018','Unemployed_2018', 'Median_Household_Income_2018','Total Population','Population Aged 60+','80+',\n",
    "            'county_pop2018_18 and older','anycondition_number', 'Obesity_number','Heart disease_number','COPD_number', 'diabetes_number',\n",
    "            'CKD_number', 'Urban_rural_code']\n",
    "\n",
    "outcome=['ICU Beds_x','Total Specialist Physicians (2019)','Active Physicians per 100000 Population 2018 (AAMC)']\n"
   ]
  },
  {
   "cell_type": "code",
   "execution_count": null,
   "id": "4851c81b",
   "metadata": {},
   "outputs": [],
   "source": [
    "#Scale features"
   ]
  },
  {
   "cell_type": "code",
   "execution_count": 30,
   "id": "7af271bc",
   "metadata": {},
   "outputs": [],
   "source": [
    "X = df[features]"
   ]
  },
  {
   "cell_type": "code",
   "execution_count": 34,
   "id": "dd4f1afa",
   "metadata": {},
   "outputs": [
    {
     "name": "stderr",
     "output_type": "stream",
     "text": [
      "c:\\Users\\danie\\anaconda3\\envs\\covid-outcomes-research\\lib\\site-packages\\sklearn\\linear_model\\_coordinate_descent.py:647: ConvergenceWarning: Objective did not converge. You might want to increase the number of iterations, check the scale of the features or consider increasing regularisation. Duality gap: 1.284e+06, tolerance: 2.247e+03\n",
      "  model = cd_fast.enet_coordinate_descent(\n",
      "c:\\Users\\danie\\anaconda3\\envs\\covid-outcomes-research\\lib\\site-packages\\sklearn\\linear_model\\_coordinate_descent.py:647: ConvergenceWarning: Objective did not converge. You might want to increase the number of iterations, check the scale of the features or consider increasing regularisation. Duality gap: 1.655e+07, tolerance: 9.257e+04\n",
      "  model = cd_fast.enet_coordinate_descent(\n",
      "c:\\Users\\danie\\anaconda3\\envs\\covid-outcomes-research\\lib\\site-packages\\sklearn\\linear_model\\_coordinate_descent.py:647: ConvergenceWarning: Objective did not converge. You might want to increase the number of iterations, check the scale of the features or consider increasing regularisation. Duality gap: 2.266e+06, tolerance: 5.614e+02\n",
      "  model = cd_fast.enet_coordinate_descent(\n",
      "c:\\Users\\danie\\anaconda3\\envs\\covid-outcomes-research\\lib\\site-packages\\sklearn\\linear_model\\_coordinate_descent.py:647: ConvergenceWarning: Objective did not converge. You might want to increase the number of iterations, check the scale of the features or consider increasing regularisation. Duality gap: 1.284e+06, tolerance: 2.247e+03\n",
      "  model = cd_fast.enet_coordinate_descent(\n",
      "c:\\Users\\danie\\anaconda3\\envs\\covid-outcomes-research\\lib\\site-packages\\sklearn\\linear_model\\_coordinate_descent.py:647: ConvergenceWarning: Objective did not converge. You might want to increase the number of iterations, check the scale of the features or consider increasing regularisation. Duality gap: 1.655e+07, tolerance: 9.257e+04\n",
      "  model = cd_fast.enet_coordinate_descent(\n",
      "c:\\Users\\danie\\anaconda3\\envs\\covid-outcomes-research\\lib\\site-packages\\sklearn\\linear_model\\_coordinate_descent.py:647: ConvergenceWarning: Objective did not converge. You might want to increase the number of iterations, check the scale of the features or consider increasing regularisation. Duality gap: 2.266e+06, tolerance: 5.614e+02\n",
      "  model = cd_fast.enet_coordinate_descent(\n",
      "c:\\Users\\danie\\anaconda3\\envs\\covid-outcomes-research\\lib\\site-packages\\sklearn\\linear_model\\_coordinate_descent.py:647: ConvergenceWarning: Objective did not converge. You might want to increase the number of iterations, check the scale of the features or consider increasing regularisation. Duality gap: 1.285e+06, tolerance: 2.247e+03\n",
      "  model = cd_fast.enet_coordinate_descent(\n",
      "c:\\Users\\danie\\anaconda3\\envs\\covid-outcomes-research\\lib\\site-packages\\sklearn\\linear_model\\_coordinate_descent.py:647: ConvergenceWarning: Objective did not converge. You might want to increase the number of iterations, check the scale of the features or consider increasing regularisation. Duality gap: 1.656e+07, tolerance: 9.257e+04\n",
      "  model = cd_fast.enet_coordinate_descent(\n",
      "c:\\Users\\danie\\anaconda3\\envs\\covid-outcomes-research\\lib\\site-packages\\sklearn\\linear_model\\_coordinate_descent.py:647: ConvergenceWarning: Objective did not converge. You might want to increase the number of iterations, check the scale of the features or consider increasing regularisation. Duality gap: 2.266e+06, tolerance: 5.614e+02\n",
      "  model = cd_fast.enet_coordinate_descent(\n",
      "c:\\Users\\danie\\anaconda3\\envs\\covid-outcomes-research\\lib\\site-packages\\sklearn\\linear_model\\_coordinate_descent.py:647: ConvergenceWarning: Objective did not converge. You might want to increase the number of iterations, check the scale of the features or consider increasing regularisation. Duality gap: 1.286e+06, tolerance: 2.247e+03\n",
      "  model = cd_fast.enet_coordinate_descent(\n",
      "c:\\Users\\danie\\anaconda3\\envs\\covid-outcomes-research\\lib\\site-packages\\sklearn\\linear_model\\_coordinate_descent.py:647: ConvergenceWarning: Objective did not converge. You might want to increase the number of iterations, check the scale of the features or consider increasing regularisation. Duality gap: 1.656e+07, tolerance: 9.257e+04\n",
      "  model = cd_fast.enet_coordinate_descent(\n",
      "c:\\Users\\danie\\anaconda3\\envs\\covid-outcomes-research\\lib\\site-packages\\sklearn\\linear_model\\_coordinate_descent.py:647: ConvergenceWarning: Objective did not converge. You might want to increase the number of iterations, check the scale of the features or consider increasing regularisation. Duality gap: 2.266e+06, tolerance: 5.614e+02\n",
      "  model = cd_fast.enet_coordinate_descent(\n",
      "c:\\Users\\danie\\anaconda3\\envs\\covid-outcomes-research\\lib\\site-packages\\sklearn\\linear_model\\_coordinate_descent.py:647: ConvergenceWarning: Objective did not converge. You might want to increase the number of iterations, check the scale of the features or consider increasing regularisation. Duality gap: 1.286e+06, tolerance: 2.247e+03\n",
      "  model = cd_fast.enet_coordinate_descent(\n",
      "c:\\Users\\danie\\anaconda3\\envs\\covid-outcomes-research\\lib\\site-packages\\sklearn\\linear_model\\_coordinate_descent.py:647: ConvergenceWarning: Objective did not converge. You might want to increase the number of iterations, check the scale of the features or consider increasing regularisation. Duality gap: 1.658e+07, tolerance: 9.257e+04\n",
      "  model = cd_fast.enet_coordinate_descent(\n",
      "c:\\Users\\danie\\anaconda3\\envs\\covid-outcomes-research\\lib\\site-packages\\sklearn\\linear_model\\_coordinate_descent.py:647: ConvergenceWarning: Objective did not converge. You might want to increase the number of iterations, check the scale of the features or consider increasing regularisation. Duality gap: 2.264e+06, tolerance: 5.614e+02\n",
      "  model = cd_fast.enet_coordinate_descent(\n"
     ]
    }
   ],
   "source": [
    "alpha_list=[0.01,0.1,0.8,1,10]\n",
    "\n",
    "for a in alpha_list:  \n",
    "\n",
    "  # define model\n",
    "  model = Lasso(alpha=a)\n",
    "\n",
    "  # define model evaluation method\n",
    "  cv = RepeatedKFold(n_splits=10, n_repeats=3, random_state=1)\n",
    "\n",
    "  # define a list of list\n",
    "  var_left=[]\n",
    "\n",
    "  for Z in outcome:\n",
    "\n",
    "  # in loop 1 Z = ICU Beds_x\n",
    "    y=df.loc[:, df.columns == Z].values\n",
    "\n",
    "    model.fit(X,y)\n",
    "    scores1 = cross_val_score(model, X, y, scoring='neg_mean_absolute_error', cv=cv, n_jobs=-1)\n",
    "\n",
    "    coef_list=abs(model.coef_)\n",
    "    \n",
    "    # count how many non-zero\n",
    "    np.count_nonzero(coef_list)\n",
    "\n",
    "    # know the location of non-zero coefficients\n",
    "    loc=np.where(coef_list == max(abs(coef_list)))[0][0]\n",
    "\n",
    "    # print the name of variables with non-zero coefficents\n",
    "    var_left.append(features[loc])\n"
   ]
  },
  {
   "cell_type": "code",
   "execution_count": 36,
   "id": "508cb09f",
   "metadata": {},
   "outputs": [
    {
     "name": "stderr",
     "output_type": "stream",
     "text": [
      "c:\\Users\\danie\\anaconda3\\envs\\covid-outcomes-research\\lib\\site-packages\\sklearn\\linear_model\\_coordinate_descent.py:647: ConvergenceWarning: Objective did not converge. You might want to increase the number of iterations, check the scale of the features or consider increasing regularisation. Duality gap: 1.284e+06, tolerance: 2.247e+03\n",
      "  model = cd_fast.enet_coordinate_descent(\n",
      "c:\\Users\\danie\\anaconda3\\envs\\covid-outcomes-research\\lib\\site-packages\\sklearn\\linear_model\\_coordinate_descent.py:647: ConvergenceWarning: Objective did not converge. You might want to increase the number of iterations, check the scale of the features or consider increasing regularisation. Duality gap: 1.655e+07, tolerance: 9.257e+04\n",
      "  model = cd_fast.enet_coordinate_descent(\n",
      "c:\\Users\\danie\\anaconda3\\envs\\covid-outcomes-research\\lib\\site-packages\\sklearn\\linear_model\\_coordinate_descent.py:647: ConvergenceWarning: Objective did not converge. You might want to increase the number of iterations, check the scale of the features or consider increasing regularisation. Duality gap: 2.266e+06, tolerance: 5.614e+02\n",
      "  model = cd_fast.enet_coordinate_descent(\n",
      "c:\\Users\\danie\\anaconda3\\envs\\covid-outcomes-research\\lib\\site-packages\\sklearn\\linear_model\\_coordinate_descent.py:647: ConvergenceWarning: Objective did not converge. You might want to increase the number of iterations, check the scale of the features or consider increasing regularisation. Duality gap: 1.284e+06, tolerance: 2.247e+03\n",
      "  model = cd_fast.enet_coordinate_descent(\n",
      "c:\\Users\\danie\\anaconda3\\envs\\covid-outcomes-research\\lib\\site-packages\\sklearn\\linear_model\\_coordinate_descent.py:647: ConvergenceWarning: Objective did not converge. You might want to increase the number of iterations, check the scale of the features or consider increasing regularisation. Duality gap: 1.655e+07, tolerance: 9.257e+04\n",
      "  model = cd_fast.enet_coordinate_descent(\n",
      "c:\\Users\\danie\\anaconda3\\envs\\covid-outcomes-research\\lib\\site-packages\\sklearn\\linear_model\\_coordinate_descent.py:647: ConvergenceWarning: Objective did not converge. You might want to increase the number of iterations, check the scale of the features or consider increasing regularisation. Duality gap: 2.266e+06, tolerance: 5.614e+02\n",
      "  model = cd_fast.enet_coordinate_descent(\n",
      "c:\\Users\\danie\\anaconda3\\envs\\covid-outcomes-research\\lib\\site-packages\\sklearn\\linear_model\\_coordinate_descent.py:647: ConvergenceWarning: Objective did not converge. You might want to increase the number of iterations, check the scale of the features or consider increasing regularisation. Duality gap: 1.285e+06, tolerance: 2.247e+03\n",
      "  model = cd_fast.enet_coordinate_descent(\n",
      "c:\\Users\\danie\\anaconda3\\envs\\covid-outcomes-research\\lib\\site-packages\\sklearn\\linear_model\\_coordinate_descent.py:647: ConvergenceWarning: Objective did not converge. You might want to increase the number of iterations, check the scale of the features or consider increasing regularisation. Duality gap: 1.656e+07, tolerance: 9.257e+04\n",
      "  model = cd_fast.enet_coordinate_descent(\n",
      "c:\\Users\\danie\\anaconda3\\envs\\covid-outcomes-research\\lib\\site-packages\\sklearn\\linear_model\\_coordinate_descent.py:647: ConvergenceWarning: Objective did not converge. You might want to increase the number of iterations, check the scale of the features or consider increasing regularisation. Duality gap: 2.266e+06, tolerance: 5.614e+02\n",
      "  model = cd_fast.enet_coordinate_descent(\n",
      "c:\\Users\\danie\\anaconda3\\envs\\covid-outcomes-research\\lib\\site-packages\\sklearn\\linear_model\\_coordinate_descent.py:647: ConvergenceWarning: Objective did not converge. You might want to increase the number of iterations, check the scale of the features or consider increasing regularisation. Duality gap: 1.286e+06, tolerance: 2.247e+03\n",
      "  model = cd_fast.enet_coordinate_descent(\n",
      "c:\\Users\\danie\\anaconda3\\envs\\covid-outcomes-research\\lib\\site-packages\\sklearn\\linear_model\\_coordinate_descent.py:647: ConvergenceWarning: Objective did not converge. You might want to increase the number of iterations, check the scale of the features or consider increasing regularisation. Duality gap: 1.656e+07, tolerance: 9.257e+04\n",
      "  model = cd_fast.enet_coordinate_descent(\n",
      "c:\\Users\\danie\\anaconda3\\envs\\covid-outcomes-research\\lib\\site-packages\\sklearn\\linear_model\\_coordinate_descent.py:647: ConvergenceWarning: Objective did not converge. You might want to increase the number of iterations, check the scale of the features or consider increasing regularisation. Duality gap: 2.266e+06, tolerance: 5.614e+02\n",
      "  model = cd_fast.enet_coordinate_descent(\n",
      "c:\\Users\\danie\\anaconda3\\envs\\covid-outcomes-research\\lib\\site-packages\\sklearn\\linear_model\\_coordinate_descent.py:647: ConvergenceWarning: Objective did not converge. You might want to increase the number of iterations, check the scale of the features or consider increasing regularisation. Duality gap: 1.286e+06, tolerance: 2.247e+03\n",
      "  model = cd_fast.enet_coordinate_descent(\n",
      "c:\\Users\\danie\\anaconda3\\envs\\covid-outcomes-research\\lib\\site-packages\\sklearn\\linear_model\\_coordinate_descent.py:647: ConvergenceWarning: Objective did not converge. You might want to increase the number of iterations, check the scale of the features or consider increasing regularisation. Duality gap: 1.658e+07, tolerance: 9.257e+04\n",
      "  model = cd_fast.enet_coordinate_descent(\n",
      "c:\\Users\\danie\\anaconda3\\envs\\covid-outcomes-research\\lib\\site-packages\\sklearn\\linear_model\\_coordinate_descent.py:647: ConvergenceWarning: Objective did not converge. You might want to increase the number of iterations, check the scale of the features or consider increasing regularisation. Duality gap: 2.264e+06, tolerance: 5.614e+02\n",
      "  model = cd_fast.enet_coordinate_descent(\n"
     ]
    }
   ],
   "source": [
    "alpha_list=[0.01,0.1,0.8,1,10]\n",
    "num_var_left=[]\n",
    "\n",
    "for a in alpha_list:  \n",
    "\n",
    "  # define model\n",
    "  model = Lasso(alpha=a)\n",
    "\n",
    "  # define model evaluation method\n",
    "  cv = RepeatedKFold(n_splits=10, n_repeats=3, random_state=1)\n",
    "\n",
    "  # define a list of list \n",
    "\n",
    "  for Z in outcome:\n",
    "\n",
    "  # in loop 1 Z = ICU Beds_x\n",
    "    y=df.loc[:, df.columns == Z].values\n",
    "\n",
    "    model.fit(X,y)\n",
    "    scores1 = cross_val_score(model, X, y, scoring='neg_mean_absolute_error', cv=cv, n_jobs=-1)\n",
    "\n",
    "    coef_list=abs(model.coef_)\n",
    "    \n",
    "    # count how many non-zero\n",
    "    np.count_nonzero(coef_list)\n",
    "    \n",
    "    # store \n",
    "    num_var_left.append(np.count_nonzero(coef_list))"
   ]
  },
  {
   "cell_type": "markdown",
   "id": "5794a7c0",
   "metadata": {},
   "source": [
    "\n",
    "\n",
    "1. LASSO Regression"
   ]
  },
  {
   "cell_type": "code",
   "execution_count": 81,
   "id": "396b567f",
   "metadata": {},
   "outputs": [],
   "source": [
    "from sklearn.linear_model import Lasso\n",
    "from sklearn.model_selection import train_test_split\n",
    "\n",
    "X_train, X_test, y_train, y_test = train_test_split(X, y, test_size=0.3, random_state=42)"
   ]
  },
  {
   "cell_type": "code",
   "execution_count": 82,
   "id": "be82acc5",
   "metadata": {},
   "outputs": [],
   "source": [
    "lasso = Lasso(alpha=1.0)"
   ]
  },
  {
   "cell_type": "code",
   "execution_count": 83,
   "id": "c62cad27",
   "metadata": {},
   "outputs": [
    {
     "name": "stderr",
     "output_type": "stream",
     "text": [
      "C:\\Users\\danie\\anaconda3\\lib\\site-packages\\sklearn\\linear_model\\_coordinate_descent.py:647: ConvergenceWarning: Objective did not converge. You might want to increase the number of iterations, check the scale of the features or consider increasing regularisation. Duality gap: 7.178e+05, tolerance: 1.866e+03\n",
      "  model = cd_fast.enet_coordinate_descent(\n"
     ]
    },
    {
     "data": {
      "text/plain": [
       "Lasso()"
      ]
     },
     "execution_count": 83,
     "metadata": {},
     "output_type": "execute_result"
    }
   ],
   "source": [
    "lasso.fit(X_train, y_train)"
   ]
  },
  {
   "cell_type": "code",
   "execution_count": 84,
   "id": "ae7bab3a",
   "metadata": {},
   "outputs": [
    {
     "data": {
      "text/plain": [
       "(0.8267594402278158, 0.9245026531386185)"
      ]
     },
     "execution_count": 84,
     "metadata": {},
     "output_type": "execute_result"
    }
   ],
   "source": [
    "lasso.score(X_test, y_test), lasso.score(X_train, y_train)"
   ]
  },
  {
   "cell_type": "code",
   "execution_count": 85,
   "id": "eceaea86",
   "metadata": {},
   "outputs": [
    {
     "data": {
      "text/plain": [
       "array([ 2.47724843e-05,  1.64254291e-04, -1.03205667e-03, -6.13337194e-05,\n",
       "        1.26109214e-03,  2.12480364e-04, -1.07841790e-03,  1.53094395e-03,\n",
       "       -3.69838677e-04, -3.95743749e-03,  6.28836564e-03, -1.10071807e-04,\n",
       "        1.27137389e-04, -5.94469528e-05, -6.02257692e-04, -2.06555463e-03,\n",
       "        1.23593172e-03,  1.31806873e-05,  3.52552709e-04,  1.45098060e-03,\n",
       "        6.02413129e-01, -0.00000000e+00,  9.63639923e-03, -0.00000000e+00,\n",
       "       -0.00000000e+00, -5.85313701e-03,  1.23771437e-04, -7.05131394e-05,\n",
       "        2.95171949e-04,  8.25560691e-04,  0.00000000e+00, -1.35182680e-01,\n",
       "        8.71171361e-03, -1.88303017e-02,  4.56557596e-04, -8.90975053e-01,\n",
       "        3.41619462e-01,  2.47727651e-01, -5.78953130e-04, -3.50786415e-04,\n",
       "        6.36624063e-04, -1.80040107e-04, -2.31441870e-06,  1.22997002e-03,\n",
       "       -0.00000000e+00,  2.02666357e-04, -7.26885813e-02, -0.00000000e+00,\n",
       "        0.00000000e+00,  5.28268377e-02,  0.00000000e+00,  0.00000000e+00,\n",
       "        0.00000000e+00, -6.70770097e-02, -3.07270033e-01,  2.99233233e+00,\n",
       "       -2.29013415e-01, -1.45919113e-01,  4.77129560e-02, -3.70464525e-05,\n",
       "        4.79222298e-04, -1.17338135e-04,  1.95557650e-04, -1.30530563e-04,\n",
       "       -2.11601570e-03,  6.05965738e-03, -1.32989153e-03, -2.66178613e-03,\n",
       "        0.00000000e+00])"
      ]
     },
     "execution_count": 85,
     "metadata": {},
     "output_type": "execute_result"
    }
   ],
   "source": [
    "lasso.coef_"
   ]
  },
  {
   "cell_type": "code",
   "execution_count": 86,
   "id": "89a709b8",
   "metadata": {},
   "outputs": [],
   "source": [
    "from sklearn import datasets\n",
    "from sklearn.linear_model import LassoCV\n",
    "from sklearn.model_selection import train_test_split"
   ]
  },
  {
   "cell_type": "code",
   "execution_count": 87,
   "id": "1e66fb35",
   "metadata": {},
   "outputs": [],
   "source": [
    "lasso_cv = LassoCV(cv=5)"
   ]
  },
  {
   "cell_type": "code",
   "execution_count": 88,
   "id": "854a100c",
   "metadata": {},
   "outputs": [
    {
     "name": "stderr",
     "output_type": "stream",
     "text": [
      "C:\\Users\\danie\\anaconda3\\lib\\site-packages\\sklearn\\linear_model\\_coordinate_descent.py:1571: DataConversionWarning: A column-vector y was passed when a 1d array was expected. Please change the shape of y to (n_samples, ), for example using ravel().\n",
      "  y = column_or_1d(y, warn=True)\n",
      "C:\\Users\\danie\\anaconda3\\lib\\site-packages\\sklearn\\linear_model\\_coordinate_descent.py:633: ConvergenceWarning: Objective did not converge. You might want to increase the number of iterations. Duality gap: 2460.9505458106287, tolerance: 1968.6369407245209\n",
      "  model = cd_fast.enet_coordinate_descent_gram(\n",
      "C:\\Users\\danie\\anaconda3\\lib\\site-packages\\sklearn\\linear_model\\_coordinate_descent.py:633: ConvergenceWarning: Objective did not converge. You might want to increase the number of iterations. Duality gap: 5181.660808418877, tolerance: 1963.4263552547768\n",
      "  model = cd_fast.enet_coordinate_descent_gram(\n",
      "C:\\Users\\danie\\anaconda3\\lib\\site-packages\\sklearn\\linear_model\\_coordinate_descent.py:633: ConvergenceWarning: Objective did not converge. You might want to increase the number of iterations. Duality gap: 5720.529929933138, tolerance: 1963.4263552547768\n",
      "  model = cd_fast.enet_coordinate_descent_gram(\n",
      "C:\\Users\\danie\\anaconda3\\lib\\site-packages\\sklearn\\linear_model\\_coordinate_descent.py:633: ConvergenceWarning: Objective did not converge. You might want to increase the number of iterations. Duality gap: 5795.444239713252, tolerance: 1963.4263552547768\n",
      "  model = cd_fast.enet_coordinate_descent_gram(\n",
      "C:\\Users\\danie\\anaconda3\\lib\\site-packages\\sklearn\\linear_model\\_coordinate_descent.py:633: ConvergenceWarning: Objective did not converge. You might want to increase the number of iterations. Duality gap: 5664.986858263612, tolerance: 1963.4263552547768\n",
      "  model = cd_fast.enet_coordinate_descent_gram(\n",
      "C:\\Users\\danie\\anaconda3\\lib\\site-packages\\sklearn\\linear_model\\_coordinate_descent.py:633: ConvergenceWarning: Objective did not converge. You might want to increase the number of iterations. Duality gap: 11763.160154603422, tolerance: 1963.4263552547768\n",
      "  model = cd_fast.enet_coordinate_descent_gram(\n"
     ]
    },
    {
     "data": {
      "text/plain": [
       "LassoCV(cv=5)"
      ]
     },
     "execution_count": 88,
     "metadata": {},
     "output_type": "execute_result"
    }
   ],
   "source": [
    "lasso_cv.fit(X, y)"
   ]
  },
  {
   "cell_type": "code",
   "execution_count": 89,
   "id": "94e692bb",
   "metadata": {},
   "outputs": [
    {
     "data": {
      "text/plain": [
       "0.8573844506628032"
      ]
     },
     "execution_count": 89,
     "metadata": {},
     "output_type": "execute_result"
    }
   ],
   "source": [
    "lasso_cv.score(X, y)"
   ]
  },
  {
   "cell_type": "code",
   "execution_count": 90,
   "id": "11452a59",
   "metadata": {},
   "outputs": [
    {
     "data": {
      "text/plain": [
       "array([-0.00000000e+00,  0.00000000e+00, -0.00000000e+00, -0.00000000e+00,\n",
       "        0.00000000e+00,  0.00000000e+00, -0.00000000e+00, -0.00000000e+00,\n",
       "        0.00000000e+00,  0.00000000e+00,  0.00000000e+00,  0.00000000e+00,\n",
       "        2.10995149e-04, -0.00000000e+00, -1.95519794e-04, -0.00000000e+00,\n",
       "       -0.00000000e+00,  0.00000000e+00, -0.00000000e+00,  0.00000000e+00,\n",
       "        0.00000000e+00,  0.00000000e+00, -0.00000000e+00,  0.00000000e+00,\n",
       "       -0.00000000e+00, -0.00000000e+00, -0.00000000e+00,  0.00000000e+00,\n",
       "        0.00000000e+00,  0.00000000e+00, -0.00000000e+00, -0.00000000e+00,\n",
       "        0.00000000e+00,  0.00000000e+00,  0.00000000e+00,  0.00000000e+00,\n",
       "        0.00000000e+00,  0.00000000e+00, -0.00000000e+00, -0.00000000e+00,\n",
       "       -0.00000000e+00,  0.00000000e+00,  0.00000000e+00,  0.00000000e+00,\n",
       "       -0.00000000e+00, -0.00000000e+00, -0.00000000e+00, -0.00000000e+00,\n",
       "       -0.00000000e+00, -0.00000000e+00, -0.00000000e+00, -0.00000000e+00,\n",
       "        0.00000000e+00, -0.00000000e+00, -0.00000000e+00,  0.00000000e+00,\n",
       "       -0.00000000e+00,  0.00000000e+00, -0.00000000e+00,  3.12273250e-05,\n",
       "        0.00000000e+00,  2.47213886e-04,  0.00000000e+00,  0.00000000e+00,\n",
       "        0.00000000e+00,  0.00000000e+00,  0.00000000e+00,  0.00000000e+00,\n",
       "       -0.00000000e+00])"
      ]
     },
     "execution_count": 90,
     "metadata": {},
     "output_type": "execute_result"
    }
   ],
   "source": [
    "lasso_cv.coef_"
   ]
  }
 ],
 "metadata": {
  "interpreter": {
   "hash": "7d582fc2284aa7ddb4668399e199de814cc8938ead71c0cfdd4ed5743e90c22f"
  },
  "kernelspec": {
   "display_name": "Python 3 (ipykernel)",
   "language": "python",
   "name": "python3"
  },
  "language_info": {
   "codemirror_mode": {
    "name": "ipython",
    "version": 3
   },
   "file_extension": ".py",
   "mimetype": "text/x-python",
   "name": "python",
   "nbconvert_exporter": "python",
   "pygments_lexer": "ipython3",
   "version": "3.9.12"
  }
 },
 "nbformat": 4,
 "nbformat_minor": 5
}
